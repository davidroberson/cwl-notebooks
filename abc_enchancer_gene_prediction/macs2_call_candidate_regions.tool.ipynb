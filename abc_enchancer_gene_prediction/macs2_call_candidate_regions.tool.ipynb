{
 "cells": [
  {
   "cell_type": "markdown",
   "id": "f1a00565-1ce9-4804-b72e-0fd4bd67ca34",
   "metadata": {
    "jp-MarkdownHeadingCollapsed": true,
    "tags": []
   },
   "source": [
    "# Introduction"
   ]
  },
  {
   "cell_type": "markdown",
   "id": "36f61961-5277-4ebb-869b-e620d9775679",
   "metadata": {},
   "source": [
    "This notebook is a walkthrough of describing the 2nd 1 step in the ABC Enhancer Gene Prediction model\n",
    "\n",
    "[broadinstitute/ABC-Enhancer-Gene-Prediction: Cell type specific enhancer-gene predictions using ABC model (Fulco, Nasser et al, Nature Genetics 2019)](https://github.com/broadinstitute/ABC-Enhancer-Gene-Prediction)  \n",
    "\n",
    "We wrap the macs call candidate regions step.  The example code in the github repo is this\n",
    "\n",
    "```\n",
    "conda env create -f abcenv.yml\n",
    "\n",
    "python src/makeCandidateRegions.py \\\n",
    "--narrowPeak example_chr22/ABC_output/Peaks/wgEncodeUwDnaseK562AlnRep1.chr22.macs2_peaks.narrowPeak.sorted \\\n",
    "--bam example_chr22/input_data/Chromatin/wgEncodeUwDnaseK562AlnRep1.chr22.bam \\\n",
    "--outDir example_chr22/ABC_output/Peaks/ \\\n",
    "--chrom_sizes example_chr22/reference/chr22 \\\n",
    "--regions_blocklist reference/wgEncodeHg19ConsensusSignalArtifactRegions.bed \\\n",
    "--regions_includelist example_chr22/reference/RefSeqCurated.170308.bed.CollapsedGeneBounds.TSS500bp.chr22.bed \\\n",
    "--peakExtendFromSummit 250 \\\n",
    "--nStrongestPeaks 3000 \n",
    "\n",
    "```"
   ]
  },
  {
   "cell_type": "markdown",
   "id": "0af4d32f-13cd-4d0c-b4aa-48e36394c640",
   "metadata": {
    "jp-MarkdownHeadingCollapsed": true,
    "tags": []
   },
   "source": [
    "# Load packages"
   ]
  },
  {
   "cell_type": "code",
   "execution_count": 1,
   "id": "07af344b-782d-41ed-8530-711671948181",
   "metadata": {
    "tags": []
   },
   "outputs": [
    {
     "name": "stdout",
     "output_type": "stream",
     "text": [
      "Requirement already satisfied: yamlmagic in /usr/local/python/3.10.4/lib/python3.10/site-packages (0.2.0)\n",
      "Requirement already satisfied: pyyaml in /home/codespace/.local/lib/python3.10/site-packages (6.0)\n",
      "Requirement already satisfied: sevenbridges-python in /usr/local/python/3.10.4/lib/python3.10/site-packages (2.9.1)\n",
      "Requirement already satisfied: urllib3>=1.26.2 in /home/codespace/.local/lib/python3.10/site-packages (from sevenbridges-python) (1.26.15)\n",
      "Requirement already satisfied: requests>=2.25.1 in /home/codespace/.local/lib/python3.10/site-packages (from sevenbridges-python) (2.28.2)\n",
      "Requirement already satisfied: idna<4,>=2.5 in /home/codespace/.local/lib/python3.10/site-packages (from requests>=2.25.1->sevenbridges-python) (3.4)\n",
      "Requirement already satisfied: charset-normalizer<4,>=2 in /home/codespace/.local/lib/python3.10/site-packages (from requests>=2.25.1->sevenbridges-python) (3.1.0)\n",
      "Requirement already satisfied: certifi>=2017.4.17 in /home/codespace/.local/lib/python3.10/site-packages (from requests>=2.25.1->sevenbridges-python) (2022.12.7)\n",
      "\n",
      "\u001b[1m[\u001b[0m\u001b[34;49mnotice\u001b[0m\u001b[1;39;49m]\u001b[0m\u001b[39;49m A new release of pip is available: \u001b[0m\u001b[31;49m23.0.1\u001b[0m\u001b[39;49m -> \u001b[0m\u001b[32;49m23.1.1\u001b[0m\n",
      "\u001b[1m[\u001b[0m\u001b[34;49mnotice\u001b[0m\u001b[1;39;49m]\u001b[0m\u001b[39;49m To update, run: \u001b[0m\u001b[32;49mpip install --upgrade pip\u001b[0m\n",
      "Note: you may need to restart the kernel to use updated packages.\n"
     ]
    }
   ],
   "source": [
    "pip install yamlmagic pyyaml sevenbridges-python\n"
   ]
  },
  {
   "cell_type": "code",
   "execution_count": 2,
   "id": "658e5314-e9f7-4a12-9aa0-898c337a59b6",
   "metadata": {
    "jupyter": {
     "source_hidden": true
    }
   },
   "outputs": [],
   "source": [
    "#from sevenbridges import Api, ImportExportState\n",
    "import yaml\n",
    "import time\n",
    "import json\n",
    "import importlib\n",
    "import getpass\n",
    "import sevenbridges"
   ]
  },
  {
   "cell_type": "code",
   "execution_count": 3,
   "id": "67e2db23-604f-4937-bcb7-2d14030d3fe3",
   "metadata": {
    "jupyter": {
     "source_hidden": true
    }
   },
   "outputs": [],
   "source": [
    "%load_ext yamlmagic"
   ]
  },
  {
   "attachments": {},
   "cell_type": "markdown",
   "id": "231622e7",
   "metadata": {},
   "source": [
    "# A. CWL Description"
   ]
  },
  {
   "attachments": {},
   "cell_type": "markdown",
   "id": "efe56e3b-b619-437d-9397-0bceedf0eab6",
   "metadata": {
    "jp-MarkdownHeadingCollapsed": true,
    "tags": []
   },
   "source": [
    "## Section 1/4 - Tool Description"
   ]
  },
  {
   "cell_type": "code",
   "execution_count": 4,
   "id": "e4b17418-6b2d-4629-88a7-3264c2f81944",
   "metadata": {
    "tags": []
   },
   "outputs": [
    {
     "data": {
      "application/javascript": "\n            require(\n                [\n                    \"notebook/js/codecell\",\n                    \"codemirror/mode/yaml/yaml\"\n                ],\n                function(cc){\n                    cc.CodeCell.options_default.highlight_modes.magic_yaml = {\n                        reg: [\"^%%yaml\"]\n                    }\n                }\n            );\n            ",
      "text/plain": [
       "<IPython.core.display.Javascript object>"
      ]
     },
     "metadata": {},
     "output_type": "display_data"
    }
   ],
   "source": [
    "%%yaml label_and_description\n",
    "\n",
    "#### rarely changing header and bioler plate\n",
    "cwlVersion: v1.2\n",
    "class: CommandLineTool\n",
    "$namespaces:\n",
    "  sbg: https://sevenbridges.com\n",
    "hints:\n",
    "- class: sbg:SaveLogs\n",
    "  value: '*.sh'  \n",
    "\n",
    "#### Label  \n",
    "label: MACS2 Call Candidate Regions\n",
    "\n",
    "#### Tool Description\n",
    "\n",
    "doc: |-\n",
    "\n",
    "  The call candidate regions tool does this...\n",
    "  \n"
   ]
  },
  {
   "attachments": {},
   "cell_type": "markdown",
   "id": "edd2a20c-36f3-4fab-bbad-0395fe86e299",
   "metadata": {
    "jp-MarkdownHeadingCollapsed": true,
    "tags": []
   },
   "source": [
    "## Section 2/4 Tool Inputs"
   ]
  },
  {
   "cell_type": "markdown",
   "id": "97de3b53-b883-4bf6-9076-16686cfda052",
   "metadata": {},
   "source": [
    "example\n",
    "```\n",
    "- id: bam\n",
    "  type: File\n",
    "  secondaryFiles:\n",
    "  - pattern: .bai\n",
    "    required: true\n",
    "  sbg:fileTypes: BAM\n",
    "```"
   ]
  },
  {
   "cell_type": "code",
   "execution_count": 5,
   "id": "552af31a-3a3b-4353-a3e9-8ede4edce8ce",
   "metadata": {
    "jupyter": {
     "source_hidden": true
    }
   },
   "outputs": [
    {
     "data": {
      "application/javascript": "\n            require(\n                [\n                    \"notebook/js/codecell\",\n                    \"codemirror/mode/yaml/yaml\"\n                ],\n                function(cc){\n                    cc.CodeCell.options_default.highlight_modes.magic_yaml = {\n                        reg: [\"^%%yaml\"]\n                    }\n                }\n            );\n            ",
      "text/plain": [
       "<IPython.core.display.Javascript object>"
      ]
     },
     "metadata": {},
     "output_type": "display_data"
    }
   ],
   "source": [
    "%%yaml inputs\n",
    "\n",
    "inputs:\n",
    "#narrowPeak example_chr22/ABC_output/Peaks/wgEncodeUwDnaseK562AlnRep1.chr22.macs2_peaks.narrowPeak.sorted \\\n",
    "- id: narrow_peak\n",
    "  type: File\n",
    "\n",
    "#bam example_chr22/input_data/Chromatin/wgEncodeUwDnaseK562AlnRep1.chr22.bam\n",
    "- id: bam\n",
    "  type: File\n",
    "  sbg:fileTypes: BAM\n",
    "  secondaryFiles:\n",
    "  - pattern: .bai\n",
    "\n",
    "#chrom_sizes example_chr22/reference/chr22 \\\n",
    "- id: chr_sizes\n",
    "  type: File\n",
    "\n",
    "#regions_blocklist reference/wgEncodeHg19ConsensusSignalArtifactRegions.bed\n",
    "- id: regions_blocklist\n",
    "  type: File\n",
    "  sbg:fileTypes: BED\n",
    "\n",
    "#regions_includelist example_chr22/reference/RefSeqCurated.170308.bed.CollapsedGeneBounds.TSS500bp.chr22.bed\n",
    "- id: regions_includelist\n",
    "  type: File\n",
    "  sbg:fileTypes: BED\n"
   ]
  },
  {
   "attachments": {},
   "cell_type": "markdown",
   "id": "f3a736dd-888c-4a5d-a777-27e1e03e1715",
   "metadata": {
    "jp-MarkdownHeadingCollapsed": true,
    "tags": []
   },
   "source": [
    "## Section 3/4 Scripts and Other Requirements"
   ]
  },
  {
   "cell_type": "markdown",
   "id": "8d24417f-5e3d-4f46-8c64-42ee79b46499",
   "metadata": {},
   "source": [
    "inlines javascript examples  \n",
    "```\n",
    "$(inputs.bam.path) -n $(inputs.bam.nameroot).macs2\n",
    "```"
   ]
  },
  {
   "cell_type": "code",
   "execution_count": 6,
   "id": "d69f7ea2-adc8-4a58-9f16-e5967d0fcce0",
   "metadata": {
    "jupyter": {
     "source_hidden": true
    }
   },
   "outputs": [
    {
     "data": {
      "application/javascript": "\n            require(\n                [\n                    \"notebook/js/codecell\",\n                    \"codemirror/mode/yaml/yaml\"\n                ],\n                function(cc){\n                    cc.CodeCell.options_default.highlight_modes.magic_yaml = {\n                        reg: [\"^%%yaml\"]\n                    }\n                }\n            );\n            ",
      "text/plain": [
       "<IPython.core.display.Javascript object>"
      ]
     },
     "metadata": {},
     "output_type": "display_data"
    }
   ],
   "source": [
    "%%yaml base_command_and_requirements\n",
    "baseCommand:\n",
    "- bash\n",
    "- call_candidate_regions.sh\n",
    "requirements:\n",
    "- class: ShellCommandRequirement\n",
    "- class: InlineJavascriptRequirement\n",
    "- class: DockerRequirement\n",
    "  dockerPull: images.sb.biodatacatalyst.nhlbi.nih.gov/andrewblair/cardiac-compendium:2023042401\n",
    "- class: InitialWorkDirRequirement\n",
    "  listing:\n",
    "  - entryname: call_candidate_regions.sh\n",
    "    writable: false\n",
    "    entry: |-\n",
    "      #conda env create -f abcenv.yml\n",
    "\n",
    "      python3 /usr/src/app/src/makeCandidateRegions.py \\\n",
    "      --narrowPeak $(inputs.narrow_peak.path) \\\n",
    "      --bam $(inputs.bam.path) \\\n",
    "      --outDir ./ \\\n",
    "      --chrom_sizes $(inputs.chr_sizes.path) \\\n",
    "      --regions_blocklist $(inputs.regions_blocklist.path) \\\n",
    "      --regions_includelist $(inputs.regions_includelist.path) \\\n",
    "      --peakExtendFromSummit 250 \\\n",
    "      --nStrongestPeaks 3000 \n",
    "     \n"
   ]
  },
  {
   "attachments": {},
   "cell_type": "markdown",
   "id": "47b05eb8-4462-4d13-96bc-f699bf0f6406",
   "metadata": {
    "jp-MarkdownHeadingCollapsed": true,
    "tags": []
   },
   "source": [
    "## Section 4/4 Tool Outputs"
   ]
  },
  {
   "cell_type": "code",
   "execution_count": 7,
   "id": "3faf31ff-85c2-4fe8-b889-a750f80b4d8c",
   "metadata": {
    "jupyter": {
     "source_hidden": true
    }
   },
   "outputs": [
    {
     "data": {
      "application/javascript": "\n            require(\n                [\n                    \"notebook/js/codecell\",\n                    \"codemirror/mode/yaml/yaml\"\n                ],\n                function(cc){\n                    cc.CodeCell.options_default.highlight_modes.magic_yaml = {\n                        reg: [\"^%%yaml\"]\n                    }\n                }\n            );\n            ",
      "text/plain": [
       "<IPython.core.display.Javascript object>"
      ]
     },
     "metadata": {},
     "output_type": "display_data"
    }
   ],
   "source": [
    "%%yaml outputs\n",
    "outputs:\n",
    "- id: candidate_regions\n",
    "  type: File\n",
    "  outputBinding:\n",
    "    glob: '*candidateRegions.bed'\n",
    "- id: counts\n",
    "  type: File\n",
    "  outputBinding:\n",
    "    glob: '*Counts.bed'"
   ]
  },
  {
   "attachments": {},
   "cell_type": "markdown",
   "id": "5bbc49db",
   "metadata": {},
   "source": [
    "# B.  Create CWL and Test tool"
   ]
  },
  {
   "cell_type": "code",
   "execution_count": 8,
   "id": "ac68bced",
   "metadata": {},
   "outputs": [],
   "source": [
    "with open('step01B_macs2_call_candidate_regions.cwl', 'w') as f:\n",
    "    data = yaml.dump(label_and_description | inputs | base_command_and_requirements | outputs, f, sort_keys=False, default_flow_style=False)"
   ]
  },
  {
   "cell_type": "code",
   "execution_count": 9,
   "id": "5bc905dd",
   "metadata": {},
   "outputs": [],
   "source": [
    "%%bash\n",
    "#pip install cwltool"
   ]
  },
  {
   "cell_type": "code",
   "execution_count": 10,
   "id": "8c550c01",
   "metadata": {},
   "outputs": [
    {
     "name": "stderr",
     "output_type": "stream",
     "text": [
      "\u001b[1;30mINFO\u001b[0m /home/codespace/.python/current/bin/cwltool 3.1.20230325110543\n",
      "\u001b[1;30mINFO\u001b[0m Resolved 'step01B_macs2_call_candidate_regions.cwl' to 'file:///workspaces/cwl-notebooks/abc_enchancer_gene_prediction/step01B_macs2_call_candidate_regions.cwl'\n",
      "step01B_macs2_call_candidate_regions.cwl:6:3: Warning: checking item\n",
      "                                              Warning:   Field `class` contains undefined reference\n",
      "                                              to `https://sevenbridges.comSaveLogs`\n",
      "\u001b[1;30mINFO\u001b[0m step01B_macs2_call_candidate_regions.cwl:6:3: Unknown hint https://sevenbridges.comSaveLogs\n"
     ]
    },
    {
     "name": "stdout",
     "output_type": "stream",
     "text": [
      "usage: step01B_macs2_call_candidate_regions.cwl [-h] --narrow_peak NARROW_PEAK\n",
      "                                                --bam BAM --chr_sizes\n",
      "                                                CHR_SIZES --regions_blocklist\n",
      "                                                REGIONS_BLOCKLIST\n",
      "                                                --regions_includelist\n",
      "                                                REGIONS_INCLUDELIST\n",
      "                                                [job_order]\n",
      "\n",
      "The call candidate regions tool does this...\n",
      "\n",
      "positional arguments:\n",
      "  job_order             Job input json file\n",
      "\n",
      "options:\n",
      "  -h, --help            show this help message and exit\n",
      "  --narrow_peak NARROW_PEAK\n",
      "  --bam BAM\n",
      "  --chr_sizes CHR_SIZES\n",
      "  --regions_blocklist REGIONS_BLOCKLIST\n",
      "  --regions_includelist REGIONS_INCLUDELIST\n"
     ]
    }
   ],
   "source": [
    "%%bash\n",
    "cwltool --tool-help step01B_macs2_call_candidate_regions.cwl"
   ]
  },
  {
   "cell_type": "markdown",
   "id": "ecbfa189",
   "metadata": {},
   "source": [
    "--narrow_peak NARROW_PEAK\n",
    "  --bam wgEncodeUwDnaseK562AlnRep1.chr22.bam\n",
    "  --chr_sizes CHR_SIZES\n",
    "  --regions_blocklist REGIONS_BLOCKLIST\n",
    "  --regions_includelist REGIONS_INCLUDELIST"
   ]
  },
  {
   "cell_type": "code",
   "execution_count": 11,
   "id": "f586e58a",
   "metadata": {},
   "outputs": [
    {
     "name": "stderr",
     "output_type": "stream",
     "text": [
      "\u001b[1;30mINFO\u001b[0m /home/codespace/.python/current/bin/cwltool 3.1.20230325110543\n",
      "\u001b[1;30mINFO\u001b[0m Resolved 'macs2_call_candidate_regions.cwl' to 'file:///workspaces/cwl-notebooks/abc_enchancer_gene_prediction/macs2_call_candidate_regions.cwl'\n",
      "macs2_call_candidate_regions.cwl:64:3: Warning: checking item\n",
      "                                       Warning:   Field `class` contains undefined reference to\n",
      "                                       `https://sevenbridges.comSaveLogs`\n",
      "\u001b[1;30mINFO\u001b[0m macs2_call_candidate_regions.cwl:64:3: Unknown hint https://sevenbridges.comSaveLogs\n",
      "\u001b[1;30mERROR\u001b[0m \u001b[31mWorkflow error, try again with --debug for more information:\n",
      "macs2_call_candidate_regions.cwl:8:3: Missing required secondary file\n",
      "                                      'wgEncodeUwDnaseK562AlnRep1.chr22.bam.bai' from file object: {\n",
      "                                          \"class\": \"File\",\n",
      "                                          \"location\":\n",
      "                                          \"file:///workspaces/cwl-notebooks/tools/ABC-Enhancer-Gene-Prediction/example_chr22/input_data/Chromatin/wgEncodeUwDnaseK562AlnRep1.chr22.bam\",\n",
      "                                          \"basename\": \"wgEncodeUwDnaseK562AlnRep1.chr22.bam\",\n",
      "                                          \"nameroot\": \"wgEncodeUwDnaseK562AlnRep1.chr22\",\n",
      "                                          \"nameext\": \".bam\",\n",
      "                                          \"secondaryFiles\": []\n",
      "                                      }\u001b[0m\n"
     ]
    },
    {
     "ename": "CalledProcessError",
     "evalue": "Command 'b'cwltool macs2_call_candidate_regions.cwl \\\\\\n    --narrow_peak /workspaces/cwl-notebooks/tools/ABC-Enhancer-Gene-Prediction/example_chr22/input_data/Chromatin/wgEncodeUwDnaseK562.mergedPeaks.slop175.withTSS500bp.chr22.bed \\\\\\n    --bam /workspaces/cwl-notebooks/tools/ABC-Enhancer-Gene-Prediction/example_chr22/input_data/Chromatin/wgEncodeUwDnaseK562AlnRep1.chr22.bam \\\\\\n    --chr_sizes /workspaces/cwl-notebooks/tools/ABC-Enhancer-Gene-Prediction/example_chr22/reference/chr22 \\\\\\n    --regions_blocklist /workspaces/cwl-notebooks/tools/ABC-Enhancer-Gene-Prediction/reference/wgEncodeHg19ConsensusSignalArtifactRegions.bed \\\\\\n    --regions_includelist /workspaces/cwl-notebooks/tools/ABC-Enhancer-Gene-Prediction/example_chr22/reference/RefSeqCurated.170308.bed.CollapsedGeneBounds.TSS500bp.chr22.bed\\n'' returned non-zero exit status 1.",
     "output_type": "error",
     "traceback": [
      "\u001b[0;31m---------------------------------------------------------------------------\u001b[0m",
      "\u001b[0;31mCalledProcessError\u001b[0m                        Traceback (most recent call last)",
      "Cell \u001b[0;32mIn[11], line 1\u001b[0m\n\u001b[0;32m----> 1\u001b[0m get_ipython()\u001b[39m.\u001b[39;49mrun_cell_magic(\u001b[39m'\u001b[39;49m\u001b[39mbash\u001b[39;49m\u001b[39m'\u001b[39;49m, \u001b[39m'\u001b[39;49m\u001b[39m'\u001b[39;49m, \u001b[39m'\u001b[39;49m\u001b[39mcwltool macs2_call_candidate_regions.cwl \u001b[39;49m\u001b[39m\\\\\u001b[39;49;00m\u001b[39m\\n\u001b[39;49;00m\u001b[39m    --narrow_peak /workspaces/cwl-notebooks/tools/ABC-Enhancer-Gene-Prediction/example_chr22/input_data/Chromatin/wgEncodeUwDnaseK562.mergedPeaks.slop175.withTSS500bp.chr22.bed \u001b[39;49m\u001b[39m\\\\\u001b[39;49;00m\u001b[39m\\n\u001b[39;49;00m\u001b[39m    --bam /workspaces/cwl-notebooks/tools/ABC-Enhancer-Gene-Prediction/example_chr22/input_data/Chromatin/wgEncodeUwDnaseK562AlnRep1.chr22.bam \u001b[39;49m\u001b[39m\\\\\u001b[39;49;00m\u001b[39m\\n\u001b[39;49;00m\u001b[39m    --chr_sizes /workspaces/cwl-notebooks/tools/ABC-Enhancer-Gene-Prediction/example_chr22/reference/chr22 \u001b[39;49m\u001b[39m\\\\\u001b[39;49;00m\u001b[39m\\n\u001b[39;49;00m\u001b[39m    --regions_blocklist /workspaces/cwl-notebooks/tools/ABC-Enhancer-Gene-Prediction/reference/wgEncodeHg19ConsensusSignalArtifactRegions.bed \u001b[39;49m\u001b[39m\\\\\u001b[39;49;00m\u001b[39m\\n\u001b[39;49;00m\u001b[39m    --regions_includelist /workspaces/cwl-notebooks/tools/ABC-Enhancer-Gene-Prediction/example_chr22/reference/RefSeqCurated.170308.bed.CollapsedGeneBounds.TSS500bp.chr22.bed\u001b[39;49m\u001b[39m\\n\u001b[39;49;00m\u001b[39m'\u001b[39;49m)\n",
      "File \u001b[0;32m~/.local/lib/python3.10/site-packages/IPython/core/interactiveshell.py:2475\u001b[0m, in \u001b[0;36mInteractiveShell.run_cell_magic\u001b[0;34m(self, magic_name, line, cell)\u001b[0m\n\u001b[1;32m   2473\u001b[0m \u001b[39mwith\u001b[39;00m \u001b[39mself\u001b[39m\u001b[39m.\u001b[39mbuiltin_trap:\n\u001b[1;32m   2474\u001b[0m     args \u001b[39m=\u001b[39m (magic_arg_s, cell)\n\u001b[0;32m-> 2475\u001b[0m     result \u001b[39m=\u001b[39m fn(\u001b[39m*\u001b[39;49margs, \u001b[39m*\u001b[39;49m\u001b[39m*\u001b[39;49mkwargs)\n\u001b[1;32m   2477\u001b[0m \u001b[39m# The code below prevents the output from being displayed\u001b[39;00m\n\u001b[1;32m   2478\u001b[0m \u001b[39m# when using magics with decodator @output_can_be_silenced\u001b[39;00m\n\u001b[1;32m   2479\u001b[0m \u001b[39m# when the last Python token in the expression is a ';'.\u001b[39;00m\n\u001b[1;32m   2480\u001b[0m \u001b[39mif\u001b[39;00m \u001b[39mgetattr\u001b[39m(fn, magic\u001b[39m.\u001b[39mMAGIC_OUTPUT_CAN_BE_SILENCED, \u001b[39mFalse\u001b[39;00m):\n",
      "File \u001b[0;32m~/.local/lib/python3.10/site-packages/IPython/core/magics/script.py:153\u001b[0m, in \u001b[0;36mScriptMagics._make_script_magic.<locals>.named_script_magic\u001b[0;34m(line, cell)\u001b[0m\n\u001b[1;32m    151\u001b[0m \u001b[39melse\u001b[39;00m:\n\u001b[1;32m    152\u001b[0m     line \u001b[39m=\u001b[39m script\n\u001b[0;32m--> 153\u001b[0m \u001b[39mreturn\u001b[39;00m \u001b[39mself\u001b[39;49m\u001b[39m.\u001b[39;49mshebang(line, cell)\n",
      "File \u001b[0;32m~/.local/lib/python3.10/site-packages/IPython/core/magics/script.py:305\u001b[0m, in \u001b[0;36mScriptMagics.shebang\u001b[0;34m(self, line, cell)\u001b[0m\n\u001b[1;32m    300\u001b[0m \u001b[39mif\u001b[39;00m args\u001b[39m.\u001b[39mraise_error \u001b[39mand\u001b[39;00m p\u001b[39m.\u001b[39mreturncode \u001b[39m!=\u001b[39m \u001b[39m0\u001b[39m:\n\u001b[1;32m    301\u001b[0m     \u001b[39m# If we get here and p.returncode is still None, we must have\u001b[39;00m\n\u001b[1;32m    302\u001b[0m     \u001b[39m# killed it but not yet seen its return code. We don't wait for it,\u001b[39;00m\n\u001b[1;32m    303\u001b[0m     \u001b[39m# in case it's stuck in uninterruptible sleep. -9 = SIGKILL\u001b[39;00m\n\u001b[1;32m    304\u001b[0m     rc \u001b[39m=\u001b[39m p\u001b[39m.\u001b[39mreturncode \u001b[39mor\u001b[39;00m \u001b[39m-\u001b[39m\u001b[39m9\u001b[39m\n\u001b[0;32m--> 305\u001b[0m     \u001b[39mraise\u001b[39;00m CalledProcessError(rc, cell)\n",
      "\u001b[0;31mCalledProcessError\u001b[0m: Command 'b'cwltool macs2_call_candidate_regions.cwl \\\\\\n    --narrow_peak /workspaces/cwl-notebooks/tools/ABC-Enhancer-Gene-Prediction/example_chr22/input_data/Chromatin/wgEncodeUwDnaseK562.mergedPeaks.slop175.withTSS500bp.chr22.bed \\\\\\n    --bam /workspaces/cwl-notebooks/tools/ABC-Enhancer-Gene-Prediction/example_chr22/input_data/Chromatin/wgEncodeUwDnaseK562AlnRep1.chr22.bam \\\\\\n    --chr_sizes /workspaces/cwl-notebooks/tools/ABC-Enhancer-Gene-Prediction/example_chr22/reference/chr22 \\\\\\n    --regions_blocklist /workspaces/cwl-notebooks/tools/ABC-Enhancer-Gene-Prediction/reference/wgEncodeHg19ConsensusSignalArtifactRegions.bed \\\\\\n    --regions_includelist /workspaces/cwl-notebooks/tools/ABC-Enhancer-Gene-Prediction/example_chr22/reference/RefSeqCurated.170308.bed.CollapsedGeneBounds.TSS500bp.chr22.bed\\n'' returned non-zero exit status 1."
     ]
    }
   ],
   "source": [
    "%%bash\n",
    "cwltool macs2_call_candidate_regions.cwl \\\n",
    "    --narrow_peak /workspaces/cwl-notebooks/tools/ABC-Enhancer-Gene-Prediction/example_chr22/input_data/Chromatin/wgEncodeUwDnaseK562.mergedPeaks.slop175.withTSS500bp.chr22.bed \\\n",
    "    --bam /workspaces/cwl-notebooks/tools/ABC-Enhancer-Gene-Prediction/example_chr22/input_data/Chromatin/wgEncodeUwDnaseK562AlnRep1.chr22.bam \\\n",
    "    --chr_sizes /workspaces/cwl-notebooks/tools/ABC-Enhancer-Gene-Prediction/example_chr22/reference/chr22 \\\n",
    "    --regions_blocklist /workspaces/cwl-notebooks/tools/ABC-Enhancer-Gene-Prediction/reference/wgEncodeHg19ConsensusSignalArtifactRegions.bed \\\n",
    "    --regions_includelist /workspaces/cwl-notebooks/tools/ABC-Enhancer-Gene-Prediction/example_chr22/reference/RefSeqCurated.170308.bed.CollapsedGeneBounds.TSS500bp.chr22.bed"
   ]
  },
  {
   "attachments": {},
   "cell_type": "markdown",
   "id": "ae1d8c0b-70f1-4cd6-815e-249ce0590e95",
   "metadata": {
    "jp-MarkdownHeadingCollapsed": true,
    "tags": []
   },
   "source": [
    "# C. Push tool to platform"
   ]
  },
  {
   "cell_type": "code",
   "execution_count": 12,
   "id": "dbefbc1b",
   "metadata": {},
   "outputs": [
    {
     "name": "stdout",
     "output_type": "stream",
     "text": [
      "\n",
      "sbpack v2022.03.16\n",
      "Upload CWL apps to any Seven Bridges powered platform\n",
      "(c) Seven Bridges 2020\n",
      "\n"
     ]
    },
    {
     "name": "stderr",
     "output_type": "stream",
     "text": [
      "Packing step01B_macs2_call_candidate_regions.cwl\n"
     ]
    }
   ],
   "source": [
    "%%bash\n",
    "sbpack bdc dave/abc-development-scratch-project/makecandidateregions step01B_macs2_call_candidate_regions.cwl"
   ]
  },
  {
   "cell_type": "markdown",
   "id": "d392f473-1127-49ef-a70f-7728a0df3639",
   "metadata": {
    "tags": []
   },
   "source": [
    "# References"
   ]
  },
  {
   "cell_type": "markdown",
   "id": "1a715203-62c9-4da6-9d58-499d2372663e",
   "metadata": {},
   "source": [
    "https://docs.sevenbridges.com/reference/add-an-app-using-raw-cwl"
   ]
  }
 ],
 "metadata": {
  "kernelspec": {
   "display_name": "Python 3 (ipykernel)",
   "language": "python",
   "name": "python3"
  },
  "language_info": {
   "codemirror_mode": {
    "name": "ipython",
    "version": 3
   },
   "file_extension": ".py",
   "mimetype": "text/x-python",
   "name": "python",
   "nbconvert_exporter": "python",
   "pygments_lexer": "ipython3",
   "version": "3.10.4"
  },
  "toc-autonumbering": true,
  "toc-showcode": true,
  "toc-showmarkdowntxt": false
 },
 "nbformat": 4,
 "nbformat_minor": 5
}
