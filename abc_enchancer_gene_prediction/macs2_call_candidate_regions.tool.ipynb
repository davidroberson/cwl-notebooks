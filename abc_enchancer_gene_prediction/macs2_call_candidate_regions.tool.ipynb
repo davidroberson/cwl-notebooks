{
 "cells": [
  {
   "cell_type": "markdown",
   "id": "f1a00565-1ce9-4804-b72e-0fd4bd67ca34",
   "metadata": {
    "jp-MarkdownHeadingCollapsed": true,
    "tags": []
   },
   "source": [
    "# Introduction"
   ]
  },
  {
   "cell_type": "markdown",
   "id": "36f61961-5277-4ebb-869b-e620d9775679",
   "metadata": {},
   "source": [
    "This notebook is a walkthrough of describing the 2nd 1 step in the ABC Enhancer Gene Prediction model\n",
    "\n",
    "[broadinstitute/ABC-Enhancer-Gene-Prediction: Cell type specific enhancer-gene predictions using ABC model (Fulco, Nasser et al, Nature Genetics 2019)](https://github.com/broadinstitute/ABC-Enhancer-Gene-Prediction)  \n",
    "\n",
    "We wrap the macs call candidate regions step.  The example code in the github repo is this\n",
    "\n",
    "```\n",
    "conda env create -f abcenv.yml\n",
    "\n",
    "python src/makeCandidateRegions.py \\\n",
    "--narrowPeak example_chr22/ABC_output/Peaks/wgEncodeUwDnaseK562AlnRep1.chr22.macs2_peaks.narrowPeak.sorted \\\n",
    "--bam example_chr22/input_data/Chromatin/wgEncodeUwDnaseK562AlnRep1.chr22.bam \\\n",
    "--outDir example_chr22/ABC_output/Peaks/ \\\n",
    "--chrom_sizes example_chr22/reference/chr22 \\\n",
    "--regions_blocklist reference/wgEncodeHg19ConsensusSignalArtifactRegions.bed \\\n",
    "--regions_includelist example_chr22/reference/RefSeqCurated.170308.bed.CollapsedGeneBounds.TSS500bp.chr22.bed \\\n",
    "--peakExtendFromSummit 250 \\\n",
    "--nStrongestPeaks 3000 \n",
    "\n",
    "```"
   ]
  },
  {
   "cell_type": "markdown",
   "id": "0af4d32f-13cd-4d0c-b4aa-48e36394c640",
   "metadata": {
    "jp-MarkdownHeadingCollapsed": true,
    "tags": []
   },
   "source": [
    "# Load packages"
   ]
  },
  {
   "cell_type": "code",
   "execution_count": 1,
   "id": "07af344b-782d-41ed-8530-711671948181",
   "metadata": {
    "tags": []
   },
   "outputs": [
    {
     "name": "stdout",
     "output_type": "stream",
     "text": [
      "Requirement already satisfied: yamlmagic in /usr/local/python/3.10.4/lib/python3.10/site-packages (0.2.0)\n",
      "Requirement already satisfied: pyyaml in /home/codespace/.local/lib/python3.10/site-packages (6.0)\n",
      "Requirement already satisfied: sevenbridges-python in /usr/local/python/3.10.4/lib/python3.10/site-packages (2.9.1)\n",
      "Requirement already satisfied: requests>=2.25.1 in /home/codespace/.local/lib/python3.10/site-packages (from sevenbridges-python) (2.28.2)\n",
      "Requirement already satisfied: urllib3>=1.26.2 in /home/codespace/.local/lib/python3.10/site-packages (from sevenbridges-python) (1.26.15)\n",
      "Requirement already satisfied: idna<4,>=2.5 in /home/codespace/.local/lib/python3.10/site-packages (from requests>=2.25.1->sevenbridges-python) (3.4)\n",
      "Requirement already satisfied: certifi>=2017.4.17 in /home/codespace/.local/lib/python3.10/site-packages (from requests>=2.25.1->sevenbridges-python) (2022.12.7)\n",
      "Requirement already satisfied: charset-normalizer<4,>=2 in /home/codespace/.local/lib/python3.10/site-packages (from requests>=2.25.1->sevenbridges-python) (3.1.0)\n",
      "\n",
      "\u001b[1m[\u001b[0m\u001b[34;49mnotice\u001b[0m\u001b[1;39;49m]\u001b[0m\u001b[39;49m A new release of pip is available: \u001b[0m\u001b[31;49m23.0.1\u001b[0m\u001b[39;49m -> \u001b[0m\u001b[32;49m23.1.1\u001b[0m\n",
      "\u001b[1m[\u001b[0m\u001b[34;49mnotice\u001b[0m\u001b[1;39;49m]\u001b[0m\u001b[39;49m To update, run: \u001b[0m\u001b[32;49mpip install --upgrade pip\u001b[0m\n",
      "Note: you may need to restart the kernel to use updated packages.\n"
     ]
    }
   ],
   "source": [
    "pip install yamlmagic pyyaml sevenbridges-python\n"
   ]
  },
  {
   "cell_type": "code",
   "execution_count": 2,
   "id": "658e5314-e9f7-4a12-9aa0-898c337a59b6",
   "metadata": {
    "jupyter": {
     "source_hidden": true
    }
   },
   "outputs": [],
   "source": [
    "#from sevenbridges import Api, ImportExportState\n",
    "import yaml\n",
    "import time\n",
    "import json\n",
    "import importlib\n",
    "import getpass\n",
    "import sevenbridges"
   ]
  },
  {
   "cell_type": "code",
   "execution_count": 3,
   "id": "67e2db23-604f-4937-bcb7-2d14030d3fe3",
   "metadata": {
    "jupyter": {
     "source_hidden": true
    }
   },
   "outputs": [],
   "source": [
    "%load_ext yamlmagic"
   ]
  },
  {
   "attachments": {},
   "cell_type": "markdown",
   "id": "231622e7",
   "metadata": {},
   "source": [
    "# A. CWL Description"
   ]
  },
  {
   "attachments": {},
   "cell_type": "markdown",
   "id": "efe56e3b-b619-437d-9397-0bceedf0eab6",
   "metadata": {
    "jp-MarkdownHeadingCollapsed": true,
    "tags": []
   },
   "source": [
    "## Section 1/4 - Tool Description"
   ]
  },
  {
   "cell_type": "code",
   "execution_count": 4,
   "id": "e4b17418-6b2d-4629-88a7-3264c2f81944",
   "metadata": {
    "tags": []
   },
   "outputs": [
    {
     "data": {
      "application/javascript": "\n            require(\n                [\n                    \"notebook/js/codecell\",\n                    \"codemirror/mode/yaml/yaml\"\n                ],\n                function(cc){\n                    cc.CodeCell.options_default.highlight_modes.magic_yaml = {\n                        reg: [\"^%%yaml\"]\n                    }\n                }\n            );\n            ",
      "text/plain": [
       "<IPython.core.display.Javascript object>"
      ]
     },
     "metadata": {},
     "output_type": "display_data"
    }
   ],
   "source": [
    "%%yaml label_and_description\n",
    "\n",
    "#### rarely changing header and bioler plate\n",
    "cwlVersion: v1.2\n",
    "class: CommandLineTool\n",
    "$namespaces:\n",
    "  sbg: https://sevenbridges.com\n",
    "hints:\n",
    "- class: sbg:SaveLogs\n",
    "  value: '*.sh'  \n",
    "\n",
    "#### Label  \n",
    "label: MACS2 Call Candidate Regions\n",
    "\n",
    "#### Tool Description\n",
    "\n",
    "doc: |-\n",
    "\n",
    "  The call candidate regions tool does this...\n",
    "  \n"
   ]
  },
  {
   "attachments": {},
   "cell_type": "markdown",
   "id": "edd2a20c-36f3-4fab-bbad-0395fe86e299",
   "metadata": {
    "jp-MarkdownHeadingCollapsed": true,
    "tags": []
   },
   "source": [
    "## Section 2/4 Tool Inputs"
   ]
  },
  {
   "cell_type": "markdown",
   "id": "97de3b53-b883-4bf6-9076-16686cfda052",
   "metadata": {},
   "source": [
    "example\n",
    "```\n",
    "- id: bam\n",
    "  type: File\n",
    "  secondaryFiles:\n",
    "  - pattern: .bai\n",
    "    required: true\n",
    "  sbg:fileTypes: BAM\n",
    "```"
   ]
  },
  {
   "cell_type": "code",
   "execution_count": 5,
   "id": "552af31a-3a3b-4353-a3e9-8ede4edce8ce",
   "metadata": {
    "jupyter": {
     "source_hidden": true
    }
   },
   "outputs": [
    {
     "data": {
      "application/javascript": "\n            require(\n                [\n                    \"notebook/js/codecell\",\n                    \"codemirror/mode/yaml/yaml\"\n                ],\n                function(cc){\n                    cc.CodeCell.options_default.highlight_modes.magic_yaml = {\n                        reg: [\"^%%yaml\"]\n                    }\n                }\n            );\n            ",
      "text/plain": [
       "<IPython.core.display.Javascript object>"
      ]
     },
     "metadata": {},
     "output_type": "display_data"
    }
   ],
   "source": [
    "%%yaml inputs\n",
    "\n",
    "inputs:\n",
    "#narrowPeak example_chr22/ABC_output/Peaks/wgEncodeUwDnaseK562AlnRep1.chr22.macs2_peaks.narrowPeak.sorted \\\n",
    "- id: narrow_peak\n",
    "  type: File\n",
    "\n",
    "#bam example_chr22/input_data/Chromatin/wgEncodeUwDnaseK562AlnRep1.chr22.bam\n",
    "- id: bam\n",
    "  type: File\n",
    "  sbg:fileTypes: BAM\n",
    "  secondaryFiles:\n",
    "  - pattern: .bai\n",
    "\n",
    "#chrom_sizes example_chr22/reference/chr22 \\\n",
    "- id: chr_sizes\n",
    "  type: File\n",
    "\n",
    "#regions_blocklist reference/wgEncodeHg19ConsensusSignalArtifactRegions.bed\n",
    "- id: regions_blocklist\n",
    "  type: File\n",
    "  sbg:fileTypes: BED\n",
    "\n",
    "#regions_includelist example_chr22/reference/RefSeqCurated.170308.bed.CollapsedGeneBounds.TSS500bp.chr22.bed\n",
    "- id: regions_includelist\n",
    "  type: File\n",
    "  sbg:fileTypes: BED\n"
   ]
  },
  {
   "attachments": {},
   "cell_type": "markdown",
   "id": "f3a736dd-888c-4a5d-a777-27e1e03e1715",
   "metadata": {
    "jp-MarkdownHeadingCollapsed": true,
    "tags": []
   },
   "source": [
    "## Section 3/4 Scripts and Other Requirements"
   ]
  },
  {
   "cell_type": "markdown",
   "id": "8d24417f-5e3d-4f46-8c64-42ee79b46499",
   "metadata": {},
   "source": [
    "inlines javascript examples  \n",
    "```\n",
    "$(inputs.bam.path) -n $(inputs.bam.nameroot).macs2\n",
    "```"
   ]
  },
  {
   "cell_type": "code",
   "execution_count": 6,
   "id": "d69f7ea2-adc8-4a58-9f16-e5967d0fcce0",
   "metadata": {
    "jupyter": {
     "source_hidden": true
    }
   },
   "outputs": [
    {
     "data": {
      "application/javascript": "\n            require(\n                [\n                    \"notebook/js/codecell\",\n                    \"codemirror/mode/yaml/yaml\"\n                ],\n                function(cc){\n                    cc.CodeCell.options_default.highlight_modes.magic_yaml = {\n                        reg: [\"^%%yaml\"]\n                    }\n                }\n            );\n            ",
      "text/plain": [
       "<IPython.core.display.Javascript object>"
      ]
     },
     "metadata": {},
     "output_type": "display_data"
    }
   ],
   "source": [
    "%%yaml base_command_and_requirements\n",
    "requirements:\n",
    "- class: ShellCommandRequirement\n",
    "- class: InlineJavascriptRequirement\n",
    "- class: DockerRequirement\n",
    "  dockerPull: images.sb.biodatacatalyst.nhlbi.nih.gov/andrewblair/cardiac-compendium:2023042401\n",
    "- class: InitialWorkDirRequirement\n",
    "  listing:\n",
    "  - entryname: call_candidate_regions.sh\n",
    "    writable: false\n",
    "    entry: |-\n",
    "      #conda env create -f abcenv.yml\n",
    "\n",
    "      python3 /usr/src/app/src/makeCandidateRegions.py \\\n",
    "      --narrowPeak $(inputs.narrow_peak.path) \\\n",
    "      --bam $(inputs.bam.path) \\\n",
    "      --outDir ./ \\\n",
    "      --chrom_sizes $(inputs.chr_sizes.path) \\\n",
    "      --regions_blocklist $(inputs.regions_blocklist.path) \\\n",
    "      --regions_includelist $(inputs.regions_includelist.path) \\\n",
    "      --peakExtendFromSummit 250 \\\n",
    "      --nStrongestPeaks 3000 \n",
    "     \n"
   ]
  },
  {
   "attachments": {},
   "cell_type": "markdown",
   "id": "47b05eb8-4462-4d13-96bc-f699bf0f6406",
   "metadata": {
    "jp-MarkdownHeadingCollapsed": true,
    "tags": []
   },
   "source": [
    "## Section 4/4 Tool Outputs"
   ]
  },
  {
   "cell_type": "code",
   "execution_count": 7,
   "id": "3faf31ff-85c2-4fe8-b889-a750f80b4d8c",
   "metadata": {
    "jupyter": {
     "source_hidden": true
    }
   },
   "outputs": [
    {
     "data": {
      "application/javascript": "\n            require(\n                [\n                    \"notebook/js/codecell\",\n                    \"codemirror/mode/yaml/yaml\"\n                ],\n                function(cc){\n                    cc.CodeCell.options_default.highlight_modes.magic_yaml = {\n                        reg: [\"^%%yaml\"]\n                    }\n                }\n            );\n            ",
      "text/plain": [
       "<IPython.core.display.Javascript object>"
      ]
     },
     "metadata": {},
     "output_type": "display_data"
    }
   ],
   "source": [
    "%%yaml outputs\n",
    "outputs:\n",
    "- id: candidate_regions\n",
    "  type: File\n",
    "  outputBinding:\n",
    "    glob: '*candidateRegions.bed'\n",
    "- id: counts\n",
    "  type: File\n",
    "  outputBinding:\n",
    "    glob: '*Counts.bed'"
   ]
  },
  {
   "attachments": {},
   "cell_type": "markdown",
   "id": "5bbc49db",
   "metadata": {},
   "source": [
    "# B.  Create CWL and Test tool"
   ]
  },
  {
   "cell_type": "code",
   "execution_count": 8,
   "id": "ac68bced",
   "metadata": {},
   "outputs": [],
   "source": [
    "with open('step01B_macs2_call_candidate_regions.cwl', 'w') as f:\n",
    "    data = yaml.dump(label_and_description | inputs | base_command_and_requirements | outputs, f, sort_keys=False, default_flow_style=False)"
   ]
  },
  {
   "cell_type": "code",
   "execution_count": 29,
   "id": "5bc905dd",
   "metadata": {},
   "outputs": [
    {
     "name": "stdout",
     "output_type": "stream",
     "text": [
      "Collecting cwltool\n",
      "  Downloading cwltool-3.1.20230325110543-py3-none-any.whl (1.3 MB)\n",
      "\u001b[2K     \u001b[90m━━━━━━━━━━━━━━━━━━━━━━━━━━━━━━━━━━━━━━━━\u001b[0m \u001b[32m1.3/1.3 MB\u001b[0m \u001b[31m19.6 MB/s\u001b[0m eta \u001b[36m0:00:00\u001b[0m00:01\u001b[0m\n",
      "\u001b[?25hCollecting shellescape<3.9,>=3.4.1\n",
      "  Downloading shellescape-3.8.1-py2.py3-none-any.whl (3.1 kB)\n",
      "Collecting rdflib<6.4.0,>=4.2.2\n",
      "  Downloading rdflib-6.3.2-py3-none-any.whl (528 kB)\n",
      "\u001b[2K     \u001b[90m━━━━━━━━━━━━━━━━━━━━━━━━━━━━━━━━━━━━━━\u001b[0m \u001b[32m528.1/528.1 kB\u001b[0m \u001b[31m17.8 MB/s\u001b[0m eta \u001b[36m0:00:00\u001b[0m\n",
      "\u001b[?25hCollecting prov==1.5.1\n",
      "  Downloading prov-1.5.1-py2.py3-none-any.whl (426 kB)\n",
      "\u001b[2K     \u001b[90m━━━━━━━━━━━━━━━━━━━━━━━━━━━━━━━━━━━━━━\u001b[0m \u001b[32m426.5/426.5 kB\u001b[0m \u001b[31m15.6 MB/s\u001b[0m eta \u001b[36m0:00:00\u001b[0m\n",
      "\u001b[?25hCollecting ruamel.yaml<0.17.22,>=0.15\n",
      "  Downloading ruamel.yaml-0.17.21-py3-none-any.whl (109 kB)\n",
      "\u001b[2K     \u001b[90m━━━━━━━━━━━━━━━━━━━━━━━━━━━━━━━━━━━━━━━\u001b[0m \u001b[32m109.5/109.5 kB\u001b[0m \u001b[31m4.0 MB/s\u001b[0m eta \u001b[36m0:00:00\u001b[0m\n",
      "\u001b[?25hRequirement already satisfied: psutil>=5.6.6 in /home/codespace/.local/lib/python3.10/site-packages (from cwltool) (5.9.4)\n",
      "Requirement already satisfied: setuptools in /home/codespace/.local/lib/python3.10/site-packages (from cwltool) (67.6.1)\n",
      "Collecting coloredlogs\n",
      "  Downloading coloredlogs-15.0.1-py2.py3-none-any.whl (46 kB)\n",
      "\u001b[2K     \u001b[90m━━━━━━━━━━━━━━━━━━━━━━━━━━━━━━━━━━━━━━━━\u001b[0m \u001b[32m46.0/46.0 kB\u001b[0m \u001b[31m1.9 MB/s\u001b[0m eta \u001b[36m0:00:00\u001b[0m\n",
      "\u001b[?25hCollecting pydot>=1.4.1\n",
      "  Downloading pydot-1.4.2-py2.py3-none-any.whl (21 kB)\n",
      "Collecting schema-salad<9,>=8.4\n",
      "  Downloading schema_salad-8.4.20230213094415-cp310-cp310-manylinux_2_17_x86_64.manylinux2014_x86_64.manylinux_2_28_x86_64.whl (1.1 MB)\n",
      "\u001b[2K     \u001b[90m━━━━━━━━━━━━━━━━━━━━━━━━━━━━━━━━━━━━━━━━\u001b[0m \u001b[32m1.1/1.1 MB\u001b[0m \u001b[31m26.4 MB/s\u001b[0m eta \u001b[36m0:00:00\u001b[0m:00:01\u001b[0m\n",
      "\u001b[?25hRequirement already satisfied: typing-extensions in /home/codespace/.local/lib/python3.10/site-packages (from cwltool) (4.5.0)\n",
      "Requirement already satisfied: pyparsing!=3.0.2 in /home/codespace/.local/lib/python3.10/site-packages (from cwltool) (3.0.9)\n",
      "Collecting argcomplete\n",
      "  Downloading argcomplete-3.0.8-py3-none-any.whl (40 kB)\n",
      "\u001b[2K     \u001b[90m━━━━━━━━━━━━━━━━━━━━━━━━━━━━━━━━━━━━━━━━\u001b[0m \u001b[32m40.0/40.0 kB\u001b[0m \u001b[31m1.5 MB/s\u001b[0m eta \u001b[36m0:00:00\u001b[0m\n",
      "\u001b[?25hCollecting mypy-extensions\n",
      "  Downloading mypy_extensions-1.0.0-py3-none-any.whl (4.7 kB)\n",
      "Collecting bagit>=1.6.4\n",
      "  Downloading bagit-1.8.1-py2.py3-none-any.whl (35 kB)\n",
      "Collecting cwl-utils>=0.22\n",
      "  Downloading cwl_utils-0.24-py3-none-any.whl (298 kB)\n",
      "\u001b[2K     \u001b[90m━━━━━━━━━━━━━━━━━━━━━━━━━━━━━━━━━━━━━━\u001b[0m \u001b[32m298.6/298.6 kB\u001b[0m \u001b[31m11.8 MB/s\u001b[0m eta \u001b[36m0:00:00\u001b[0m\n",
      "\u001b[?25hRequirement already satisfied: requests>=2.6.1 in /home/codespace/.local/lib/python3.10/site-packages (from cwltool) (2.28.2)\n",
      "Requirement already satisfied: six>=1.9.0 in /home/codespace/.local/lib/python3.10/site-packages (from prov==1.5.1->cwltool) (1.16.0)\n",
      "Collecting lxml\n",
      "  Downloading lxml-4.9.2-cp310-cp310-manylinux_2_17_x86_64.manylinux2014_x86_64.manylinux_2_24_x86_64.whl (7.1 MB)\n",
      "\u001b[2K     \u001b[90m━━━━━━━━━━━━━━━━━━━━━━━━━━━━━━━━━━━━━━━━\u001b[0m \u001b[32m7.1/7.1 MB\u001b[0m \u001b[31m57.7 MB/s\u001b[0m eta \u001b[36m0:00:00\u001b[0m:00:01\u001b[0m00:01\u001b[0m\n",
      "\u001b[?25hRequirement already satisfied: networkx in /home/codespace/.local/lib/python3.10/site-packages (from prov==1.5.1->cwltool) (3.0)\n",
      "Requirement already satisfied: python-dateutil in /home/codespace/.local/lib/python3.10/site-packages (from prov==1.5.1->cwltool) (2.8.2)\n",
      "Requirement already satisfied: packaging in /home/codespace/.local/lib/python3.10/site-packages (from cwl-utils>=0.22->cwltool) (23.0)\n",
      "Collecting cwl-upgrader>=1.2.3\n",
      "  Downloading cwl_upgrader-1.2.4-py3-none-any.whl (24 kB)\n",
      "Collecting CacheControl\n",
      "  Downloading CacheControl-0.12.11-py2.py3-none-any.whl (21 kB)\n",
      "Collecting isodate<0.7.0,>=0.6.0\n",
      "  Downloading isodate-0.6.1-py2.py3-none-any.whl (41 kB)\n",
      "\u001b[2K     \u001b[90m━━━━━━━━━━━━━━━━━━━━━━━━━━━━━━━━━━━━━━━━\u001b[0m \u001b[32m41.7/41.7 kB\u001b[0m \u001b[31m1.5 MB/s\u001b[0m eta \u001b[36m0:00:00\u001b[0m\n",
      "\u001b[?25hRequirement already satisfied: charset-normalizer<4,>=2 in /home/codespace/.local/lib/python3.10/site-packages (from requests>=2.6.1->cwltool) (3.1.0)\n",
      "Requirement already satisfied: idna<4,>=2.5 in /home/codespace/.local/lib/python3.10/site-packages (from requests>=2.6.1->cwltool) (3.4)\n",
      "Requirement already satisfied: urllib3<1.27,>=1.21.1 in /home/codespace/.local/lib/python3.10/site-packages (from requests>=2.6.1->cwltool) (1.26.15)\n",
      "Requirement already satisfied: certifi>=2017.4.17 in /home/codespace/.local/lib/python3.10/site-packages (from requests>=2.6.1->cwltool) (2022.12.7)\n",
      "Collecting ruamel.yaml.clib>=0.2.6\n",
      "  Downloading ruamel.yaml.clib-0.2.7-cp310-cp310-manylinux_2_17_x86_64.manylinux2014_x86_64.manylinux_2_24_x86_64.whl (485 kB)\n",
      "\u001b[2K     \u001b[90m━━━━━━━━━━━━━━━━━━━━━━━━━━━━━━━━━━━━━━\u001b[0m \u001b[32m485.6/485.6 kB\u001b[0m \u001b[31m13.2 MB/s\u001b[0m eta \u001b[36m0:00:00\u001b[0m00:01\u001b[0m\n",
      "\u001b[?25hRequirement already satisfied: mistune<2.1,>=2.0.3 in /home/codespace/.local/lib/python3.10/site-packages (from schema-salad<9,>=8.4->cwltool) (2.0.5)\n",
      "Collecting humanfriendly>=9.1\n",
      "  Downloading humanfriendly-10.0-py2.py3-none-any.whl (86 kB)\n",
      "\u001b[2K     \u001b[90m━━━━━━━━━━━━━━━━━━━━━━━━━━━━━━━━━━━━━━━━\u001b[0m \u001b[32m86.8/86.8 kB\u001b[0m \u001b[31m3.6 MB/s\u001b[0m eta \u001b[36m0:00:00\u001b[0m\n",
      "\u001b[?25hCollecting msgpack>=0.5.2\n",
      "  Downloading msgpack-1.0.5-cp310-cp310-manylinux_2_17_x86_64.manylinux2014_x86_64.whl (316 kB)\n",
      "\u001b[2K     \u001b[90m━━━━━━━━━━━━━━━━━━━━━━━━━━━━━━━━━━━━━━\u001b[0m \u001b[32m316.8/316.8 kB\u001b[0m \u001b[31m12.6 MB/s\u001b[0m eta \u001b[36m0:00:00\u001b[0m\n",
      "\u001b[?25hCollecting lockfile>=0.9\n",
      "  Downloading lockfile-0.12.2-py2.py3-none-any.whl (13 kB)\n",
      "Installing collected packages: shellescape, msgpack, lockfile, bagit, ruamel.yaml.clib, pydot, mypy-extensions, lxml, isodate, humanfriendly, argcomplete, ruamel.yaml, rdflib, coloredlogs, CacheControl, prov, schema-salad, cwl-upgrader, cwl-utils, cwltool\n",
      "Successfully installed CacheControl-0.12.11 argcomplete-3.0.8 bagit-1.8.1 coloredlogs-15.0.1 cwl-upgrader-1.2.4 cwl-utils-0.24 cwltool-3.1.20230325110543 humanfriendly-10.0 isodate-0.6.1 lockfile-0.12.2 lxml-4.9.2 msgpack-1.0.5 mypy-extensions-1.0.0 prov-1.5.1 pydot-1.4.2 rdflib-6.3.2 ruamel.yaml-0.17.21 ruamel.yaml.clib-0.2.7 schema-salad-8.4.20230213094415 shellescape-3.8.1\n"
     ]
    },
    {
     "name": "stderr",
     "output_type": "stream",
     "text": [
      "\n",
      "\u001b[1m[\u001b[0m\u001b[34;49mnotice\u001b[0m\u001b[1;39;49m]\u001b[0m\u001b[39;49m A new release of pip is available: \u001b[0m\u001b[31;49m23.0.1\u001b[0m\u001b[39;49m -> \u001b[0m\u001b[32;49m23.1.1\u001b[0m\n",
      "\u001b[1m[\u001b[0m\u001b[34;49mnotice\u001b[0m\u001b[1;39;49m]\u001b[0m\u001b[39;49m To update, run: \u001b[0m\u001b[32;49mpython -m pip install --upgrade pip\u001b[0m\n"
     ]
    }
   ],
   "source": [
    "%%bash\n",
    "#pip install cwltool"
   ]
  },
  {
   "cell_type": "code",
   "execution_count": 9,
   "id": "8c550c01",
   "metadata": {},
   "outputs": [
    {
     "name": "stderr",
     "output_type": "stream",
     "text": [
      "\u001b[1;30mINFO\u001b[0m /home/codespace/.python/current/bin/cwltool 3.1.20230325110543\n",
      "\u001b[1;30mINFO\u001b[0m Resolved 'step01B_macs2_call_candidate_regions.cwl' to 'file:///workspaces/cwl-notebooks/abc_enchancer_gene_prediction/step01B_macs2_call_candidate_regions.cwl'\n",
      "step01B_macs2_call_candidate_regions.cwl:6:3: Warning: checking item\n",
      "                                              Warning:   Field `class` contains undefined reference\n",
      "                                              to `https://sevenbridges.comSaveLogs`\n",
      "\u001b[1;30mINFO\u001b[0m step01B_macs2_call_candidate_regions.cwl:6:3: Unknown hint https://sevenbridges.comSaveLogs\n"
     ]
    },
    {
     "name": "stdout",
     "output_type": "stream",
     "text": [
      "usage: step01B_macs2_call_candidate_regions.cwl [-h] --narrow_peak NARROW_PEAK\n",
      "                                                --bam BAM --chr_sizes\n",
      "                                                CHR_SIZES --regions_blocklist\n",
      "                                                REGIONS_BLOCKLIST\n",
      "                                                --regions_includelist\n",
      "                                                REGIONS_INCLUDELIST\n",
      "                                                [job_order]\n",
      "\n",
      "The call candidate regions tool does this...\n",
      "\n",
      "positional arguments:\n",
      "  job_order             Job input json file\n",
      "\n",
      "options:\n",
      "  -h, --help            show this help message and exit\n",
      "  --narrow_peak NARROW_PEAK\n",
      "  --bam BAM\n",
      "  --chr_sizes CHR_SIZES\n",
      "  --regions_blocklist REGIONS_BLOCKLIST\n",
      "  --regions_includelist REGIONS_INCLUDELIST\n"
     ]
    }
   ],
   "source": [
    "%%bash\n",
    "cwltool --tool-help step01B_macs2_call_candidate_regions.cwl"
   ]
  },
  {
   "cell_type": "code",
   "execution_count": null,
   "id": "ecbfa189",
   "metadata": {},
   "outputs": [],
   "source": [
    "--narrow_peak NARROW_PEAK\n",
    "  --bam wgEncodeUwDnaseK562AlnRep1.chr22.bam\n",
    "  --chr_sizes CHR_SIZES\n",
    "  --regions_blocklist REGIONS_BLOCKLIST\n",
    "  --regions_includelist REGIONS_INCLUDELIST"
   ]
  },
  {
   "cell_type": "code",
   "execution_count": null,
   "id": "f586e58a",
   "metadata": {},
   "outputs": [],
   "source": [
    "%%bash\n",
    "cwltool macs2_call_candidate_regions.cwl \\\n",
    "    --narrow_peak /workspaces/cwl-notebooks/tools/ABC-Enhancer-Gene-Prediction/example_chr22/input_data/Chromatin/wgEncodeUwDnaseK562.mergedPeaks.slop175.withTSS500bp.chr22.bed \\\n",
    "    --bam /workspaces/cwl-notebooks/tools/ABC-Enhancer-Gene-Prediction/example_chr22/input_data/Chromatin/wgEncodeUwDnaseK562AlnRep1.chr22.bam \\\n",
    "    --chr_sizes /workspaces/cwl-notebooks/tools/ABC-Enhancer-Gene-Prediction/example_chr22/reference/chr22 \\\n",
    "    --regions_blocklist /workspaces/cwl-notebooks/tools/ABC-Enhancer-Gene-Prediction/reference/wgEncodeHg19ConsensusSignalArtifactRegions.bed \\\n",
    "    --regions_includelist /workspaces/cwl-notebooks/tools/ABC-Enhancer-Gene-Prediction/example_chr22/reference/RefSeqCurated.170308.bed.CollapsedGeneBounds.TSS500bp.chr22.bed"
   ]
  },
  {
   "attachments": {},
   "cell_type": "markdown",
   "id": "ae1d8c0b-70f1-4cd6-815e-249ce0590e95",
   "metadata": {
    "jp-MarkdownHeadingCollapsed": true,
    "tags": []
   },
   "source": [
    "# C. Push tool to platform"
   ]
  },
  {
   "cell_type": "code",
   "execution_count": 1,
   "id": "dbefbc1b",
   "metadata": {},
   "outputs": [
    {
     "name": "stdout",
     "output_type": "stream",
     "text": [
      "\n",
      "sbpack v2022.03.16\n",
      "Upload CWL apps to any Seven Bridges powered platform\n",
      "(c) Seven Bridges 2020\n",
      "\n"
     ]
    },
    {
     "name": "stderr",
     "output_type": "stream",
     "text": [
      "Packing step01B_macs2_call_candidate_regions.cwl\n"
     ]
    }
   ],
   "source": [
    "%%bash\n",
    "sbpack bdc dave/abc-development-scratch-project/makecandidateregions step01B_macs2_call_candidate_regions.cwl"
   ]
  },
  {
   "cell_type": "markdown",
   "id": "d392f473-1127-49ef-a70f-7728a0df3639",
   "metadata": {
    "tags": []
   },
   "source": [
    "# References"
   ]
  },
  {
   "cell_type": "markdown",
   "id": "1a715203-62c9-4da6-9d58-499d2372663e",
   "metadata": {},
   "source": [
    "https://docs.sevenbridges.com/reference/add-an-app-using-raw-cwl"
   ]
  }
 ],
 "metadata": {
  "kernelspec": {
   "display_name": "Python 3 (ipykernel)",
   "language": "python",
   "name": "python3"
  },
  "language_info": {
   "codemirror_mode": {
    "name": "ipython",
    "version": 3
   },
   "file_extension": ".py",
   "mimetype": "text/x-python",
   "name": "python",
   "nbconvert_exporter": "python",
   "pygments_lexer": "ipython3",
   "version": "3.10.4"
  },
  "toc-autonumbering": true,
  "toc-showcode": true,
  "toc-showmarkdowntxt": false
 },
 "nbformat": 4,
 "nbformat_minor": 5
}
