{
 "cells": [
  {
   "attachments": {},
   "cell_type": "markdown",
   "id": "f1a00565-1ce9-4804-b72e-0fd4bd67ca34",
   "metadata": {
    "jp-MarkdownHeadingCollapsed": true,
    "tags": []
   },
   "source": [
    "# I Initialize"
   ]
  },
  {
   "attachments": {},
   "cell_type": "markdown",
   "id": "36f61961-5277-4ebb-869b-e620d9775679",
   "metadata": {},
   "source": [
    "This notebook is a walkthrough of describing the 2nd step in the ABC Enhancer Gene Prediction model\n",
    "\n",
    "[broadinstitute/ABC-Enhancer-Gene-Prediction: Cell type specific enhancer-gene predictions using ABC model (Fulco, Nasser et al, Nature Genetics 2019)](https://github.com/broadinstitute/ABC-Enhancer-Gene-Prediction)  \n",
    "\n",
    "From the repo:\n",
    "\n",
    "Quantifying Enhancer Activity: \n",
    "\n",
    "```run.neighborhoods.py``` will count DNase-seq (or ATAC-seq) and H3K27ac ChIP-seq reads in candidate enhancer regions. It also makes GeneList.txt, which counts reads in gene bodies and promoter regions.\n",
    "\n",
    "Replicate epigenetic experiments should be included as comma delimited list of files. Read counts in replicate experiments will be averaged when computing enhancer Activity.\n",
    "\n",
    "Sample Command:\n",
    "\n",
    "```\n",
    "python src/run.neighborhoods.py \\\n",
    "--candidate_enhancer_regions example_chr22/ABC_output/Peaks/wgEncodeUwDnaseK562AlnRep1.chr22.macs2_peaks.narrowPeak.sorted.candidateRegions.bed \\\n",
    "--genes example_chr22/reference/RefSeqCurated.170308.bed.CollapsedGeneBounds.chr22.bed \\\n",
    "--H3K27ac example_chr22/input_data/Chromatin/ENCFF384ZZM.chr22.bam \\\n",
    "--DHS example_chr22/input_data/Chromatin/wgEncodeUwDnaseK562AlnRep1.chr22.bam,example_chr22/input_data/Chromatin/wgEncodeUwDnaseK562AlnRep2.chr22.bam \\\n",
    "--expression_table example_chr22/input_data/Expression/K562.ENCFF934YBO.TPM.txt \\\n",
    "--chrom_sizes example_chr22/reference/chr22 \\\n",
    "--ubiquitously_expressed_genes reference/UbiquitouslyExpressedGenesHG19.txt \\\n",
    "--cellType K562 \\\n",
    "--outdir example_chr22/ABC_output/Neighborhoods/ \n",
    "```\n",
    "\n",
    "Main output files:\n",
    "\n",
    "  * **EnhancerList.txt**: Candidate enhancer regions with Dnase-seq and H3K27ac ChIP-seq read counts\n",
    "  * **GeneList.txt**: Dnase-seq and H3K27ac ChIP-seq read counts on gene bodies and gene promoter regions\n"
   ]
  },
  {
   "attachments": {},
   "cell_type": "markdown",
   "id": "0af4d32f-13cd-4d0c-b4aa-48e36394c640",
   "metadata": {
    "jp-MarkdownHeadingCollapsed": true,
    "tags": []
   },
   "source": [
    "## Load packages"
   ]
  },
  {
   "cell_type": "code",
   "execution_count": 1,
   "id": "658e5314-e9f7-4a12-9aa0-898c337a59b6",
   "metadata": {
    "jupyter": {
     "source_hidden": true
    }
   },
   "outputs": [],
   "source": [
    "#from sevenbridges import Api, ImportExportState\n",
    "import yaml\n",
    "import time\n",
    "import json\n",
    "import importlib\n",
    "import getpass\n",
    "import sevenbridges"
   ]
  },
  {
   "cell_type": "code",
   "execution_count": 2,
   "id": "67e2db23-604f-4937-bcb7-2d14030d3fe3",
   "metadata": {
    "jupyter": {
     "source_hidden": true
    }
   },
   "outputs": [],
   "source": [
    "%load_ext yamlmagic"
   ]
  },
  {
   "attachments": {},
   "cell_type": "markdown",
   "id": "231622e7",
   "metadata": {},
   "source": [
    "# II CWL Description"
   ]
  },
  {
   "attachments": {},
   "cell_type": "markdown",
   "id": "efe56e3b-b619-437d-9397-0bceedf0eab6",
   "metadata": {
    "jp-MarkdownHeadingCollapsed": true,
    "tags": []
   },
   "source": [
    "## Section 1/4 - Tool Label and Documentation"
   ]
  },
  {
   "cell_type": "code",
   "execution_count": 3,
   "id": "e4b17418-6b2d-4629-88a7-3264c2f81944",
   "metadata": {
    "tags": []
   },
   "outputs": [
    {
     "data": {
      "application/javascript": "\n            require(\n                [\n                    \"notebook/js/codecell\",\n                    \"codemirror/mode/yaml/yaml\"\n                ],\n                function(cc){\n                    cc.CodeCell.options_default.highlight_modes.magic_yaml = {\n                        reg: [\"^%%yaml\"]\n                    }\n                }\n            );\n            ",
      "text/plain": [
       "<IPython.core.display.Javascript object>"
      ]
     },
     "metadata": {},
     "output_type": "display_data"
    }
   ],
   "source": [
    "%%yaml label_and_description\n",
    "\n",
    "#### rarely changing header and bioler plate\n",
    "cwlVersion: v1.2\n",
    "class: CommandLineTool\n",
    "$namespaces:\n",
    "  sbg: https://sevenbridges.com\n",
    "hints:\n",
    "- class: sbg:SaveLogs\n",
    "  value: '*.sh'  \n",
    "\n",
    "#### Tool Label  \n",
    "label: Run Neighborhood\n",
    "\n",
    "#### Tool Description\n",
    "\n",
    "doc: |-\n",
    "\n",
    "  Quantifying Enhancer Activity: \n",
    "\n",
    "  ```run.neighborhoods.py``` will count DNase-seq (or ATAC-seq) and H3K27ac ChIP-seq reads in candidate enhancer regions. It also makes GeneList.txt, which counts reads in gene bodies and promoter regions.\n",
    "\n",
    "  Replicate epigenetic experiments should be included as comma delimited list of files. Read counts in replicate experiments will be averaged when computing enhancer Activity.  \n",
    "\n",
    "  Main output files:\n",
    "\n",
    "    * **EnhancerList.txt**: Candidate enhancer regions with Dnase-seq and H3K27ac ChIP-seq read counts\n",
    "    * **GeneList.txt**: Dnase-seq and H3K27ac ChIP-seq read counts on gene bodies and gene promoter regions\n"
   ]
  },
  {
   "attachments": {},
   "cell_type": "markdown",
   "id": "edd2a20c-36f3-4fab-bbad-0395fe86e299",
   "metadata": {
    "jp-MarkdownHeadingCollapsed": true,
    "tags": []
   },
   "source": [
    "## Section 2/4 Tool Inputs"
   ]
  },
  {
   "cell_type": "code",
   "execution_count": 4,
   "id": "552af31a-3a3b-4353-a3e9-8ede4edce8ce",
   "metadata": {
    "jupyter": {
     "source_hidden": true
    }
   },
   "outputs": [
    {
     "data": {
      "application/javascript": "\n            require(\n                [\n                    \"notebook/js/codecell\",\n                    \"codemirror/mode/yaml/yaml\"\n                ],\n                function(cc){\n                    cc.CodeCell.options_default.highlight_modes.magic_yaml = {\n                        reg: [\"^%%yaml\"]\n                    }\n                }\n            );\n            ",
      "text/plain": [
       "<IPython.core.display.Javascript object>"
      ]
     },
     "metadata": {},
     "output_type": "display_data"
    }
   ],
   "source": [
    "%%yaml inputs\n",
    "\n",
    "inputs:\n",
    "- id: candidate_enchancer_regions\n",
    "  type: File\n",
    "  sbg:fileTypes: BED\n",
    "\n",
    "- id: genes\n",
    "  type: File\n",
    "  sbg:fileTypes: BED\n",
    "  \n",
    "- id: H3K27ac\n",
    "  type: File\n",
    "  doc: ENCFF384ZZM.chr22.bam\n",
    "  sbg:fileTypes: BAM\n",
    "  secondaryFiles:\n",
    "  - pattern: .bai\n",
    "\n",
    "- id: dhs\n",
    "  type: File\n",
    "  doc: wgEncodeUwDnaseK562AlnRep1.chr22.bam\n",
    "  sbg:fileTypes: BAM\n",
    "  secondaryFiles:\n",
    "  - pattern: .bai\n",
    "\n",
    "- id: expression_table\n",
    "  type: File\n",
    "  doc: K562.ENCFF934YBO.TPM.txt\n",
    "  sbg:fileTypes: BAM\n",
    "  secondaryFiles:\n",
    "  - pattern: .bai\n",
    "\n",
    "- id: chrom_sizes\n",
    "  type: File\n",
    "\n",
    "- id: ubiquitously_expressed_genes\n",
    "  type: File\n",
    "  doc: UbiquitouslyExpressedGenesHG19.txt\n",
    "  sbg:fileTypes: TXT\n",
    "\n",
    "- id: cell_type\n",
    "  type: string\n"
   ]
  },
  {
   "attachments": {},
   "cell_type": "markdown",
   "id": "f3a736dd-888c-4a5d-a777-27e1e03e1715",
   "metadata": {
    "jp-MarkdownHeadingCollapsed": true,
    "tags": []
   },
   "source": [
    "## Section 3/4 Scripts and Other Requirements"
   ]
  },
  {
   "cell_type": "code",
   "execution_count": 7,
   "id": "d69f7ea2-adc8-4a58-9f16-e5967d0fcce0",
   "metadata": {
    "jupyter": {
     "source_hidden": true
    }
   },
   "outputs": [
    {
     "data": {
      "application/javascript": "\n            require(\n                [\n                    \"notebook/js/codecell\",\n                    \"codemirror/mode/yaml/yaml\"\n                ],\n                function(cc){\n                    cc.CodeCell.options_default.highlight_modes.magic_yaml = {\n                        reg: [\"^%%yaml\"]\n                    }\n                }\n            );\n            ",
      "text/plain": [
       "<IPython.core.display.Javascript object>"
      ]
     },
     "metadata": {},
     "output_type": "display_data"
    }
   ],
   "source": [
    "%%yaml base_command_and_requirements\n",
    "baseCommand:\n",
    "- bash\n",
    "- run.neighborhoods.sh\n",
    "requirements:\n",
    "- class: ShellCommandRequirement\n",
    "- class: InlineJavascriptRequirement\n",
    "- class: DockerRequirement\n",
    "  dockerPull: images.sb.biodatacatalyst.nhlbi.nih.gov/andrewblair/cardiac-compendium:2023042401\n",
    "- class: InitialWorkDirRequirement\n",
    "  listing:\n",
    "  - entryname: run.neighborhoods.sh\n",
    "    writable: false\n",
    "    entry: |-\n",
    "    \n",
    "      python src/run.neighborhoods.py \\\n",
    "      --candidate_enhancer_regions $(inputs.candidate_enchancer_regions.path) \\\n",
    "      --genes $(inputs.genes.path) \\\n",
    "      --H3K27ac $(inputs.H3K27ac.path) \\\n",
    "      --DHS $(inputs.dhs.path) \\\n",
    "      --expression_table $(inputs.expression_table.path) \\\n",
    "      --chrom_sizes $(inputs.chrom_sizes.path) \\\n",
    "      --ubiquitously_expressed_genes $(inputs.ubiquitously_expressed_genes.path) \\\n",
    "      --cellType $(inputs.cell_type) \\\n",
    "      --outdir ./\n",
    "     \n"
   ]
  },
  {
   "attachments": {},
   "cell_type": "markdown",
   "id": "47b05eb8-4462-4d13-96bc-f699bf0f6406",
   "metadata": {
    "jp-MarkdownHeadingCollapsed": true,
    "tags": []
   },
   "source": [
    "## Section 4/4 Tool Outputs"
   ]
  },
  {
   "cell_type": "code",
   "execution_count": 6,
   "id": "3faf31ff-85c2-4fe8-b889-a750f80b4d8c",
   "metadata": {
    "jupyter": {
     "source_hidden": true
    }
   },
   "outputs": [
    {
     "data": {
      "application/javascript": "\n            require(\n                [\n                    \"notebook/js/codecell\",\n                    \"codemirror/mode/yaml/yaml\"\n                ],\n                function(cc){\n                    cc.CodeCell.options_default.highlight_modes.magic_yaml = {\n                        reg: [\"^%%yaml\"]\n                    }\n                }\n            );\n            ",
      "text/plain": [
       "<IPython.core.display.Javascript object>"
      ]
     },
     "metadata": {},
     "output_type": "display_data"
    }
   ],
   "source": [
    "%%yaml outputs\n",
    "outputs:\n",
    "- id: enchancer_list\n",
    "  type: File\n",
    "  doc: Candidate enhancer regions with Dnase-seq and H3K27ac ChIP-seq read counts\n",
    "  outputBinding:\n",
    "    glob: '*EnhancerList.txt'\n",
    "- id: counts\n",
    "  type: File\n",
    "  doc: Dnase-seq and H3K27ac ChIP-seq read counts on gene bodies and gene promoter regions\n",
    "  outputBinding:\n",
    "    glob: '*GeneList.txt'\n"
   ]
  },
  {
   "cell_type": "markdown",
   "id": "8742d141",
   "metadata": {},
   "source": [
    "# III Test tool"
   ]
  },
  {
   "cell_type": "code",
   "execution_count": 10,
   "id": "24bcd747",
   "metadata": {},
   "outputs": [],
   "source": [
    "with open('../cwl/step02_run_neighborhoods.tool.cwl', 'w') as f:\n",
    "    data = yaml.dump(label_and_description | inputs | base_command_and_requirements | outputs, f, sort_keys=False, default_flow_style=False)"
   ]
  },
  {
   "cell_type": "code",
   "execution_count": 9,
   "id": "30fed29a",
   "metadata": {},
   "outputs": [
    {
     "name": "stderr",
     "output_type": "stream",
     "text": [
      "\u001b[1;30mINFO\u001b[0m /home/codespace/.python/current/bin/cwltool 3.1.20230325110543\n",
      "\u001b[1;30mINFO\u001b[0m Resolved '../step02_run_neighborhoods.tool.cwl' to 'file:///workspaces/cwl-notebooks/abc_enchancer_gene_prediction/step02_run_neighborhoods.tool.cwl'\n",
      "../step02_run_neighborhoods.tool.cwl:6:3: Warning: checking item\n",
      "                                          Warning:   Field `class` contains undefined reference to\n",
      "                                          `https://sevenbridges.comSaveLogs`\n",
      "\u001b[1;30mINFO\u001b[0m ../step02_run_neighborhoods.tool.cwl:6:3: Unknown hint https://sevenbridges.comSaveLogs\n"
     ]
    },
    {
     "name": "stdout",
     "output_type": "stream",
     "text": [
      "usage: ../step02_run_neighborhoods.tool.cwl [-h] --candidate_enchancer_regions\n",
      "                                            CANDIDATE_ENCHANCER_REGIONS\n",
      "                                            --genes GENES --H3K27ac H3K27AC\n",
      "                                            --dhs DHS --expression_table\n",
      "                                            EXPRESSION_TABLE --chrom_sizes\n",
      "                                            CHROM_SIZES\n",
      "                                            --ubiquitously_expressed_genes\n",
      "                                            UBIQUITOUSLY_EXPRESSED_GENES\n",
      "                                            --cell_type CELL_TYPE\n",
      "                                            [job_order]\n",
      "\n",
      "Quantifying Enhancer Activity: ```run.neighborhoods.py``` will count DNase-seq\n",
      "(or ATAC-seq) and H3K27ac ChIP-seq reads in candidate enhancer regions. It\n",
      "also makes GeneList.txt, which counts reads in gene bodies and promoter\n",
      "regions. Replicate epigenetic experiments should be included as comma\n",
      "delimited list of files. Read counts in replicate experiments will be averaged\n",
      "when computing enhancer Activity. Main output files: * **EnhancerList.txt**:\n",
      "Candidate enhancer regions with Dnase-seq and H3K27ac ChIP-seq read counts *\n",
      "**GeneList.txt**: Dnase-seq and H3K27ac ChIP-seq read counts on gene bodies\n",
      "and gene promoter regions\n",
      "\n",
      "positional arguments:\n",
      "  job_order             Job input json file\n",
      "\n",
      "options:\n",
      "  -h, --help            show this help message and exit\n",
      "  --candidate_enchancer_regions CANDIDATE_ENCHANCER_REGIONS\n",
      "  --genes GENES\n",
      "  --H3K27ac H3K27AC     ENCFF384ZZM.chr22.bam\n",
      "  --dhs DHS             wgEncodeUwDnaseK562AlnRep1.chr22.bam\n",
      "  --expression_table EXPRESSION_TABLE\n",
      "                        K562.ENCFF934YBO.TPM.txt\n",
      "  --chrom_sizes CHROM_SIZES\n",
      "  --ubiquitously_expressed_genes UBIQUITOUSLY_EXPRESSED_GENES\n",
      "                        UbiquitouslyExpressedGenesHG19.txt\n",
      "  --cell_type CELL_TYPE\n"
     ]
    }
   ],
   "source": [
    "%%bash\n",
    "cwltool --tool-help ../step02_run_neighborhoods.tool.cwl"
   ]
  },
  {
   "cell_type": "code",
   "execution_count": null,
   "metadata": {},
   "outputs": [],
   "source": [
    "%%bash\n",
    "cwltool ../step02_run_neighborhoods.tool.cwl \\\n",
    "--candidate_enchancer_regions wgEncodeUwDnaseK562AlnRep1.chr22.macs2_peaks.narrowPeak.sorted.candidateRegions.bed \\\n",
    "  --genes GENES\n",
    "  --H3K27ac H3K27AC     ENCFF384ZZM.chr22.bam \\\n",
    "  --dhs DHS             wgEncodeUwDnaseK562AlnRep1.chr22.bam \\\n",
    "  --expression_table K562.ENCFF934YBO.TPM.txt \\\n",
    "  --chrom_sizes chr22 \\\n",
    "  --ubiquitously_expressed_genes UbiquitouslyExpressedGenesHG19.txt \\\n",
    "  --cell_type K562"
   ]
  },
  {
   "attachments": {},
   "cell_type": "markdown",
   "id": "ae1d8c0b-70f1-4cd6-815e-249ce0590e95",
   "metadata": {
    "jp-MarkdownHeadingCollapsed": true,
    "tags": []
   },
   "source": [
    "# IV Push tool to platform"
   ]
  },
  {
   "cell_type": "code",
   "execution_count": 11,
   "id": "dbefbc1b",
   "metadata": {},
   "outputs": [
    {
     "name": "stdout",
     "output_type": "stream",
     "text": [
      "\n",
      "sbpack v2022.03.16\n",
      "Upload CWL apps to any Seven Bridges powered platform\n",
      "(c) Seven Bridges 2020\n",
      "\n"
     ]
    },
    {
     "name": "stderr",
     "output_type": "stream",
     "text": [
      "Packing ../cwl/step02_run_neighborhoods.tool.cwl\n"
     ]
    }
   ],
   "source": [
    "%%bash\n",
    "sbpack bdc dave/abc-development-scratch-project/run-neighborhoods \"../cwl/step02_run_neighborhoods.tool.cwl\""
   ]
  },
  {
   "attachments": {},
   "cell_type": "markdown",
   "id": "d392f473-1127-49ef-a70f-7728a0df3639",
   "metadata": {
    "tags": []
   },
   "source": [
    "# V References"
   ]
  },
  {
   "cell_type": "markdown",
   "id": "1a715203-62c9-4da6-9d58-499d2372663e",
   "metadata": {},
   "source": [
    "https://docs.sevenbridges.com/reference/add-an-app-using-raw-cwl"
   ]
  }
 ],
 "metadata": {
  "kernelspec": {
   "display_name": "Python 3 (ipykernel)",
   "language": "python",
   "name": "python3"
  },
  "language_info": {
   "codemirror_mode": {
    "name": "ipython",
    "version": 3
   },
   "file_extension": ".py",
   "mimetype": "text/x-python",
   "name": "python",
   "nbconvert_exporter": "python",
   "pygments_lexer": "ipython3",
   "version": "3.10.4"
  },
  "toc-autonumbering": true,
  "toc-showcode": true,
  "toc-showmarkdowntxt": false
 },
 "nbformat": 4,
 "nbformat_minor": 5
}
