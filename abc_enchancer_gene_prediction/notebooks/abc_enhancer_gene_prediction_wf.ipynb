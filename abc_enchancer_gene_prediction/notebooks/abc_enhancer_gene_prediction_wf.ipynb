{
 "cells": [
  {
   "attachments": {},
   "cell_type": "markdown",
   "metadata": {},
   "source": [
    "# I Introduction"
   ]
  },
  {
   "attachments": {},
   "cell_type": "markdown",
   "metadata": {},
   "source": [
    "This notebook describes the full pipeline for ABC Enhancer Gene Prediction model\n",
    "  \n",
    "[broadinstitute/ABC-Enhancer-Gene-Prediction: Cell type specific enhancer-gene predictions using ABC model (Fulco, Nasser et al, Nature Genetics 2019)](https://github.com/broadinstitute/ABC-Enhancer-Gene-Prediction)  \n"
   ]
  },
  {
   "attachments": {},
   "cell_type": "markdown",
   "metadata": {},
   "source": [
    "## Load packages"
   ]
  },
  {
   "cell_type": "code",
   "execution_count": 3,
   "metadata": {},
   "outputs": [],
   "source": [
    "#from sevenbridges import Api, ImportExportState\n",
    "import yaml\n",
    "import time\n",
    "import json\n",
    "import importlib\n",
    "import getpass\n",
    "import sevenbridges"
   ]
  },
  {
   "cell_type": "code",
   "execution_count": 4,
   "metadata": {},
   "outputs": [],
   "source": [
    "%load_ext yamlmagic"
   ]
  },
  {
   "attachments": {},
   "cell_type": "markdown",
   "metadata": {},
   "source": [
    "# II CWL Description"
   ]
  },
  {
   "attachments": {},
   "cell_type": "markdown",
   "metadata": {},
   "source": [
    "## Section 1/4 - Workflow Label and Documentation"
   ]
  },
  {
   "cell_type": "code",
   "execution_count": 5,
   "metadata": {},
   "outputs": [
    {
     "data": {
      "application/javascript": "\n            require(\n                [\n                    \"notebook/js/codecell\",\n                    \"codemirror/mode/yaml/yaml\"\n                ],\n                function(cc){\n                    cc.CodeCell.options_default.highlight_modes.magic_yaml = {\n                        reg: [\"^%%yaml\"]\n                    }\n                }\n            );\n            ",
      "text/plain": [
       "<IPython.core.display.Javascript object>"
      ]
     },
     "metadata": {},
     "output_type": "display_data"
    }
   ],
   "source": [
    "%%yaml label_and_description\n",
    "\n",
    "cwlVersion: v1.2\n",
    "class: Workflow\n",
    "label: abc-enhancer-gene-prediction\n",
    "$namespaces:\n",
    "  sbg: https://sevenbridges.com\n",
    "\n",
    "requirements:\n",
    "- class: InlineJavascriptRequirement\n",
    "- class: StepInputExpressionRequirement"
   ]
  },
  {
   "attachments": {},
   "cell_type": "markdown",
   "metadata": {},
   "source": [
    "## Section 2/4 App Inputs"
   ]
  },
  {
   "cell_type": "code",
   "execution_count": 7,
   "metadata": {},
   "outputs": [
    {
     "data": {
      "application/javascript": "\n            require(\n                [\n                    \"notebook/js/codecell\",\n                    \"codemirror/mode/yaml/yaml\"\n                ],\n                function(cc){\n                    cc.CodeCell.options_default.highlight_modes.magic_yaml = {\n                        reg: [\"^%%yaml\"]\n                    }\n                }\n            );\n            ",
      "text/plain": [
       "<IPython.core.display.Javascript object>"
      ]
     },
     "metadata": {},
     "output_type": "display_data"
    }
   ],
   "source": [
    "%%yaml inputs\n",
    "inputs:\n",
    "- id: sort_order\n",
    "  type: File\n",
    "  sbg:x: -504\n",
    "  sbg:y: -578\n",
    "- id: bam\n",
    "  type: File\n",
    "  secondaryFiles:\n",
    "  - pattern: .bai\n",
    "    required: true\n",
    "  sbg:fileTypes: BAM\n",
    "  sbg:x: -562\n",
    "  sbg:y: -203\n",
    "- id: regions_includelist\n",
    "  type: File\n",
    "  sbg:fileTypes: BED\n",
    "  sbg:x: 27\n",
    "  sbg:y: -661\n",
    "- id: regions_blocklist\n",
    "  type: File\n",
    "  sbg:fileTypes: BED\n",
    "  sbg:x: -112.57969665527344\n",
    "  sbg:y: -612.9046630859375\n",
    "- id: chr_sizes\n",
    "  type: File\n",
    "  sbg:x: -260.5796813964844\n",
    "  sbg:y: -116.90462493896484"
   ]
  },
  {
   "attachments": {},
   "cell_type": "markdown",
   "metadata": {},
   "source": [
    "## Section 3/4 Steps"
   ]
  },
  {
   "cell_type": "code",
   "execution_count": 10,
   "metadata": {},
   "outputs": [
    {
     "data": {
      "application/javascript": "\n            require(\n                [\n                    \"notebook/js/codecell\",\n                    \"codemirror/mode/yaml/yaml\"\n                ],\n                function(cc){\n                    cc.CodeCell.options_default.highlight_modes.magic_yaml = {\n                        reg: [\"^%%yaml\"]\n                    }\n                }\n            );\n            ",
      "text/plain": [
       "<IPython.core.display.Javascript object>"
      ]
     },
     "metadata": {},
     "output_type": "display_data"
    }
   ],
   "source": [
    "%%yaml steps\n",
    "\n",
    "steps:\n",
    "- id: makecandidateregions\n",
    "  label: MACS2 Call Candidate Regions\n",
    "  in:\n",
    "  - id: narrow_peak\n",
    "    source: macs2_call_peaks/sorted_peaks\n",
    "  - id: bam\n",
    "    source: bam\n",
    "  - id: chr_sizes\n",
    "    source: chr_sizes\n",
    "  - id: regions_blocklist\n",
    "    source: regions_blocklist\n",
    "  - id: regions_includelist\n",
    "    source: regions_includelist\n",
    "  run: step01B_macs2_call_candidate_regions.cwl\n",
    "  out:\n",
    "  - id: candidate_regions\n",
    "  - id: counts\n",
    "  sbg:x: 133\n",
    "  sbg:y: -369\n",
    "\n",
    "- id: macs2_call_peaks\n",
    "  label: MACS2 Call Peaks\n",
    "  in:\n",
    "  - id: bam\n",
    "    source: bam\n",
    "  - id: sort_order\n",
    "    source: sort_order\n",
    "  run: step01A_macs2_call_peaks.cwl\n",
    "  out:\n",
    "  - id: model_r_script\n",
    "  - id: sorted_peaks\n",
    "  - id: peaks_xls\n",
    "  - id: summits\n",
    "  sbg:x: -329\n",
    "  sbg:y: -441\n",
    "\n",
    "-id run_neighborhoods\n",
    "  label: Run Neighborhoods\n",
    "  in:\n",
    "  run: step02_run_neighborhoods.tool.cwl\n",
    "  out:\n"
   ]
  },
  {
   "attachments": {},
   "cell_type": "markdown",
   "metadata": {},
   "source": [
    "## Section 4/4 Tool Outputs and save app"
   ]
  },
  {
   "cell_type": "code",
   "execution_count": 9,
   "metadata": {},
   "outputs": [
    {
     "data": {
      "application/javascript": "\n            require(\n                [\n                    \"notebook/js/codecell\",\n                    \"codemirror/mode/yaml/yaml\"\n                ],\n                function(cc){\n                    cc.CodeCell.options_default.highlight_modes.magic_yaml = {\n                        reg: [\"^%%yaml\"]\n                    }\n                }\n            );\n            ",
      "text/plain": [
       "<IPython.core.display.Javascript object>"
      ]
     },
     "metadata": {},
     "output_type": "display_data"
    }
   ],
   "source": [
    "%%yaml outputs\n",
    "\n",
    "outputs:\n",
    "- id: counts\n",
    "  type: File\n",
    "  outputSource:\n",
    "  - makecandidateregions/counts\n",
    "  sbg:x: 314.9624328613281\n",
    "  sbg:y: -526.222900390625\n",
    "- id: candidate_regions\n",
    "  type: File\n",
    "  outputSource:\n",
    "  - makecandidateregions/candidate_regions\n",
    "  sbg:x: 286.9624328613281\n",
    "  sbg:y: -184.22291564941406"
   ]
  },
  {
   "cell_type": "code",
   "execution_count": 11,
   "metadata": {},
   "outputs": [],
   "source": [
    "with open('../cwl/abc-enchancer-gene-prediction.wf.cwl', 'w') as f:\n",
    "    data = yaml.dump(label_and_description | inputs | outputs | steps, f, sort_keys=False, default_flow_style=False)"
   ]
  },
  {
   "cell_type": "markdown",
   "metadata": {},
   "source": [
    "# III Test tool"
   ]
  },
  {
   "cell_type": "code",
   "execution_count": 13,
   "metadata": {},
   "outputs": [
    {
     "name": "stderr",
     "output_type": "stream",
     "text": [
      "\u001b[1;30mINFO\u001b[0m /home/codespace/.python/current/bin/cwltool 3.1.20230325110543\n",
      "\u001b[1;30mINFO\u001b[0m Resolved '../cwl/abc-enchancer-gene-prediction.wf.cwl' to 'file:///workspaces/cwl-notebooks/abc_enchancer_gene_prediction/cwl/abc-enchancer-gene-prediction.wf.cwl'\n",
      "../cwl/step01B_macs2_call_candidate_regions.cwl:6:3: Warning: checking item\n",
      "                                                     Warning:   Field `class` contains undefined\n",
      "                                                     reference to `https://sevenbridges.comSaveLogs`\n",
      "\u001b[1;30mINFO\u001b[0m ../cwl/step01B_macs2_call_candidate_regions.cwl:6:3: Unknown hint https://sevenbridges.comSaveLogs\n",
      "../cwl/step01A_macs2_call_peaks.cwl:66:3: Warning: checking item\n",
      "                                          Warning:   Field `class` contains undefined reference to\n",
      "                                          `https://sevenbridges.comSaveLogs`\n",
      "\u001b[1;30mINFO\u001b[0m ../cwl/step01A_macs2_call_peaks.cwl:66:3: Unknown hint https://sevenbridges.comSaveLogs\n",
      "\u001b[1;30mWARNING\u001b[0m \u001b[33mWorkflow checker warning:\n",
      "../cwl/abc-enchancer-gene-prediction.wf.cwl:15:3: Source 'bam' of type \"File\" may be incompatible\n",
      "../cwl/abc-enchancer-gene-prediction.wf.cwl:55:5:   with sink 'bam' of type \"File\"\u001b[0m\n"
     ]
    },
    {
     "name": "stdout",
     "output_type": "stream",
     "text": [
      "usage: ../cwl/abc-enchancer-gene-prediction.wf.cwl [-h] --sort_order\n",
      "                                                   SORT_ORDER --bam BAM\n",
      "                                                   --regions_includelist\n",
      "                                                   REGIONS_INCLUDELIST\n",
      "                                                   --regions_blocklist\n",
      "                                                   REGIONS_BLOCKLIST\n",
      "                                                   --chr_sizes CHR_SIZES\n",
      "                                                   [job_order]\n",
      "\n",
      "abc-enhancer-gene-prediction\n",
      "\n",
      "positional arguments:\n",
      "  job_order             Job input json file\n",
      "\n",
      "options:\n",
      "  -h, --help            show this help message and exit\n",
      "  --sort_order SORT_ORDER\n",
      "  --bam BAM\n",
      "  --regions_includelist REGIONS_INCLUDELIST\n",
      "  --regions_blocklist REGIONS_BLOCKLIST\n",
      "  --chr_sizes CHR_SIZES\n"
     ]
    }
   ],
   "source": [
    "%%bash\n",
    "cwltool --tool-help ../cwl/abc-enchancer-gene-prediction.wf.cwl"
   ]
  },
  {
   "attachments": {},
   "cell_type": "markdown",
   "metadata": {},
   "source": [
    "```\n",
    "--sort_order SORT_ORDER\n",
    "--bam BAM\n",
    "--regions_includelist REGIONS_INCLUDELIST\n",
    "--regions_blocklist REGIONS_BLOCKLIST\n",
    "--chr_sizes CHR_SIZES\n",
    "```"
   ]
  },
  {
   "cell_type": "code",
   "execution_count": null,
   "metadata": {},
   "outputs": [],
   "source": [
    "#%%bash\n",
    "#cwltool ..."
   ]
  },
  {
   "cell_type": "markdown",
   "metadata": {},
   "source": [
    "# IV Push tool to platform"
   ]
  },
  {
   "cell_type": "code",
   "execution_count": 14,
   "metadata": {},
   "outputs": [
    {
     "name": "stdout",
     "output_type": "stream",
     "text": [
      "\n",
      "sbpack v2022.03.16\n",
      "Upload CWL apps to any Seven Bridges powered platform\n",
      "(c) Seven Bridges 2020\n",
      "\n"
     ]
    },
    {
     "name": "stderr",
     "output_type": "stream",
     "text": [
      "Packing ../cwl/abc-enchancer-gene-prediction.wf.cwl\n",
      "\n",
      "--\n",
      "Recursing into step ../cwl/abc-enchancer-gene-prediction.wf.cwl:makecandidateregions\n",
      "\n",
      "--\n",
      "Recursing into step ../cwl/abc-enchancer-gene-prediction.wf.cwl:macs2_call_peaks\n"
     ]
    }
   ],
   "source": [
    "%%bash\n",
    "# remember to commit first\n",
    "sbpack bdc dave/abc-development-scratch-project/abc-enchancer-gene-prediction ../cwl/abc-enchancer-gene-prediction.wf.cwl"
   ]
  },
  {
   "attachments": {
    "image.png": {
     "image/png": "[encoded data removed]"
    }
   },
   "cell_type": "markdown",
   "metadata": {},
   "source": [
    "![image.png](attachment:image.png)"
   ]
  }
 ],
 "metadata": {
  "kernelspec": {
   "display_name": "Python 3",
   "language": "python",
   "name": "python3"
  },
  "language_info": {
   "codemirror_mode": {
    "name": "ipython",
    "version": 3
   },
   "file_extension": ".py",
   "mimetype": "text/x-python",
   "name": "python",
   "nbconvert_exporter": "python",
   "pygments_lexer": "ipython3",
   "version": "3.10.4"
  },
  "orig_nbformat": 4
 },
 "nbformat": 4,
 "nbformat_minor": 2
}
