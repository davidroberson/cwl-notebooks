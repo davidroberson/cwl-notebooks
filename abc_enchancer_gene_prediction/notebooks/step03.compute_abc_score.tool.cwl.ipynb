{
 "cells": [
  {
   "attachments": {},
   "cell_type": "markdown",
   "id": "f1a00565-1ce9-4804-b72e-0fd4bd67ca34",
   "metadata": {
    "jp-MarkdownHeadingCollapsed": true,
    "tags": []
   },
   "source": [
    "# I Initialize"
   ]
  },
  {
   "attachments": {},
   "cell_type": "markdown",
   "id": "36f61961-5277-4ebb-869b-e620d9775679",
   "metadata": {},
   "source": [
    "This notebook is a walkthrough of describing the 3rd step in the ABC Enhancer Gene Prediction model\n",
    "\n",
    "[broadinstitute/ABC-Enhancer-Gene-Prediction: Cell type specific enhancer-gene predictions using ABC model (Fulco, Nasser et al, Nature Genetics 2019)](https://github.com/broadinstitute/ABC-Enhancer-Gene-Prediction)  \n",
    "\n",
    "From the repo:\n",
    "\n",
    "Computing the ABC Score\n",
    "\n",
    "Compute ABC scores by combining Activity (as calculated by run.neighborhoods.py) and Hi-C.\n",
    "\n",
    "```\n",
    "python src/predict.py \\\n",
    "--enhancers example_chr22/ABC_output/Neighborhoods/EnhancerList.txt \\\n",
    "--genes example_chr22/ABC_output/Neighborhoods/GeneList.txt \\\n",
    "--HiCdir example_chr22/input_data/HiC/raw/ \\\n",
    "--chrom_sizes example_chr22/reference/chr22 \\\n",
    "--hic_resolution 5000 \\\n",
    "--scale_hic_using_powerlaw \\\n",
    "--threshold .02 \\\n",
    "--cellType K562 \\\n",
    "--outdir example_chr22/ABC_output/Predictions/ \\\n",
    "--make_all_putative\n",
    "```\n",
    "\n",
    "Main output files:\n",
    "\n",
    "  * **EnhancerList.txt**: Candidate enhancer regions with Dnase-seq and H3K27ac ChIP-seq read counts\n",
    "  * **GeneList.txt**: Dnase-seq and H3K27ac ChIP-seq read counts on gene bodies and gene promoter regions\n"
   ]
  },
  {
   "attachments": {},
   "cell_type": "markdown",
   "id": "0af4d32f-13cd-4d0c-b4aa-48e36394c640",
   "metadata": {
    "jp-MarkdownHeadingCollapsed": true,
    "tags": []
   },
   "source": [
    "## Load packages"
   ]
  },
  {
   "cell_type": "code",
   "execution_count": 42,
   "id": "658e5314-e9f7-4a12-9aa0-898c337a59b6",
   "metadata": {
    "jupyter": {
     "source_hidden": true
    }
   },
   "outputs": [],
   "source": [
    "#from sevenbridges import Api, ImportExportState\n",
    "import yaml\n",
    "import time\n",
    "import json\n",
    "import importlib\n",
    "import getpass\n",
    "import sevenbridges"
   ]
  },
  {
   "cell_type": "code",
   "execution_count": 43,
   "id": "67e2db23-604f-4937-bcb7-2d14030d3fe3",
   "metadata": {
    "jupyter": {
     "source_hidden": true
    }
   },
   "outputs": [
    {
     "name": "stdout",
     "output_type": "stream",
     "text": [
      "The yamlmagic extension is already loaded. To reload it, use:\n",
      "  %reload_ext yamlmagic\n"
     ]
    }
   ],
   "source": [
    "%load_ext yamlmagic"
   ]
  },
  {
   "attachments": {},
   "cell_type": "markdown",
   "id": "231622e7",
   "metadata": {},
   "source": [
    "# II CWL Description"
   ]
  },
  {
   "attachments": {},
   "cell_type": "markdown",
   "id": "efe56e3b-b619-437d-9397-0bceedf0eab6",
   "metadata": {
    "jp-MarkdownHeadingCollapsed": true,
    "tags": []
   },
   "source": [
    "## Section 1/4 - Tool Label and Documentation"
   ]
  },
  {
   "cell_type": "code",
   "execution_count": 44,
   "id": "e4b17418-6b2d-4629-88a7-3264c2f81944",
   "metadata": {
    "tags": []
   },
   "outputs": [
    {
     "data": {
      "application/javascript": "\n            require(\n                [\n                    \"notebook/js/codecell\",\n                    \"codemirror/mode/yaml/yaml\"\n                ],\n                function(cc){\n                    cc.CodeCell.options_default.highlight_modes.magic_yaml = {\n                        reg: [\"^%%yaml\"]\n                    }\n                }\n            );\n            ",
      "text/plain": [
       "<IPython.core.display.Javascript object>"
      ]
     },
     "metadata": {},
     "output_type": "display_data"
    }
   ],
   "source": [
    "%%yaml label_and_description\n",
    "\n",
    "#### rarely changing header and boiler plate\n",
    "cwlVersion: v1.2\n",
    "class: CommandLineTool\n",
    "$namespaces:\n",
    "  sbg: https://sevenbridges.com\n",
    "hints:\n",
    "- class: sbg:SaveLogs\n",
    "  value: '*.sh'  \n",
    "\n",
    "#### Tool Label  \n",
    "label: Compute ABC Score\n",
    "\n",
    "#### Tool Description\n",
    "doc: |-\n",
    "\n",
    "  Compute ABC scores by combining Activity (as calculated by run.neighborhoods.py) and Hi-C.  \n",
    "  \n"
   ]
  },
  {
   "attachments": {},
   "cell_type": "markdown",
   "id": "edd2a20c-36f3-4fab-bbad-0395fe86e299",
   "metadata": {
    "jp-MarkdownHeadingCollapsed": true,
    "tags": []
   },
   "source": [
    "## Section 2/4 Tool Inputs"
   ]
  },
  {
   "cell_type": "code",
   "execution_count": 45,
   "id": "552af31a-3a3b-4353-a3e9-8ede4edce8ce",
   "metadata": {
    "jupyter": {
     "source_hidden": true
    }
   },
   "outputs": [
    {
     "data": {
      "application/javascript": "\n            require(\n                [\n                    \"notebook/js/codecell\",\n                    \"codemirror/mode/yaml/yaml\"\n                ],\n                function(cc){\n                    cc.CodeCell.options_default.highlight_modes.magic_yaml = {\n                        reg: [\"^%%yaml\"]\n                    }\n                }\n            );\n            ",
      "text/plain": [
       "<IPython.core.display.Javascript object>"
      ]
     },
     "metadata": {},
     "output_type": "display_data"
    }
   ],
   "source": [
    "%%yaml inputs\n",
    "\n",
    "inputs:\n",
    "- id: enhancers\n",
    "  type: File\n",
    "  doc: EnhancerList.txt\n",
    "  sbg:fileTypes: TXT\n",
    "  \n",
    "- id: genes\n",
    "  type: File\n",
    "  doc: GeneList.txt\n",
    "  sbg:fileTypes: TXT\n",
    "\n",
    "- id: hi_c_directory\n",
    "  type: Directory\n",
    "  doc: example_chr22/input_data/HiC/raw/\n",
    "\n",
    "- id: chrom_sizes\n",
    "  type: File\n",
    "  doc: example_chr22/reference/chr22\n",
    "  secondaryFiles:\n",
    "  - pattern: .bed\n",
    "\n",
    "- id: hi_c_resolution\n",
    "  type: int\n",
    "\n",
    "- id: cell_type\n",
    "  type: string\n"
   ]
  },
  {
   "attachments": {},
   "cell_type": "markdown",
   "id": "f3a736dd-888c-4a5d-a777-27e1e03e1715",
   "metadata": {
    "jp-MarkdownHeadingCollapsed": true,
    "tags": []
   },
   "source": [
    "## Section 3/4 Scripts and Other Requirements"
   ]
  },
  {
   "cell_type": "code",
   "execution_count": 46,
   "id": "d69f7ea2-adc8-4a58-9f16-e5967d0fcce0",
   "metadata": {
    "jupyter": {
     "source_hidden": true
    }
   },
   "outputs": [
    {
     "data": {
      "application/javascript": "\n            require(\n                [\n                    \"notebook/js/codecell\",\n                    \"codemirror/mode/yaml/yaml\"\n                ],\n                function(cc){\n                    cc.CodeCell.options_default.highlight_modes.magic_yaml = {\n                        reg: [\"^%%yaml\"]\n                    }\n                }\n            );\n            ",
      "text/plain": [
       "<IPython.core.display.Javascript object>"
      ]
     },
     "metadata": {},
     "output_type": "display_data"
    }
   ],
   "source": [
    "%%yaml base_command_and_requirements\n",
    "baseCommand:\n",
    "- bash\n",
    "- predict.sh\n",
    "requirements:\n",
    "- class: ShellCommandRequirement\n",
    "- class: InlineJavascriptRequirement\n",
    "- class: DockerRequirement\n",
    "  dockerPull: images.sb.biodatacatalyst.nhlbi.nih.gov/andrewblair/cardiac-compendium:2023042901\n",
    "- class: InitialWorkDirRequirement\n",
    "  listing:\n",
    "  - entryname: predict.sh\n",
    "    writable: false\n",
    "    entry: |-\n",
    "    \n",
    "      python /usr/src/app/src/predict.py \\\n",
    "      --enhancers $(inputs.enhancers.path) \\\n",
    "      --genes $(inputs.genes.path) \\\n",
    "      --HiCdir $(inputs.hi_c_directory.path) \\\n",
    "      --chrom_sizes $(inputs.chrom_sizes.path) \\\n",
    "      --hic_resolution 5000 \\\n",
    "      --scale_hic_using_powerlaw \\\n",
    "      --threshold .02 \\\n",
    "      --cellType $(inputs.cel_type) \\\n",
    "      --outdir ./ \\\n",
    "      --make_all_putative\n",
    "\n",
    "\n",
    "\n",
    "     \n"
   ]
  },
  {
   "attachments": {},
   "cell_type": "markdown",
   "id": "47b05eb8-4462-4d13-96bc-f699bf0f6406",
   "metadata": {
    "jp-MarkdownHeadingCollapsed": true,
    "tags": []
   },
   "source": [
    "## Section 4/4 Tool Outputs"
   ]
  },
  {
   "cell_type": "code",
   "execution_count": 47,
   "id": "3faf31ff-85c2-4fe8-b889-a750f80b4d8c",
   "metadata": {
    "jupyter": {
     "source_hidden": true
    }
   },
   "outputs": [
    {
     "data": {
      "application/javascript": "\n            require(\n                [\n                    \"notebook/js/codecell\",\n                    \"codemirror/mode/yaml/yaml\"\n                ],\n                function(cc){\n                    cc.CodeCell.options_default.highlight_modes.magic_yaml = {\n                        reg: [\"^%%yaml\"]\n                    }\n                }\n            );\n            ",
      "text/plain": [
       "<IPython.core.display.Javascript object>"
      ]
     },
     "metadata": {},
     "output_type": "display_data"
    }
   ],
   "source": [
    "%%yaml outputs\n",
    "outputs:\n",
    "- id: enchancer_list\n",
    "  type: File\n",
    "  outputBinding:\n",
    "    glob: '*EnhancerList.txt'\n",
    "\n"
   ]
  },
  {
   "cell_type": "markdown",
   "id": "8742d141",
   "metadata": {},
   "source": [
    "# III Test tool"
   ]
  },
  {
   "cell_type": "code",
   "execution_count": 48,
   "id": "24bcd747",
   "metadata": {},
   "outputs": [],
   "source": [
    "with open('../cwl/step03_compute_abc_score.tool.cwl', 'w') as f:\n",
    "    data = yaml.dump(label_and_description | inputs | base_command_and_requirements | outputs, f, sort_keys=False, default_flow_style=False)"
   ]
  },
  {
   "cell_type": "code",
   "execution_count": 49,
   "id": "30fed29a",
   "metadata": {},
   "outputs": [
    {
     "name": "stderr",
     "output_type": "stream",
     "text": [
      "\u001b[1;30mINFO\u001b[0m /home/codespace/.python/current/bin/cwltool 3.1.20230425144158\n",
      "\u001b[1;30mINFO\u001b[0m Resolved '../cwl/step03_compute_abc_score.tool.cwl' to 'file:///workspaces/workflow-notebooks/abc_enchancer_gene_prediction/cwl/step03_compute_abc_score.tool.cwl'\n",
      "../cwl/step03_compute_abc_score.tool.cwl:6:3: Warning: checking item\n",
      "                                              Warning:   Field 'class' contains undefined reference\n",
      "                                              to 'https://sevenbridges.comSaveLogs'\n",
      "\u001b[1;30mINFO\u001b[0m ../cwl/step03_compute_abc_score.tool.cwl:6:3: Unknown hint https://sevenbridges.comSaveLogs\n"
     ]
    },
    {
     "name": "stdout",
     "output_type": "stream",
     "text": [
      "usage: ../cwl/step03_compute_abc_score.tool.cwl [-h] --enhancers ENHANCERS\n",
      "                                                --genes GENES --hi_c_directory\n",
      "                                                HI_C_DIRECTORY --chrom_sizes\n",
      "                                                CHROM_SIZES --hi_c_resolution\n",
      "                                                HI_C_RESOLUTION --cell_type\n",
      "                                                CELL_TYPE\n",
      "                                                [job_order]\n",
      "\n",
      "Compute ABC scores by combining Activity (as calculated by\n",
      "run.neighborhoods.py) and Hi-C.\n",
      "\n",
      "positional arguments:\n",
      "  job_order             Job input json file\n",
      "\n",
      "options:\n",
      "  -h, --help            show this help message and exit\n",
      "  --enhancers ENHANCERS\n",
      "                        EnhancerList.txt\n",
      "  --genes GENES         GeneList.txt\n",
      "  --hi_c_directory HI_C_DIRECTORY\n",
      "                        example_chr22/input_data/HiC/raw/\n",
      "  --chrom_sizes CHROM_SIZES\n",
      "                        example_chr22/reference/chr22\n",
      "  --hi_c_resolution HI_C_RESOLUTION\n",
      "  --cell_type CELL_TYPE\n"
     ]
    }
   ],
   "source": [
    "%%bash\n",
    "cwltool --tool-help ../cwl/step03_compute_abc_score.tool.cwl"
   ]
  },
  {
   "cell_type": "code",
   "execution_count": 50,
   "id": "34fe6be5",
   "metadata": {},
   "outputs": [],
   "source": [
    "%%script false --no-raise-error\n",
    "#%%bash\n",
    "cwltool ../step02_run_neighborhoods.tool.cwl \\\n",
    "--candidate_enchancer_regions wgEncodeUwDnaseK562AlnRep1.chr22.macs2_peaks.narrowPeak.sorted.candidateRegions.bed \\\n",
    "  --genes GENES\n",
    "  --H3K27ac H3K27AC     ENCFF384ZZM.chr22.bam \\\n",
    "  --dhs DHS             wgEncodeUwDnaseK562AlnRep1.chr22.bam \\\n",
    "  --expression_table K562.ENCFF934YBO.TPM.txt \\\n",
    "  --chrom_sizes chr22 \\\n",
    "  --ubiquitously_expressed_genes UbiquitouslyExpressedGenesHG19.txt \\\n",
    "  --cell_type K562"
   ]
  },
  {
   "cell_type": "code",
   "execution_count": 51,
   "id": "e19100af",
   "metadata": {},
   "outputs": [],
   "source": [
    "%%script false --no-raise-error\n",
    "python /usr/src/app/src/run.neighborhoods.py \\\n",
    "--candidate_enhancer_regions wgEncodeUwDnaseK562AlnRep1.chr22.macs2_peaks.narrowPeak.sorted.candidateRegions.bed \\\n",
    "--genes RefSeqCurated.170308.bed.CollapsedGeneBounds.chr22.bed \\\n",
    "--H3K27ac ENCFF384ZZM.chr22.bam \\\n",
    "--DHS wgEncodeUwDnaseK562AlnRep1.chr22.bam \\\n",
    "--expression_table K562.ENCFF934YBO.TPM.txt \\\n",
    "--chrom_sizes chr22 \\\n",
    "--ubiquitously_expressed_genes UbiquitouslyExpressedGenesHG19.txt \\\n",
    "--cellType DHS \\\n",
    "--outdir ./"
   ]
  },
  {
   "attachments": {},
   "cell_type": "markdown",
   "id": "ae1d8c0b-70f1-4cd6-815e-249ce0590e95",
   "metadata": {
    "jp-MarkdownHeadingCollapsed": true,
    "tags": []
   },
   "source": [
    "# IV Push tool to platform"
   ]
  },
  {
   "cell_type": "code",
   "execution_count": 52,
   "id": "dbefbc1b",
   "metadata": {},
   "outputs": [
    {
     "name": "stdout",
     "output_type": "stream",
     "text": [
      "\n",
      "sbpack v2022.03.16\n",
      "Upload CWL apps to any Seven Bridges powered platform\n",
      "(c) Seven Bridges 2020\n",
      "\n"
     ]
    },
    {
     "name": "stderr",
     "output_type": "stream",
     "text": [
      "Packing ../cwl/step03_compute_abc_score.tool.cwl\n"
     ]
    }
   ],
   "source": [
    "%%bash\n",
    "sbpack bdc dave/abc-development-scratch-project/compute-abc-score ../cwl/step03_compute_abc_score.tool.cwl"
   ]
  },
  {
   "attachments": {},
   "cell_type": "markdown",
   "id": "2800bf53",
   "metadata": {},
   "source": [
    "## V  Issues Encountered while Debugging"
   ]
  },
  {
   "attachments": {},
   "cell_type": "markdown",
   "id": "2b0315af",
   "metadata": {},
   "source": [
    "came across this same issue as  \n",
    "[gzip: stdout: Broken pipe · Issue #74 · broadinstitute/ABC-Enhancer-Gene-Prediction](https://github.com/broadinstitute/ABC-Enhancer-Gene-Prediction/issues/74) \n",
    "Will have to correct and re-build docker.  \n"
   ]
  },
  {
   "attachments": {},
   "cell_type": "markdown",
   "id": "d392f473-1127-49ef-a70f-7728a0df3639",
   "metadata": {
    "tags": []
   },
   "source": [
    "# VI References"
   ]
  },
  {
   "cell_type": "markdown",
   "id": "1a715203-62c9-4da6-9d58-499d2372663e",
   "metadata": {},
   "source": [
    "https://docs.sevenbridges.com/reference/add-an-app-using-raw-cwl"
   ]
  }
 ],
 "metadata": {
  "kernelspec": {
   "display_name": "Python 3 (ipykernel)",
   "language": "python",
   "name": "python3"
  },
  "language_info": {
   "codemirror_mode": {
    "name": "ipython",
    "version": 3
   },
   "file_extension": ".py",
   "mimetype": "text/x-python",
   "name": "python",
   "nbconvert_exporter": "python",
   "pygments_lexer": "ipython3",
   "version": "3.10.4"
  },
  "toc-autonumbering": true,
  "toc-showcode": true,
  "toc-showmarkdowntxt": false
 },
 "nbformat": 4,
 "nbformat_minor": 5
}
