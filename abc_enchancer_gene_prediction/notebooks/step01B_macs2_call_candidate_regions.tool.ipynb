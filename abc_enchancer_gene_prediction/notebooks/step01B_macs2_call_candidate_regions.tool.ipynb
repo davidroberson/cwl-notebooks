{
 "cells": [
  {
   "attachments": {},
   "cell_type": "markdown",
   "id": "f1a00565-1ce9-4804-b72e-0fd4bd67ca34",
   "metadata": {
    "jp-MarkdownHeadingCollapsed": true,
    "tags": []
   },
   "source": [
    "# I Initialize"
   ]
  },
  {
   "attachments": {},
   "cell_type": "markdown",
   "id": "36f61961-5277-4ebb-869b-e620d9775679",
   "metadata": {},
   "source": [
    "This notebook is a walkthrough of describing the 2nd 1 step in the ABC Enhancer Gene Prediction model\n",
    "\n",
    "[broadinstitute/ABC-Enhancer-Gene-Prediction: Cell type specific enhancer-gene predictions using ABC model (Fulco, Nasser et al, Nature Genetics 2019)](https://github.com/broadinstitute/ABC-Enhancer-Gene-Prediction)  \n",
    "\n",
    "We wrap the macs2 call candidate regions step.  The example code in the github repo is this\n",
    "\n",
    "```\n",
    "conda env create -f abcenv.yml\n",
    "\n",
    "python src/makeCandidateRegions.py \\\n",
    "--narrowPeak example_chr22/ABC_output/Peaks/wgEncodeUwDnaseK562AlnRep1.chr22.macs2_peaks.narrowPeak.sorted \\\n",
    "--bam example_chr22/input_data/Chromatin/wgEncodeUwDnaseK562AlnRep1.chr22.bam \\\n",
    "--outDir example_chr22/ABC_output/Peaks/ \\\n",
    "--chrom_sizes example_chr22/reference/chr22 \\\n",
    "--regions_blocklist reference/wgEncodeHg19ConsensusSignalArtifactRegions.bed \\\n",
    "--regions_includelist example_chr22/reference/RefSeqCurated.170308.bed.CollapsedGeneBounds.TSS500bp.chr22.bed \\\n",
    "--peakExtendFromSummit 250 \\\n",
    "--nStrongestPeaks 3000 \n",
    "\n",
    "```"
   ]
  },
  {
   "attachments": {},
   "cell_type": "markdown",
   "id": "0af4d32f-13cd-4d0c-b4aa-48e36394c640",
   "metadata": {
    "jp-MarkdownHeadingCollapsed": true,
    "tags": []
   },
   "source": [
    "## Load packages"
   ]
  },
  {
   "cell_type": "code",
   "execution_count": 2,
   "id": "658e5314-e9f7-4a12-9aa0-898c337a59b6",
   "metadata": {
    "jupyter": {
     "source_hidden": true
    }
   },
   "outputs": [],
   "source": [
    "#from sevenbridges import Api, ImportExportState\n",
    "import yaml\n",
    "import time\n",
    "import json\n",
    "import importlib\n",
    "import getpass\n",
    "import sevenbridges"
   ]
  },
  {
   "cell_type": "code",
   "execution_count": 3,
   "id": "67e2db23-604f-4937-bcb7-2d14030d3fe3",
   "metadata": {
    "jupyter": {
     "source_hidden": true
    }
   },
   "outputs": [],
   "source": [
    "%load_ext yamlmagic"
   ]
  },
  {
   "attachments": {},
   "cell_type": "markdown",
   "id": "231622e7",
   "metadata": {},
   "source": [
    "# II CWL Description"
   ]
  },
  {
   "attachments": {},
   "cell_type": "markdown",
   "id": "efe56e3b-b619-437d-9397-0bceedf0eab6",
   "metadata": {
    "jp-MarkdownHeadingCollapsed": true,
    "tags": []
   },
   "source": [
    "## Section 1/4 - Tool Label and Documentation"
   ]
  },
  {
   "cell_type": "code",
   "execution_count": 4,
   "id": "e4b17418-6b2d-4629-88a7-3264c2f81944",
   "metadata": {
    "tags": []
   },
   "outputs": [
    {
     "data": {
      "application/javascript": "\n            require(\n                [\n                    \"notebook/js/codecell\",\n                    \"codemirror/mode/yaml/yaml\"\n                ],\n                function(cc){\n                    cc.CodeCell.options_default.highlight_modes.magic_yaml = {\n                        reg: [\"^%%yaml\"]\n                    }\n                }\n            );\n            ",
      "text/plain": [
       "<IPython.core.display.Javascript object>"
      ]
     },
     "metadata": {},
     "output_type": "display_data"
    }
   ],
   "source": [
    "%%yaml label_and_description\n",
    "\n",
    "#### rarely changing header and bioler plate\n",
    "cwlVersion: v1.2\n",
    "class: CommandLineTool\n",
    "$namespaces:\n",
    "  sbg: https://sevenbridges.com\n",
    "hints:\n",
    "- class: sbg:SaveLogs\n",
    "  value: '*.sh'  \n",
    "\n",
    "#### Tool Label  \n",
    "label: MACS2 Call Candidate Regions\n",
    "\n",
    "#### Tool Description\n",
    "\n",
    "doc: |-\n",
    "\n",
    "  The call candidate regions tool does this...\n",
    "  \n"
   ]
  },
  {
   "attachments": {},
   "cell_type": "markdown",
   "id": "edd2a20c-36f3-4fab-bbad-0395fe86e299",
   "metadata": {
    "jp-MarkdownHeadingCollapsed": true,
    "tags": []
   },
   "source": [
    "## Section 2/4 Tool Inputs"
   ]
  },
  {
   "cell_type": "markdown",
   "id": "97de3b53-b883-4bf6-9076-16686cfda052",
   "metadata": {},
   "source": [
    "example\n",
    "```\n",
    "- id: bam\n",
    "  type: File\n",
    "  secondaryFiles:\n",
    "  - pattern: .bai\n",
    "    required: true\n",
    "  sbg:fileTypes: BAM\n",
    "```"
   ]
  },
  {
   "cell_type": "code",
   "execution_count": 5,
   "id": "552af31a-3a3b-4353-a3e9-8ede4edce8ce",
   "metadata": {
    "jupyter": {
     "source_hidden": true
    }
   },
   "outputs": [
    {
     "data": {
      "application/javascript": "\n            require(\n                [\n                    \"notebook/js/codecell\",\n                    \"codemirror/mode/yaml/yaml\"\n                ],\n                function(cc){\n                    cc.CodeCell.options_default.highlight_modes.magic_yaml = {\n                        reg: [\"^%%yaml\"]\n                    }\n                }\n            );\n            ",
      "text/plain": [
       "<IPython.core.display.Javascript object>"
      ]
     },
     "metadata": {},
     "output_type": "display_data"
    }
   ],
   "source": [
    "%%yaml inputs\n",
    "\n",
    "inputs:\n",
    "#narrowPeak example_chr22/ABC_output/Peaks/wgEncodeUwDnaseK562AlnRep1.chr22.macs2_peaks.narrowPeak.sorted \\\n",
    "- id: narrow_peak\n",
    "  type: File\n",
    "\n",
    "#bam example_chr22/input_data/Chromatin/wgEncodeUwDnaseK562AlnRep1.chr22.bam\n",
    "- id: bam\n",
    "  type: File\n",
    "  sbg:fileTypes: BAM\n",
    "  secondaryFiles:\n",
    "  - pattern: .bai\n",
    "\n",
    "#chrom_sizes example_chr22/reference/chr22 \\\n",
    "- id: chr_sizes\n",
    "  type: File\n",
    "\n",
    "#regions_blocklist reference/wgEncodeHg19ConsensusSignalArtifactRegions.bed\n",
    "- id: regions_blocklist\n",
    "  type: File\n",
    "  sbg:fileTypes: BED\n",
    "\n",
    "#regions_includelist example_chr22/reference/RefSeqCurated.170308.bed.CollapsedGeneBounds.TSS500bp.chr22.bed\n",
    "- id: regions_includelist\n",
    "  type: File\n",
    "  sbg:fileTypes: BED\n"
   ]
  },
  {
   "attachments": {},
   "cell_type": "markdown",
   "id": "f3a736dd-888c-4a5d-a777-27e1e03e1715",
   "metadata": {
    "jp-MarkdownHeadingCollapsed": true,
    "tags": []
   },
   "source": [
    "## Section 3/4 Scripts and Other Requirements"
   ]
  },
  {
   "cell_type": "markdown",
   "id": "8d24417f-5e3d-4f46-8c64-42ee79b46499",
   "metadata": {},
   "source": [
    "inlines javascript examples  \n",
    "```\n",
    "$(inputs.bam.path) -n $(inputs.bam.nameroot).macs2\n",
    "```"
   ]
  },
  {
   "cell_type": "code",
   "execution_count": 6,
   "id": "d69f7ea2-adc8-4a58-9f16-e5967d0fcce0",
   "metadata": {
    "jupyter": {
     "source_hidden": true
    }
   },
   "outputs": [
    {
     "data": {
      "application/javascript": "\n            require(\n                [\n                    \"notebook/js/codecell\",\n                    \"codemirror/mode/yaml/yaml\"\n                ],\n                function(cc){\n                    cc.CodeCell.options_default.highlight_modes.magic_yaml = {\n                        reg: [\"^%%yaml\"]\n                    }\n                }\n            );\n            ",
      "text/plain": [
       "<IPython.core.display.Javascript object>"
      ]
     },
     "metadata": {},
     "output_type": "display_data"
    }
   ],
   "source": [
    "%%yaml base_command_and_requirements\n",
    "baseCommand:\n",
    "- bash\n",
    "- call_candidate_regions.sh\n",
    "requirements:\n",
    "- class: ShellCommandRequirement\n",
    "- class: InlineJavascriptRequirement\n",
    "- class: DockerRequirement\n",
    "  dockerPull: images.sb.biodatacatalyst.nhlbi.nih.gov/andrewblair/cardiac-compendium:2023042401\n",
    "- class: InitialWorkDirRequirement\n",
    "  listing:\n",
    "  - entryname: call_candidate_regions.sh\n",
    "    writable: false\n",
    "    entry: |-\n",
    "      #conda env create -f abcenv.yml\n",
    "\n",
    "      python3 /usr/src/app/src/makeCandidateRegions.py \\\n",
    "      --narrowPeak $(inputs.narrow_peak.path) \\\n",
    "      --bam $(inputs.bam.path) \\\n",
    "      --outDir ./ \\\n",
    "      --chrom_sizes $(inputs.chr_sizes.path) \\\n",
    "      --regions_blocklist $(inputs.regions_blocklist.path) \\\n",
    "      --regions_includelist $(inputs.regions_includelist.path) \\\n",
    "      --peakExtendFromSummit 250 \\\n",
    "      --nStrongestPeaks 3000 \n",
    "     \n"
   ]
  },
  {
   "attachments": {},
   "cell_type": "markdown",
   "id": "47b05eb8-4462-4d13-96bc-f699bf0f6406",
   "metadata": {
    "jp-MarkdownHeadingCollapsed": true,
    "tags": []
   },
   "source": [
    "## Section 4/4 Tool Outputs"
   ]
  },
  {
   "cell_type": "code",
   "execution_count": 7,
   "id": "3faf31ff-85c2-4fe8-b889-a750f80b4d8c",
   "metadata": {
    "jupyter": {
     "source_hidden": true
    }
   },
   "outputs": [
    {
     "data": {
      "application/javascript": "\n            require(\n                [\n                    \"notebook/js/codecell\",\n                    \"codemirror/mode/yaml/yaml\"\n                ],\n                function(cc){\n                    cc.CodeCell.options_default.highlight_modes.magic_yaml = {\n                        reg: [\"^%%yaml\"]\n                    }\n                }\n            );\n            ",
      "text/plain": [
       "<IPython.core.display.Javascript object>"
      ]
     },
     "metadata": {},
     "output_type": "display_data"
    }
   ],
   "source": [
    "%%yaml outputs\n",
    "outputs:\n",
    "- id: candidate_regions\n",
    "  type: File\n",
    "  outputBinding:\n",
    "    glob: '*candidateRegions.bed'\n",
    "- id: counts\n",
    "  type: File\n",
    "  outputBinding:\n",
    "    glob: '*Counts.bed'"
   ]
  },
  {
   "cell_type": "code",
   "execution_count": null,
   "id": "24bcd747",
   "metadata": {},
   "outputs": [],
   "source": [
    "with open('../cwl/step01B_macs2_call_candidate_regions.cwl', 'w') as f:\n",
    "    data = yaml.dump(label_and_description | inputs | base_command_and_requirements | outputs, f, sort_keys=False, default_flow_style=False)"
   ]
  },
  {
   "cell_type": "markdown",
   "id": "8742d141",
   "metadata": {},
   "source": [
    "# III Test tool"
   ]
  },
  {
   "cell_type": "code",
   "execution_count": null,
   "id": "30fed29a",
   "metadata": {},
   "outputs": [
    {
     "name": "stderr",
     "output_type": "stream",
     "text": [
      "\u001b[1;30mINFO\u001b[0m /home/codespace/.python/current/bin/cwltool 3.1.20230325110543\n",
      "\u001b[1;30mINFO\u001b[0m Resolved 'step01B_macs2_call_candidate_regions.cwl' to 'file:///workspaces/cwl-notebooks/abc_enchancer_gene_prediction/step01B_macs2_call_candidate_regions.cwl'\n",
      "step01B_macs2_call_candidate_regions.cwl:6:3: Warning: checking item\n",
      "                                              Warning:   Field `class` contains undefined reference\n",
      "                                              to `https://sevenbridges.comSaveLogs`\n",
      "\u001b[1;30mINFO\u001b[0m step01B_macs2_call_candidate_regions.cwl:6:3: Unknown hint https://sevenbridges.comSaveLogs\n"
     ]
    },
    {
     "name": "stdout",
     "output_type": "stream",
     "text": [
      "usage: step01B_macs2_call_candidate_regions.cwl [-h] --narrow_peak NARROW_PEAK\n",
      "                                                --bam BAM --chr_sizes\n",
      "                                                CHR_SIZES --regions_blocklist\n",
      "                                                REGIONS_BLOCKLIST\n",
      "                                                --regions_includelist\n",
      "                                                REGIONS_INCLUDELIST\n",
      "                                                [job_order]\n",
      "\n",
      "The call candidate regions tool does this...\n",
      "\n",
      "positional arguments:\n",
      "  job_order             Job input json file\n",
      "\n",
      "options:\n",
      "  -h, --help            show this help message and exit\n",
      "  --narrow_peak NARROW_PEAK\n",
      "  --bam BAM\n",
      "  --chr_sizes CHR_SIZES\n",
      "  --regions_blocklist REGIONS_BLOCKLIST\n",
      "  --regions_includelist REGIONS_INCLUDELIST\n"
     ]
    }
   ],
   "source": [
    "%%bash\n",
    "cwltool --tool-help step01B_macs2_call_candidate_regions.cwl"
   ]
  },
  {
   "cell_type": "code",
   "execution_count": null,
   "metadata": {},
   "outputs": [],
   "source": [
    "#%%bash\n",
    "#cwltool macs2_call_candidate_regions.cwl \\\n",
    "#    --narrow_peak /workspaces/cwl-notebooks/tools/ABC-Enhancer-Gene-Prediction/example_chr22/input_data/Chromatin/wgEncodeUwDnaseK562.mergedPeaks.slop175.withTSS500bp.chr22.bed \\\n",
    "#    --bam /workspaces/cwl-notebooks/tools/ABC-Enhancer-Gene-Prediction/example_chr22/input_data/Chromatin/wgEncodeUwDnaseK562AlnRep1.chr22.bam \\\n",
    "#    --chr_sizes /workspaces/cwl-notebooks/tools/ABC-Enhancer-Gene-Prediction/example_chr22/reference/chr22 \\\n",
    "#    --regions_blocklist /workspaces/cwl-notebooks/tools/ABC-Enhancer-Gene-Prediction/reference/wgEncodeHg19ConsensusSignalArtifactRegions.bed \\\n",
    "#    --regions_includelist /workspaces/cwl-notebooks/tools/ABC-Enhancer-Gene-Prediction/example_chr22/reference/RefSeqCurated.170308.bed.CollapsedGeneBounds.TSS500bp.chr22.bed"
   ]
  },
  {
   "attachments": {},
   "cell_type": "markdown",
   "id": "ae1d8c0b-70f1-4cd6-815e-249ce0590e95",
   "metadata": {
    "jp-MarkdownHeadingCollapsed": true,
    "tags": []
   },
   "source": [
    "# IV Push tool to platform"
   ]
  },
  {
   "cell_type": "code",
   "execution_count": 14,
   "id": "dbefbc1b",
   "metadata": {},
   "outputs": [
    {
     "name": "stdout",
     "output_type": "stream",
     "text": [
      "\n",
      "sbpack v2022.03.16\n",
      "Upload CWL apps to any Seven Bridges powered platform\n",
      "(c) Seven Bridges 2020\n",
      "\n"
     ]
    },
    {
     "name": "stderr",
     "output_type": "stream",
     "text": [
      "Packing step01B_macs2_call_candidate_regions.cwl\n"
     ]
    },
    {
     "name": "stderr",
     "output_type": "stream",
     "text": [
      "Bad pipe message: %s [b'*\\xc9\\xcf\\xe7ba\\x1f\\xf5\\xd9UK\\xfa\\xd2\\x88\\x1d\\xeb\\x98\\xf1 \\xa4\\x8c\\xdb\\xfb\\x81\\xf3_\\x1a\\x81(\\xf7\\xad\\x1a_y\\x98\\x02!5|\\x05z\\xa1\\x8b-;K\\xaapwqb\\x00\\x08\\x13\\x02\\x13\\x03\\x13\\x01\\x00\\xff\\x01\\x00\\x00\\x8f\\x00\\x00\\x00\\x0e\\x00\\x0c\\x00\\x00\\t127']\n",
      "Bad pipe message: %s [b'.0.1\\x00\\x0b\\x00\\x04\\x03\\x00\\x01\\x02\\x00\\n\\x00\\x0c\\x00\\n\\x00\\x1d\\x00\\x17\\x00\\x1e\\x00\\x19\\x00\\x18\\x00#\\x00\\x00\\x00\\x16\\x00\\x00\\x00\\x17\\x00\\x00\\x00\\r\\x00\\x1e\\x00']\n",
      "Bad pipe message: %s [b'\\x03\\x05\\x03\\x06\\x03\\x08\\x07\\x08\\x08\\x08\\t\\x08\\n\\x08\\x0b\\x08\\x04\\x08\\x05\\x08\\x06\\x04\\x01\\x05\\x01\\x06\\x01']\n",
      "Bad pipe message: %s [b'%\\xf1c\\xed\\\\\\t\\xa2\\x9dH\\x81\\xa7lY8\\xc2\\xee\\xea\\xc9\\x00\\x00|\\xc0,\\xc00\\x00', b\"\\x9f\\xcc\\xa9\\xcc\\xa8\\xcc\\xaa\\xc0\\xaf\\xc0\\xad\\xc0\\xa3\\xc0\\x9f\\xc0]\\xc0a\\xc0W\\xc0S\\xc0+\\xc0/\\x00\\xa2\\x00\\x9e\\xc0\\xae\\xc0\\xac\\xc0\\xa2\\xc0\\x9e\\xc0\\\\\\xc0`\\xc0V\\xc0R\\xc0$\\xc0(\\x00k\\x00j\\xc0#\\xc0'\\x00g\\x00@\\xc0\\n\\xc0\\x14\\x009\\x008\\xc0\\t\\xc0\\x13\\x003\\x002\\x00\\x9d\\xc0\\xa1\\xc0\\x9d\\xc0Q\\x00\\x9c\\xc0\\xa0\\xc0\\x9c\\xc0P\\x00=\\x00<\\x005\\x00/\\x00\\x9a\\x00\\x99\\xc0\\x07\\xc0\\x11\\x00\\x96\\x00\\x05\\x00\\xff\\x01\\x00\\x00j\\x00\\x00\\x00\\x0e\\x00\\x0c\\x00\\x00\\t127.0.0.1\\x00\\x0b\\x00\\x04\\x03\\x00\\x01\\x02\\x00\\n\\x00\\x0c\\x00\\n\\x00\\x1d\\x00\\x17\\x00\\x1e\\x00\\x19\\x00\"]\n",
      "Bad pipe message: %s [b'#\\x00\\x00\\x00\\x16\\x00\\x00\\x00\\x17\\x00\\x00\\x00\\r\\x000\\x00.\\x04\\x03\\x05\\x03\\x06\\x03']\n",
      "Bad pipe message: %s [b'\\x08\\x08\\x08\\t\\x08\\n\\x08', b'\\x04\\x08\\x05\\x08\\x06\\x04\\x01\\x05\\x01\\x06']\n",
      "Bad pipe message: %s [b'', b'\\x03\\x03']\n",
      "Bad pipe message: %s [b'']\n",
      "Bad pipe message: %s [b'', b'\\x02']\n",
      "Bad pipe message: %s [b'\\x05\\x02\\x06']\n",
      "Bad pipe message: %s [b'0\\t4\\xaa\\xfd\\xe6]\\x08y\\xd3']\n",
      "Bad pipe message: %s [b'\\x83x\\xea^=ow7\\xc1\\xc9\\xe2\\x1a\\xf2\\xd1\\x16\\xbb\\xaa$\\x00\\x00\\xa2\\xc0\\x14\\xc0\\n\\x009\\x008\\x007\\x006\\x00\\x88\\x00\\x87\\x00\\x86\\x00\\x85\\xc0\\x19\\x00:\\x00\\x89\\xc0\\x0f\\xc0\\x05\\x005\\x00\\x84\\xc0\\x13\\xc0\\t\\x003\\x002\\x001\\x000\\x00\\x9a\\x00\\x99\\x00\\x98\\x00\\x97\\x00E\\x00D\\x00C\\x00B\\xc0\\x18\\x004\\x00\\x9b\\x00F\\xc0\\x0e\\xc0\\x04\\x00/\\x00\\x96\\x00A\\x00\\x07\\xc0\\x11\\xc0\\x07\\xc0\\x16\\x00\\x18\\xc0\\x0c\\xc0\\x02\\x00\\x05\\x00\\x04\\xc0\\x12\\xc0\\x08\\x00\\x16\\x00\\x13\\x00\\x10\\x00\\r\\xc0\\x17\\x00\\x1b\\xc0\\r\\xc0\\x03\\x00\\n\\x00\\x15\\x00\\x12\\x00\\x0f\\x00\\x0c\\x00\\x1a\\x00\\t\\x00\\x14\\x00\\x11\\x00\\x19\\x00\\x08\\x00\\x06\\x00\\x17\\x00\\x03\\xc0\\x10\\xc0\\x06\\xc0\\x15\\xc0\\x0b\\xc0\\x01\\x00\\x02\\x00\\x01\\x00\\xff\\x02\\x01\\x00\\x00C\\x00\\x00\\x00\\x0e\\x00\\x0c\\x00\\x00\\t127.0.0.1\\x00\\x0b\\x00\\x04\\x03\\x00\\x01\\x02\\x00']\n",
      "Bad pipe message: %s [b'\\x1c\\x00\\x1a\\x00\\x17\\x00\\x19\\x00\\x1c']\n",
      "Bad pipe message: %s [b'e\\xc5xOb\\xe8\\x17\\xff~l\\x97\\xe7O}\\x86Y\\x04\\x13\\x00\\x00>\\xc0\\x14\\xc0\\n\\x009\\x008\\x007\\x006\\xc0\\x0f\\xc0\\x05\\x005\\xc0\\x13\\xc0\\t\\x003\\x002\\x001\\x000\\xc0\\x0e\\xc0\\x04\\x00/\\x00\\x9a\\x00\\x99\\x00\\x98\\x00\\x97\\x00\\x96\\x00\\x07\\xc0\\x11\\xc0\\x07\\xc0\\x0c\\xc0\\x02\\x00\\x05\\x00\\x04\\x00\\xff\\x02\\x01\\x00\\x00C\\x00\\x00\\x00\\x0e\\x00\\x0c\\x00\\x00\\t127.0.0.1\\x00\\x0b\\x00\\x04\\x03\\x00\\x01\\x02\\x00\\n\\x00\\x1c\\x00\\x1a\\x00\\x17\\x00\\x19\\x00\\x1c\\x00\\x1b\\x00\\x18\\x00\\x1a\\x00\\x16']\n",
      "Bad pipe message: %s [b'\\xe0@\\xda\\x9f+4\\xb5\\x1d\\x9e\\xed\\x91U\\xb7Ko\\x9a.\\x81\\x00\\x00\\xa2\\xc0\\x14\\xc0\\n\\x009\\x008\\x007\\x006\\x00\\x88\\x00\\x87\\x00\\x86\\x00\\x85\\xc0\\x19\\x00:\\x00\\x89\\xc0\\x0f\\xc0\\x05\\x005\\x00\\x84\\xc0\\x13\\xc0\\t\\x003\\x002\\x001\\x000\\x00\\x9a\\x00\\x99\\x00\\x98\\x00\\x97\\x00E\\x00D\\x00C\\x00B\\xc0\\x18\\x004\\x00\\x9b\\x00F\\xc0\\x0e\\xc0\\x04\\x00/\\x00\\x96\\x00A\\x00\\x07\\xc0\\x11\\xc0\\x07\\xc0\\x16\\x00\\x18\\xc0\\x0c\\xc0\\x02\\x00\\x05\\x00\\x04\\xc0\\x12\\xc0\\x08\\x00\\x16\\x00\\x13\\x00\\x10\\x00\\r\\xc0\\x17\\x00\\x1b\\xc0\\r\\xc0\\x03\\x00\\n\\x00\\x15\\x00\\x12\\x00\\x0f\\x00\\x0c\\x00']\n",
      "Bad pipe message: %s [b'\\t\\x00\\x14\\x00\\x11\\x00\\x19\\x00\\x08\\x00\\x06\\x00\\x17\\x00\\x03\\xc0\\x10\\xc0\\x06\\xc0\\x15\\xc0\\x0b\\xc0\\x01']\n",
      "Bad pipe message: %s [b'\\x89\\xc7Y\\xc1\\xa8r\\x9e\\x07\\xfb\\xc4v\\x1a\\xbb\\x87\\x16O\\x1c \\x00\\x00\\xa2\\xc0\\x14\\xc0\\n\\x009\\x008\\x007\\x006\\x00\\x88\\x00\\x87\\x00\\x86\\x00\\x85\\xc0\\x19\\x00:\\x00\\x89\\xc0\\x0f\\xc0\\x05\\x005\\x00\\x84\\xc0\\x13\\xc0\\t\\x003\\x002\\x001\\x000\\x00\\x9a\\x00\\x99\\x00\\x98\\x00\\x97\\x00E\\x00D\\x00C\\x00B\\xc0\\x18\\x004\\x00\\x9b\\x00F\\xc0\\x0e\\xc0\\x04\\x00/\\x00\\x96\\x00A\\x00\\x07\\xc0\\x11\\xc0\\x07\\xc0\\x16\\x00\\x18\\xc0\\x0c\\xc0\\x02\\x00\\x05\\x00\\x04\\xc0\\x12\\xc0\\x08\\x00\\x16\\x00\\x13\\x00\\x10\\x00\\r\\xc0\\x17\\x00\\x1b\\xc0\\r\\xc0\\x03\\x00\\n\\x00\\x15\\x00\\x12\\x00\\x0f\\x00\\x0c\\x00\\x1a\\x00\\t\\x00\\x14\\x00\\x11']\n",
      "Bad pipe message: %s [b\"\\xdfuI\\xf5\\xcd@\\xfd\\xf3\\xe5Ds\\xa6nG\\x18\\x8b:{\\x00\\x00\\x86\\xc00\\xc0,\\xc0(\\xc0$\\xc0\\x14\\xc0\\n\\x00\\xa5\\x00\\xa3\\x00\\xa1\\x00\\x9f\\x00k\\x00j\\x00i\\x00h\\x009\\x008\\x007\\x006\\xc02\\xc0.\\xc0*\\xc0&\\xc0\\x0f\\xc0\\x05\\x00\\x9d\\x00=\\x005\\xc0/\\xc0+\\xc0'\\xc0#\\xc0\\x13\\xc0\\t\\x00\\xa4\\x00\\xa2\\x00\", b'\\x9e\\x00g\\x00@\\x00?\\x00>\\x003\\x002\\x001\\x000\\xc01\\xc0-\\xc0)\\xc0%\\xc0\\x0e\\xc0\\x04\\x00\\x9c\\x00<\\x00/\\x00\\x9a\\x00\\x99\\x00\\x98\\x00\\x97\\x00\\x96\\x00\\x07\\xc0\\x11\\xc0\\x07\\xc0\\x0c\\xc0\\x02\\x00\\x05\\x00\\x04\\x00\\xff\\x02\\x01\\x00\\x00g\\x00\\x00\\x00\\x0e\\x00\\x0c\\x00\\x00\\t127.0.0.1\\x00\\x0b\\x00\\x04\\x03\\x00\\x01\\x02\\x00\\n\\x00\\x1c\\x00\\x1a\\x00\\x17\\x00\\x19\\x00\\x1c\\x00\\x1b\\x00\\x18\\x00\\x1a\\x00\\x16\\x00\\x0e\\x00\\r\\x00\\x0b\\x00\\x0c\\x00\\t\\x00\\n\\x00#\\x00\\x00\\x00\\r\\x00 \\x00\\x1e\\x06\\x01\\x06\\x02\\x06\\x03\\x05\\x01\\x05\\x02\\x05\\x03\\x04\\x01\\x04\\x02\\x04\\x03\\x03\\x01\\x03\\x02\\x03\\x03\\x02']\n",
      "Bad pipe message: %s [b'']\n",
      "Bad pipe message: %s [b'\\x03']\n"
     ]
    }
   ],
   "source": [
    "%%bash\n",
    "sbpack bdc dave/abc-development-scratch-project/makecandidateregions step01B_macs2_call_candidate_regions.cwl"
   ]
  },
  {
   "attachments": {},
   "cell_type": "markdown",
   "id": "d392f473-1127-49ef-a70f-7728a0df3639",
   "metadata": {
    "tags": []
   },
   "source": [
    "# V References"
   ]
  },
  {
   "cell_type": "markdown",
   "id": "1a715203-62c9-4da6-9d58-499d2372663e",
   "metadata": {},
   "source": [
    "https://docs.sevenbridges.com/reference/add-an-app-using-raw-cwl"
   ]
  }
 ],
 "metadata": {
  "kernelspec": {
   "display_name": "Python 3 (ipykernel)",
   "language": "python",
   "name": "python3"
  },
  "language_info": {
   "codemirror_mode": {
    "name": "ipython",
    "version": 3
   },
   "file_extension": ".py",
   "mimetype": "text/x-python",
   "name": "python",
   "nbconvert_exporter": "python",
   "pygments_lexer": "ipython3",
   "version": "3.10.4"
  },
  "toc-autonumbering": true,
  "toc-showcode": true,
  "toc-showmarkdowntxt": false
 },
 "nbformat": 4,
 "nbformat_minor": 5
}
