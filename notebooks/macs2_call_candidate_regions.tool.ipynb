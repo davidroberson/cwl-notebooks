{
 "cells": [
  {
   "cell_type": "markdown",
   "id": "f1a00565-1ce9-4804-b72e-0fd4bd67ca34",
   "metadata": {
    "jp-MarkdownHeadingCollapsed": true,
    "tags": []
   },
   "source": [
    "# Introduction"
   ]
  },
  {
   "cell_type": "markdown",
   "id": "36f61961-5277-4ebb-869b-e620d9775679",
   "metadata": {},
   "source": [
    "This notebook is a walkthrough of describing the 2nd 1 step in the ABC Enhancer Gene Prediction model\n",
    "\n",
    "[broadinstitute/ABC-Enhancer-Gene-Prediction: Cell type specific enhancer-gene predictions using ABC model (Fulco, Nasser et al, Nature Genetics 2019)](https://github.com/broadinstitute/ABC-Enhancer-Gene-Prediction)  \n",
    "\n",
    "We wrap the macs call candidate regions step.  The example code in the github repo is this\n",
    "\n",
    "```\n",
    "conda env create -f abcenv.yml\n",
    "\n",
    "python src/makeCandidateRegions.py \\\n",
    "--narrowPeak example_chr22/ABC_output/Peaks/wgEncodeUwDnaseK562AlnRep1.chr22.macs2_peaks.narrowPeak.sorted \\\n",
    "--bam example_chr22/input_data/Chromatin/wgEncodeUwDnaseK562AlnRep1.chr22.bam \\\n",
    "--outDir example_chr22/ABC_output/Peaks/ \\\n",
    "--chrom_sizes example_chr22/reference/chr22 \\\n",
    "--regions_blocklist reference/wgEncodeHg19ConsensusSignalArtifactRegions.bed \\\n",
    "--regions_includelist example_chr22/reference/RefSeqCurated.170308.bed.CollapsedGeneBounds.TSS500bp.chr22.bed \\\n",
    "--peakExtendFromSummit 250 \\\n",
    "--nStrongestPeaks 3000 \n",
    "\n",
    "```"
   ]
  },
  {
   "cell_type": "markdown",
   "id": "0af4d32f-13cd-4d0c-b4aa-48e36394c640",
   "metadata": {
    "jp-MarkdownHeadingCollapsed": true,
    "tags": []
   },
   "source": [
    "# Load packages"
   ]
  },
  {
   "cell_type": "code",
   "execution_count": 11,
   "id": "07af344b-782d-41ed-8530-711671948181",
   "metadata": {
    "tags": []
   },
   "outputs": [
    {
     "name": "stdout",
     "output_type": "stream",
     "text": [
      "Requirement already satisfied: yamlmagic in /usr/local/python/3.10.4/lib/python3.10/site-packages (0.2.0)\n",
      "Requirement already satisfied: pyyaml in /home/codespace/.local/lib/python3.10/site-packages (6.0)\n",
      "Requirement already satisfied: sevenbridges-python in /usr/local/python/3.10.4/lib/python3.10/site-packages (2.9.1)\n",
      "Requirement already satisfied: requests>=2.25.1 in /home/codespace/.local/lib/python3.10/site-packages (from sevenbridges-python) (2.28.2)\n",
      "Requirement already satisfied: urllib3>=1.26.2 in /home/codespace/.local/lib/python3.10/site-packages (from sevenbridges-python) (1.26.15)\n",
      "Requirement already satisfied: charset-normalizer<4,>=2 in /home/codespace/.local/lib/python3.10/site-packages (from requests>=2.25.1->sevenbridges-python) (3.1.0)\n",
      "Requirement already satisfied: idna<4,>=2.5 in /home/codespace/.local/lib/python3.10/site-packages (from requests>=2.25.1->sevenbridges-python) (3.4)\n",
      "Requirement already satisfied: certifi>=2017.4.17 in /home/codespace/.local/lib/python3.10/site-packages (from requests>=2.25.1->sevenbridges-python) (2022.12.7)\n",
      "\n",
      "\u001b[1m[\u001b[0m\u001b[34;49mnotice\u001b[0m\u001b[1;39;49m]\u001b[0m\u001b[39;49m A new release of pip is available: \u001b[0m\u001b[31;49m23.0.1\u001b[0m\u001b[39;49m -> \u001b[0m\u001b[32;49m23.1.1\u001b[0m\n",
      "\u001b[1m[\u001b[0m\u001b[34;49mnotice\u001b[0m\u001b[1;39;49m]\u001b[0m\u001b[39;49m To update, run: \u001b[0m\u001b[32;49mpip install --upgrade pip\u001b[0m\n",
      "Note: you may need to restart the kernel to use updated packages.\n"
     ]
    }
   ],
   "source": [
    "pip install yamlmagic pyyaml sevenbridges-python"
   ]
  },
  {
   "cell_type": "code",
   "execution_count": 12,
   "id": "658e5314-e9f7-4a12-9aa0-898c337a59b6",
   "metadata": {
    "jupyter": {
     "source_hidden": true
    }
   },
   "outputs": [],
   "source": [
    "import yaml"
   ]
  },
  {
   "cell_type": "code",
   "execution_count": 13,
   "id": "67e2db23-604f-4937-bcb7-2d14030d3fe3",
   "metadata": {
    "jupyter": {
     "source_hidden": true
    }
   },
   "outputs": [
    {
     "name": "stdout",
     "output_type": "stream",
     "text": [
      "The yamlmagic extension is already loaded. To reload it, use:\n",
      "  %reload_ext yamlmagic\n"
     ]
    }
   ],
   "source": [
    "%load_ext yamlmagic"
   ]
  },
  {
   "cell_type": "code",
   "execution_count": 14,
   "id": "80b7204a-7dea-4fb1-b67e-662a0eb9c322",
   "metadata": {
    "jupyter": {
     "source_hidden": true
    }
   },
   "outputs": [],
   "source": [
    "#from sevenbridges import Api, ImportExportState\n",
    "import time\n",
    "import json\n",
    "import importlib\n",
    "import getpass\n",
    "import sevenbridges"
   ]
  },
  {
   "cell_type": "markdown",
   "id": "efe56e3b-b619-437d-9397-0bceedf0eab6",
   "metadata": {
    "jp-MarkdownHeadingCollapsed": true,
    "tags": []
   },
   "source": [
    "# Section 1/6 - Tool Label"
   ]
  },
  {
   "cell_type": "code",
   "execution_count": 15,
   "id": "e4b17418-6b2d-4629-88a7-3264c2f81944",
   "metadata": {
    "tags": []
   },
   "outputs": [
    {
     "data": {
      "application/javascript": "\n            require(\n                [\n                    \"notebook/js/codecell\",\n                    \"codemirror/mode/yaml/yaml\"\n                ],\n                function(cc){\n                    cc.CodeCell.options_default.highlight_modes.magic_yaml = {\n                        reg: [\"^%%yaml\"]\n                    }\n                }\n            );\n            ",
      "text/plain": [
       "<IPython.core.display.Javascript object>"
      ]
     },
     "metadata": {},
     "output_type": "display_data"
    }
   ],
   "source": [
    "%%yaml label\n",
    "label: MACS2 Call Candidate Regions"
   ]
  },
  {
   "cell_type": "markdown",
   "id": "edd2a20c-36f3-4fab-bbad-0395fe86e299",
   "metadata": {
    "jp-MarkdownHeadingCollapsed": true,
    "tags": []
   },
   "source": [
    "# Section 2/6 Tool Inputs"
   ]
  },
  {
   "cell_type": "markdown",
   "id": "97de3b53-b883-4bf6-9076-16686cfda052",
   "metadata": {},
   "source": [
    "example\n",
    "```\n",
    "- id: bam\n",
    "  type: File\n",
    "  secondaryFiles:\n",
    "  - pattern: .bai\n",
    "    required: true\n",
    "  sbg:fileTypes: BAM\n",
    "```"
   ]
  },
  {
   "cell_type": "code",
   "execution_count": 16,
   "id": "552af31a-3a3b-4353-a3e9-8ede4edce8ce",
   "metadata": {
    "jupyter": {
     "source_hidden": true
    }
   },
   "outputs": [
    {
     "data": {
      "application/javascript": "\n            require(\n                [\n                    \"notebook/js/codecell\",\n                    \"codemirror/mode/yaml/yaml\"\n                ],\n                function(cc){\n                    cc.CodeCell.options_default.highlight_modes.magic_yaml = {\n                        reg: [\"^%%yaml\"]\n                    }\n                }\n            );\n            ",
      "text/plain": [
       "<IPython.core.display.Javascript object>"
      ]
     },
     "metadata": {},
     "output_type": "display_data"
    }
   ],
   "source": [
    "%%yaml inputs\n",
    "\n",
    "inputs:\n",
    "#narrowPeak example_chr22/ABC_output/Peaks/wgEncodeUwDnaseK562AlnRep1.chr22.macs2_peaks.narrowPeak.sorted \\\n",
    "- id: narrow_peak\n",
    "  type: File\n",
    "\n",
    "#bam example_chr22/input_data/Chromatin/wgEncodeUwDnaseK562AlnRep1.chr22.bam\n",
    "- id: bam\n",
    "  type: File\n",
    "  sbg:fileTypes: BAM\n",
    "  secondaryFiles:\n",
    "  - pattern: .bai\n",
    "\n",
    "#chrom_sizes example_chr22/reference/chr22 \\\n",
    "- id: chr_sizes\n",
    "  type: File\n",
    "\n",
    "#regions_blocklist reference/wgEncodeHg19ConsensusSignalArtifactRegions.bed\n",
    "- id: regions_blocklist\n",
    "  type: File\n",
    "  sbg:fileTypes: BED\n",
    "\n",
    "#regions_includelist example_chr22/reference/RefSeqCurated.170308.bed.CollapsedGeneBounds.TSS500bp.chr22.bed\n",
    "- id: regions_includelist\n",
    "  type: File\n",
    "  sbg:fileTypes: BED\n"
   ]
  },
  {
   "cell_type": "markdown",
   "id": "26116fd4-0a6f-420c-b2cc-ba31d2272b30",
   "metadata": {
    "jp-MarkdownHeadingCollapsed": true,
    "tags": []
   },
   "source": [
    "# Section 3/6 Base command"
   ]
  },
  {
   "cell_type": "code",
   "execution_count": 17,
   "id": "372ad323-43ef-4d09-a933-2f09c227ab80",
   "metadata": {
    "jupyter": {
     "source_hidden": true
    }
   },
   "outputs": [
    {
     "data": {
      "application/javascript": "\n            require(\n                [\n                    \"notebook/js/codecell\",\n                    \"codemirror/mode/yaml/yaml\"\n                ],\n                function(cc){\n                    cc.CodeCell.options_default.highlight_modes.magic_yaml = {\n                        reg: [\"^%%yaml\"]\n                    }\n                }\n            );\n            ",
      "text/plain": [
       "<IPython.core.display.Javascript object>"
      ]
     },
     "metadata": {},
     "output_type": "display_data"
    }
   ],
   "source": [
    "%%yaml base_command\n",
    "baseCommand:\n",
    "- bash\n",
    "- call_candidate_regions.sh"
   ]
  },
  {
   "cell_type": "markdown",
   "id": "f3a736dd-888c-4a5d-a777-27e1e03e1715",
   "metadata": {
    "jp-MarkdownHeadingCollapsed": true,
    "tags": []
   },
   "source": [
    "# Section 4/6 Requirements"
   ]
  },
  {
   "cell_type": "markdown",
   "id": "8d24417f-5e3d-4f46-8c64-42ee79b46499",
   "metadata": {},
   "source": [
    "inlines javascript examples  \n",
    "```\n",
    "$(inputs.bam.path) -n $(inputs.bam.nameroot).macs2\n",
    "```"
   ]
  },
  {
   "cell_type": "code",
   "execution_count": 18,
   "id": "d69f7ea2-adc8-4a58-9f16-e5967d0fcce0",
   "metadata": {
    "jupyter": {
     "source_hidden": true
    }
   },
   "outputs": [
    {
     "data": {
      "application/javascript": "\n            require(\n                [\n                    \"notebook/js/codecell\",\n                    \"codemirror/mode/yaml/yaml\"\n                ],\n                function(cc){\n                    cc.CodeCell.options_default.highlight_modes.magic_yaml = {\n                        reg: [\"^%%yaml\"]\n                    }\n                }\n            );\n            ",
      "text/plain": [
       "<IPython.core.display.Javascript object>"
      ]
     },
     "metadata": {},
     "output_type": "display_data"
    }
   ],
   "source": [
    "%%yaml requirements\n",
    "requirements:\n",
    "- class: ShellCommandRequirement\n",
    "- class: DockerRequirement\n",
    "  dockerPull: images.sb.biodatacatalyst.nhlbi.nih.gov/andrewblair/cardiac-compendium:2023042401\n",
    "- class: InitialWorkDirRequirement\n",
    "  listing:\n",
    "  - entryname: call_candidate_regions.sh\n",
    "    writable: false\n",
    "    entry: |-\n",
    "      #conda env create -f abcenv.yml\n",
    "\n",
    "      python3 /usr/src/app/src/makeCandidateRegions.py \\\n",
    "      --narrowPeak $(inputs.narrow_peak.path) \\\n",
    "      --bam $(inputs.bam.path) \\\n",
    "      --outDir ./ \\\n",
    "      --chrom_sizes $(inputs.chr_sizes.path) \\\n",
    "      --regions_blocklist $(inputs.regions_blocklist.path) \\\n",
    "      --regions_includelist $(inputs.regions_includelist.path) \\\n",
    "      --peakExtendFromSummit 250 \\\n",
    "      --nStrongestPeaks 3000 \n",
    "     \n",
    "- class: InlineJavascriptRequirement"
   ]
  },
  {
   "cell_type": "markdown",
   "id": "47b05eb8-4462-4d13-96bc-f699bf0f6406",
   "metadata": {
    "jp-MarkdownHeadingCollapsed": true,
    "tags": []
   },
   "source": [
    "# Section 5/6 Outputs"
   ]
  },
  {
   "cell_type": "code",
   "execution_count": 25,
   "id": "3faf31ff-85c2-4fe8-b889-a750f80b4d8c",
   "metadata": {
    "jupyter": {
     "source_hidden": true
    }
   },
   "outputs": [
    {
     "data": {
      "application/javascript": "\n            require(\n                [\n                    \"notebook/js/codecell\",\n                    \"codemirror/mode/yaml/yaml\"\n                ],\n                function(cc){\n                    cc.CodeCell.options_default.highlight_modes.magic_yaml = {\n                        reg: [\"^%%yaml\"]\n                    }\n                }\n            );\n            ",
      "text/plain": [
       "<IPython.core.display.Javascript object>"
      ]
     },
     "metadata": {},
     "output_type": "display_data"
    }
   ],
   "source": [
    "%%yaml outputs\n",
    "outputs:\n",
    "- id: candidate_regions\n",
    "  type: File\n",
    "  outputBinding:\n",
    "    glob: '*candidateRegions.bed'\n",
    "- id: counts\n",
    "  type: File\n",
    "  outputBinding:\n",
    "    glob: '*Counts.bed'"
   ]
  },
  {
   "cell_type": "markdown",
   "id": "3eaca7ad-03c5-44bf-af83-488847967d4a",
   "metadata": {
    "jp-MarkdownHeadingCollapsed": true,
    "tags": []
   },
   "source": [
    "# Section 6/6 Misc settings"
   ]
  },
  {
   "cell_type": "code",
   "execution_count": 20,
   "id": "61c3be34-0410-4b9d-a7b7-3fc3ad5e9473",
   "metadata": {
    "jupyter": {
     "source_hidden": true
    }
   },
   "outputs": [
    {
     "data": {
      "application/javascript": "\n            require(\n                [\n                    \"notebook/js/codecell\",\n                    \"codemirror/mode/yaml/yaml\"\n                ],\n                function(cc){\n                    cc.CodeCell.options_default.highlight_modes.magic_yaml = {\n                        reg: [\"^%%yaml\"]\n                    }\n                }\n            );\n            ",
      "text/plain": [
       "<IPython.core.display.Javascript object>"
      ]
     },
     "metadata": {},
     "output_type": "display_data"
    }
   ],
   "source": [
    "%%yaml misc_settings\n",
    "### below is boiler plate and rarely changes\n",
    "cwlVersion: v1.2\n",
    "class: CommandLineTool\n",
    "\n",
    "$namespaces:\n",
    "  sbg: https://sevenbridges.com\n",
    "  \n",
    "hints:\n",
    "- class: sbg:SaveLogs\n",
    "  value: '*.sh'  "
   ]
  },
  {
   "cell_type": "markdown",
   "id": "ae1d8c0b-70f1-4cd6-815e-249ce0590e95",
   "metadata": {
    "jp-MarkdownHeadingCollapsed": true,
    "tags": []
   },
   "source": [
    "# Push tool to platform"
   ]
  },
  {
   "cell_type": "code",
   "execution_count": 9,
   "id": "136a0f92-56f9-490a-aa5e-c9e0c6aa81e4",
   "metadata": {
    "jupyter": {
     "source_hidden": true
    }
   },
   "outputs": [],
   "source": [
    "api_token = getpass.getpass()"
   ]
  },
  {
   "cell_type": "code",
   "execution_count": 10,
   "id": "d410af03-2808-4de8-bb5f-a42c56613796",
   "metadata": {
    "jupyter": {
     "source_hidden": true
    }
   },
   "outputs": [],
   "source": [
    "api = sevenbridges.Api(url = \"https://api.sb.biodatacatalyst.nhlbi.nih.gov/v2\",  token = api_token)"
   ]
  },
  {
   "cell_type": "code",
   "execution_count": 29,
   "id": "c56cecbd-873c-4f0f-9404-caf6dc1700be",
   "metadata": {
    "jupyter": {
     "source_hidden": true
    }
   },
   "outputs": [
    {
     "data": {
      "text/plain": [
       "<App: id=dave/abc-development-scratch-project/makecandidateregions rev=8>"
      ]
     },
     "execution_count": 29,
     "metadata": {},
     "output_type": "execute_result"
    }
   ],
   "source": [
    "api.apps.install_app(\n",
    "    id='dave/abc-development-scratch-project/makecandidateregions/8',\n",
    "    raw=label | inputs | base_command | requirements | outputs | misc_settings)"
   ]
  },
  {
   "cell_type": "code",
   "execution_count": 26,
   "id": "01c3576e-4604-4c42-8139-5550d1d6df04",
   "metadata": {
    "jupyter": {
     "source_hidden": true
    }
   },
   "outputs": [
    {
     "name": "stdout",
     "output_type": "stream",
     "text": [
      "$namespaces:\n",
      "  sbg: https://sevenbridges.com\n",
      "baseCommand:\n",
      "- bash\n",
      "- call_candidate_regions.sh\n",
      "class: CommandLineTool\n",
      "cwlVersion: v1.2\n",
      "hints:\n",
      "- class: sbg:SaveLogs\n",
      "  value: '*.sh'\n",
      "inputs:\n",
      "- id: narrow_peak\n",
      "  type: File\n",
      "- id: bam\n",
      "  sbg:fileTypes: BAM\n",
      "  secondaryFiles:\n",
      "  - pattern: .bai\n",
      "  type: File\n",
      "- id: chr_sizes\n",
      "  type: File\n",
      "- id: regions_blocklist\n",
      "  sbg:fileTypes: BED\n",
      "  type: File\n",
      "- id: regions_includelist\n",
      "  sbg:fileTypes: BED\n",
      "  type: File\n",
      "label: MACS2 Call Candidate Regions\n",
      "outputs:\n",
      "- id: candidate_regions\n",
      "  outputBinding:\n",
      "    glob: '*candidateRegions.bed'\n",
      "  type: File\n",
      "- id: counts\n",
      "  outputBinding:\n",
      "    glob: '*Counts.bed'\n",
      "  type: File\n",
      "requirements:\n",
      "- class: ShellCommandRequirement\n",
      "- class: DockerRequirement\n",
      "  dockerPull: images.sb.biodatacatalyst.nhlbi.nih.gov/andrewblair/cardiac-compendium:2023042401\n",
      "- class: InitialWorkDirRequirement\n",
      "  listing:\n",
      "  - entry: '#conda env create -f abcenv.yml\n",
      "\n",
      "\n",
      "      python3 /usr/src/app/src/makeCandidateRegions.py \\\n",
      "\n",
      "      --narrowPeak $(inputs.narrow_peak.path) \\\n",
      "\n",
      "      --bam $(inputs.bam.path) \\\n",
      "\n",
      "      --outDir ./ \\\n",
      "\n",
      "      --chrom_sizes $(inputs.chr_sizes.path) \\\n",
      "\n",
      "      --regions_blocklist $(inputs.regions_blocklist.path) \\\n",
      "\n",
      "      --regions_includelist $(inputs.regions_includelist.path) \\\n",
      "\n",
      "      --peakExtendFromSummit 250 \\\n",
      "\n",
      "      --nStrongestPeaks 3000 '\n",
      "    entryname: call_candidate_regions.sh\n",
      "    writable: false\n",
      "- class: InlineJavascriptRequirement\n",
      "\n"
     ]
    }
   ],
   "source": [
    "print(yaml.safe_dump(label | inputs | base_command | requirements | outputs | misc_settings))\n"
   ]
  },
  {
   "cell_type": "code",
   "execution_count": 28,
   "id": "ac68bced",
   "metadata": {},
   "outputs": [],
   "source": [
    "with open('macs2_call_candidate_regions.cwl', 'w') as f:\n",
    "    data = yaml.dump(label | inputs | base_command | requirements | outputs | misc_settings, f, sort_keys=False, default_flow_style=False)"
   ]
  },
  {
   "cell_type": "markdown",
   "id": "40f71438-46b5-4743-b9d2-052354084692",
   "metadata": {
    "jp-MarkdownHeadingCollapsed": true,
    "tags": []
   },
   "source": [
    "# Push this notebook to files tab"
   ]
  },
  {
   "cell_type": "code",
   "execution_count": 15,
   "id": "7b5b7b44-926f-4841-96e3-a1dce28d0dd0",
   "metadata": {
    "jupyter": {
     "source_hidden": true
    }
   },
   "outputs": [],
   "source": [
    "upload = api.files.upload(\n",
    "    path='macs2_call_candidate_regions.cwl.ipynb',\n",
    "    overwrite=True,\n",
    "    parent = \"644299a6dc22f20baf6998fc\",\n",
    ")\n"
   ]
  },
  {
   "cell_type": "markdown",
   "id": "48188485-0d6a-43de-aa6b-701cc0a3864c",
   "metadata": {
    "jp-MarkdownHeadingCollapsed": true,
    "tags": []
   },
   "source": [
    "# Create Docker Image"
   ]
  },
  {
   "cell_type": "code",
   "execution_count": 8,
   "id": "815407d6-b17f-4ea7-b860-9bb1075c971e",
   "metadata": {},
   "outputs": [
    {
     "name": "stdout",
     "output_type": "stream",
     "text": [
      "Writing Dockerfile\n"
     ]
    }
   ],
   "source": [
    "%%writefile Dockerfile\n",
    "# TO DO\n",
    "# TO DO\n",
    "# Add Tabix install\n",
    "\n",
    "FROM continuumio/anaconda3:2022.10\n",
    "# Install required libraries\n",
    "RUN apt-get update && apt-get install -y python python3 virtualenv python3-pip  zlib1g-dev zlib1g libbz2-dev liblzma-dev wget libncurses5-dev\n",
    "\n",
    "# Set the working directory\n",
    "WORKDIR /usr/src/app\n",
    "\n",
    "# Setup the python requirements\n",
    "#RUN pip2 install --no-cache-dir numpy\n",
    "RUN pip3 install Cython\n",
    "RUN pip3 install --no-cache-dir numpy pandas scipy pyBigWig pyranges\n",
    "#RUN pip2 install pysam\n",
    "\n",
    "# Setup samtools\n",
    "RUN wget -O samtools-0.1.19.tar.bz2 https://sourceforge.net/projects/samtools/files/samtools/0.1.19/samtools-0.1.19.tar.bz2/download &&  tar xjf samtools-0.1.19.tar.bz2 && cd  /usr/src/app/samtools-0.1.19 &&  make -j 4\n",
    "\n",
    "# Doesn't work?\n",
    "# Setup tabix\n",
    "# RUN wget -O tabix-0.2.5.tar.bz2 https://sourceforge.net/projects/samtools/files/tabix/tabix-0.2.5.tar.bz2/download &&  tar xjf tabix-0.2.5.tar.bz2 && cd  /usr/src/app/tabix-0.2.5 &&  make -j 4\n",
    "\n",
    "# Update the path\n",
    "ENV PATH=/usr/src/app/samtools-0.1.19/:${PATH}\n",
    "\n",
    "# Setup bedtools\n",
    "RUN wget -O bedtools-2.26.0.tar.gz https://github.com/arq5x/bedtools2/releases/download/v2.26.0/bedtools-2.26.0.tar.gz && tar xzf bedtools-2.26.0.tar.gz && cd /usr/src/app/bedtools2/ &&  make -j 12\n",
    "\n",
    "# Update the path\n",
    "ENV PATH=/usr/src/app/bedtools2/bin/:${PATH}\n",
    "\n",
    "# Install python packages\n",
    "#RUN pip2 install MACS2 && pip2 install progressbar &&  pip3 install progressbar\n",
    "#RUN pip3 install MACS2\n",
    "COPY macs.yml /usr/src/app/macs.yml\n",
    "RUN conda env create -f macs.yml\n",
    "COPY abcenv.yml /usr/src/app/abcenv.yml\n",
    "RUN conda env create -f abcenv.yml\n",
    "\n",
    "\n",
    "# Copy the required scripts\n",
    "COPY src/ src/"
   ]
  },
  {
   "cell_type": "code",
   "execution_count": 9,
   "id": "cccb0fa4",
   "metadata": {},
   "outputs": [],
   "source": [
    "%%bash\n",
    "#git clone https://github.com/broadinstitute/ABC-Enhancer-Gene-Prediction.git\n",
    "mv Dockerfile ABC-Enhancer-Gene-Prediction\n",
    "cd ABC-Enhancer-Gene-Prediction/\n",
    "#docker build -t images.sb.biodatacatalyst.nhlbi.nih.gov/andrewblair/cardiac-compendium:2023042401 ./\n"
   ]
  },
  {
   "cell_type": "code",
   "execution_count": 9,
   "id": "708c88d7",
   "metadata": {},
   "outputs": [],
   "source": [
    "user_name = getpass.getpass()"
   ]
  },
  {
   "cell_type": "code",
   "execution_count": 11,
   "id": "29e09014",
   "metadata": {},
   "outputs": [
    {
     "name": "stdout",
     "output_type": "stream",
     "text": [
      "This bash script knows about $myPythonVar and $myOtherVar\n"
     ]
    }
   ],
   "source": [
    "%%bash -s \"$myPythonVar\" \"$myOtherVar\"\n",
    "echo \"This bash script knows about $1 and $2\""
   ]
  },
  {
   "cell_type": "code",
   "execution_count": 17,
   "id": "05ccc0ff",
   "metadata": {},
   "outputs": [
    {
     "name": "stderr",
     "output_type": "stream",
     "text": [
      "WARNING! Using --password via the CLI is insecure. Use --password-stdin.\n",
      "WARNING! Your password will be stored unencrypted in /home/codespace/.docker/config.json.\n",
      "Configure a credential helper to remove this warning. See\n",
      "https://docs.docker.com/engine/reference/commandline/login/#credentials-store\n",
      "\n"
     ]
    },
    {
     "name": "stdout",
     "output_type": "stream",
     "text": [
      "Login Succeeded\n"
     ]
    }
   ],
   "source": [
    "%%bash -s \"$user_name\" \"$api_token\"\n",
    "docker login images.sb.biodatacatalyst.nhlbi.nih.gov -u $1 -p $2"
   ]
  },
  {
   "cell_type": "code",
   "execution_count": 10,
   "id": "ced5c38d",
   "metadata": {},
   "outputs": [
    {
     "name": "stdout",
     "output_type": "stream",
     "text": [
      "REPOSITORY                                                               TAG          IMAGE ID       CREATED          SIZE\n",
      "images.sb.biodatacatalyst.nhlbi.nih.gov/andrewblair/cardiac-compendium   2023042401   652e6fabded5   2 minutes ago    8.4GB\n",
      "<none>                                                                   <none>       9f241e70b291   21 minutes ago   1.01GB\n",
      "images.sb.biodatacatalyst.nhlbi.nih.gov/andrewblair/cardiac-compendium   <none>       6849e918aac7   4 hours ago      985MB\n"
     ]
    }
   ],
   "source": [
    "%%bash\n",
    "docker images"
   ]
  },
  {
   "cell_type": "code",
   "execution_count": 5,
   "id": "5c5f9b80",
   "metadata": {},
   "outputs": [
    {
     "name": "stdout",
     "output_type": "stream",
     "text": [
      "The push refers to repository [images.sb.biodatacatalyst.nhlbi.nih.gov/andrewblair/cardiac-compendium]\n",
      "c328c9630971: Preparing\n",
      "8ea20722af9d: Preparing\n",
      "8ed486dc87e3: Preparing\n",
      "414cf4ba15ab: Preparing\n",
      "1312649f8d59: Preparing\n",
      "8778bf8006bf: Preparing\n",
      "4e1e398d52e3: Preparing\n",
      "cf9824e7a29e: Preparing\n",
      "3ecfd4cdc847: Preparing\n",
      "7b9c35392376: Preparing\n",
      "5ac6f5a1ae3e: Preparing\n",
      "6f56466ea64f: Preparing\n",
      "497abe10839f: Preparing\n",
      "ec4a38999118: Preparing\n",
      "4e1e398d52e3: Waiting\n",
      "cf9824e7a29e: Waiting\n",
      "3ecfd4cdc847: Waiting\n",
      "6f56466ea64f: Waiting\n",
      "7b9c35392376: Waiting\n",
      "5ac6f5a1ae3e: Waiting\n",
      "497abe10839f: Waiting\n",
      "8778bf8006bf: Waiting\n",
      "ec4a38999118: Waiting\n",
      "8ed486dc87e3: Pushed\n",
      "1312649f8d59: Pushed\n",
      "c328c9630971: Pushed\n",
      "4e1e398d52e3: Pushed\n",
      "3ecfd4cdc847: Layer already exists\n",
      "7b9c35392376: Layer already exists\n",
      "5ac6f5a1ae3e: Layer already exists\n",
      "6f56466ea64f: Layer already exists\n",
      "497abe10839f: Layer already exists\n",
      "ec4a38999118: Layer already exists\n",
      "8778bf8006bf: Pushed\n",
      "cf9824e7a29e: Pushed\n",
      "8ea20722af9d: Pushed\n",
      "414cf4ba15ab: Pushed\n",
      "2023042401: digest: sha256:cd2ad43ce5120c5bb21a22ae16236bb83c08aded00e3cf7b7e14e6c25bca254f size: 3271\n"
     ]
    }
   ],
   "source": [
    "%%bash\n",
    "docker push images.sb.biodatacatalyst.nhlbi.nih.gov/andrewblair/cardiac-compendium:2023042401"
   ]
  },
  {
   "cell_type": "code",
   "execution_count": 29,
   "id": "5bc905dd",
   "metadata": {},
   "outputs": [
    {
     "name": "stdout",
     "output_type": "stream",
     "text": [
      "Collecting cwltool\n",
      "  Downloading cwltool-3.1.20230325110543-py3-none-any.whl (1.3 MB)\n",
      "\u001b[2K     \u001b[90m━━━━━━━━━━━━━━━━━━━━━━━━━━━━━━━━━━━━━━━━\u001b[0m \u001b[32m1.3/1.3 MB\u001b[0m \u001b[31m19.6 MB/s\u001b[0m eta \u001b[36m0:00:00\u001b[0m00:01\u001b[0m\n",
      "\u001b[?25hCollecting shellescape<3.9,>=3.4.1\n",
      "  Downloading shellescape-3.8.1-py2.py3-none-any.whl (3.1 kB)\n",
      "Collecting rdflib<6.4.0,>=4.2.2\n",
      "  Downloading rdflib-6.3.2-py3-none-any.whl (528 kB)\n",
      "\u001b[2K     \u001b[90m━━━━━━━━━━━━━━━━━━━━━━━━━━━━━━━━━━━━━━\u001b[0m \u001b[32m528.1/528.1 kB\u001b[0m \u001b[31m17.8 MB/s\u001b[0m eta \u001b[36m0:00:00\u001b[0m\n",
      "\u001b[?25hCollecting prov==1.5.1\n",
      "  Downloading prov-1.5.1-py2.py3-none-any.whl (426 kB)\n",
      "\u001b[2K     \u001b[90m━━━━━━━━━━━━━━━━━━━━━━━━━━━━━━━━━━━━━━\u001b[0m \u001b[32m426.5/426.5 kB\u001b[0m \u001b[31m15.6 MB/s\u001b[0m eta \u001b[36m0:00:00\u001b[0m\n",
      "\u001b[?25hCollecting ruamel.yaml<0.17.22,>=0.15\n",
      "  Downloading ruamel.yaml-0.17.21-py3-none-any.whl (109 kB)\n",
      "\u001b[2K     \u001b[90m━━━━━━━━━━━━━━━━━━━━━━━━━━━━━━━━━━━━━━━\u001b[0m \u001b[32m109.5/109.5 kB\u001b[0m \u001b[31m4.0 MB/s\u001b[0m eta \u001b[36m0:00:00\u001b[0m\n",
      "\u001b[?25hRequirement already satisfied: psutil>=5.6.6 in /home/codespace/.local/lib/python3.10/site-packages (from cwltool) (5.9.4)\n",
      "Requirement already satisfied: setuptools in /home/codespace/.local/lib/python3.10/site-packages (from cwltool) (67.6.1)\n",
      "Collecting coloredlogs\n",
      "  Downloading coloredlogs-15.0.1-py2.py3-none-any.whl (46 kB)\n",
      "\u001b[2K     \u001b[90m━━━━━━━━━━━━━━━━━━━━━━━━━━━━━━━━━━━━━━━━\u001b[0m \u001b[32m46.0/46.0 kB\u001b[0m \u001b[31m1.9 MB/s\u001b[0m eta \u001b[36m0:00:00\u001b[0m\n",
      "\u001b[?25hCollecting pydot>=1.4.1\n",
      "  Downloading pydot-1.4.2-py2.py3-none-any.whl (21 kB)\n",
      "Collecting schema-salad<9,>=8.4\n",
      "  Downloading schema_salad-8.4.20230213094415-cp310-cp310-manylinux_2_17_x86_64.manylinux2014_x86_64.manylinux_2_28_x86_64.whl (1.1 MB)\n",
      "\u001b[2K     \u001b[90m━━━━━━━━━━━━━━━━━━━━━━━━━━━━━━━━━━━━━━━━\u001b[0m \u001b[32m1.1/1.1 MB\u001b[0m \u001b[31m26.4 MB/s\u001b[0m eta \u001b[36m0:00:00\u001b[0m:00:01\u001b[0m\n",
      "\u001b[?25hRequirement already satisfied: typing-extensions in /home/codespace/.local/lib/python3.10/site-packages (from cwltool) (4.5.0)\n",
      "Requirement already satisfied: pyparsing!=3.0.2 in /home/codespace/.local/lib/python3.10/site-packages (from cwltool) (3.0.9)\n",
      "Collecting argcomplete\n",
      "  Downloading argcomplete-3.0.8-py3-none-any.whl (40 kB)\n",
      "\u001b[2K     \u001b[90m━━━━━━━━━━━━━━━━━━━━━━━━━━━━━━━━━━━━━━━━\u001b[0m \u001b[32m40.0/40.0 kB\u001b[0m \u001b[31m1.5 MB/s\u001b[0m eta \u001b[36m0:00:00\u001b[0m\n",
      "\u001b[?25hCollecting mypy-extensions\n",
      "  Downloading mypy_extensions-1.0.0-py3-none-any.whl (4.7 kB)\n",
      "Collecting bagit>=1.6.4\n",
      "  Downloading bagit-1.8.1-py2.py3-none-any.whl (35 kB)\n",
      "Collecting cwl-utils>=0.22\n",
      "  Downloading cwl_utils-0.24-py3-none-any.whl (298 kB)\n",
      "\u001b[2K     \u001b[90m━━━━━━━━━━━━━━━━━━━━━━━━━━━━━━━━━━━━━━\u001b[0m \u001b[32m298.6/298.6 kB\u001b[0m \u001b[31m11.8 MB/s\u001b[0m eta \u001b[36m0:00:00\u001b[0m\n",
      "\u001b[?25hRequirement already satisfied: requests>=2.6.1 in /home/codespace/.local/lib/python3.10/site-packages (from cwltool) (2.28.2)\n",
      "Requirement already satisfied: six>=1.9.0 in /home/codespace/.local/lib/python3.10/site-packages (from prov==1.5.1->cwltool) (1.16.0)\n",
      "Collecting lxml\n",
      "  Downloading lxml-4.9.2-cp310-cp310-manylinux_2_17_x86_64.manylinux2014_x86_64.manylinux_2_24_x86_64.whl (7.1 MB)\n",
      "\u001b[2K     \u001b[90m━━━━━━━━━━━━━━━━━━━━━━━━━━━━━━━━━━━━━━━━\u001b[0m \u001b[32m7.1/7.1 MB\u001b[0m \u001b[31m57.7 MB/s\u001b[0m eta \u001b[36m0:00:00\u001b[0m:00:01\u001b[0m00:01\u001b[0m\n",
      "\u001b[?25hRequirement already satisfied: networkx in /home/codespace/.local/lib/python3.10/site-packages (from prov==1.5.1->cwltool) (3.0)\n",
      "Requirement already satisfied: python-dateutil in /home/codespace/.local/lib/python3.10/site-packages (from prov==1.5.1->cwltool) (2.8.2)\n",
      "Requirement already satisfied: packaging in /home/codespace/.local/lib/python3.10/site-packages (from cwl-utils>=0.22->cwltool) (23.0)\n",
      "Collecting cwl-upgrader>=1.2.3\n",
      "  Downloading cwl_upgrader-1.2.4-py3-none-any.whl (24 kB)\n",
      "Collecting CacheControl\n",
      "  Downloading CacheControl-0.12.11-py2.py3-none-any.whl (21 kB)\n",
      "Collecting isodate<0.7.0,>=0.6.0\n",
      "  Downloading isodate-0.6.1-py2.py3-none-any.whl (41 kB)\n",
      "\u001b[2K     \u001b[90m━━━━━━━━━━━━━━━━━━━━━━━━━━━━━━━━━━━━━━━━\u001b[0m \u001b[32m41.7/41.7 kB\u001b[0m \u001b[31m1.5 MB/s\u001b[0m eta \u001b[36m0:00:00\u001b[0m\n",
      "\u001b[?25hRequirement already satisfied: charset-normalizer<4,>=2 in /home/codespace/.local/lib/python3.10/site-packages (from requests>=2.6.1->cwltool) (3.1.0)\n",
      "Requirement already satisfied: idna<4,>=2.5 in /home/codespace/.local/lib/python3.10/site-packages (from requests>=2.6.1->cwltool) (3.4)\n",
      "Requirement already satisfied: urllib3<1.27,>=1.21.1 in /home/codespace/.local/lib/python3.10/site-packages (from requests>=2.6.1->cwltool) (1.26.15)\n",
      "Requirement already satisfied: certifi>=2017.4.17 in /home/codespace/.local/lib/python3.10/site-packages (from requests>=2.6.1->cwltool) (2022.12.7)\n",
      "Collecting ruamel.yaml.clib>=0.2.6\n",
      "  Downloading ruamel.yaml.clib-0.2.7-cp310-cp310-manylinux_2_17_x86_64.manylinux2014_x86_64.manylinux_2_24_x86_64.whl (485 kB)\n",
      "\u001b[2K     \u001b[90m━━━━━━━━━━━━━━━━━━━━━━━━━━━━━━━━━━━━━━\u001b[0m \u001b[32m485.6/485.6 kB\u001b[0m \u001b[31m13.2 MB/s\u001b[0m eta \u001b[36m0:00:00\u001b[0m00:01\u001b[0m\n",
      "\u001b[?25hRequirement already satisfied: mistune<2.1,>=2.0.3 in /home/codespace/.local/lib/python3.10/site-packages (from schema-salad<9,>=8.4->cwltool) (2.0.5)\n",
      "Collecting humanfriendly>=9.1\n",
      "  Downloading humanfriendly-10.0-py2.py3-none-any.whl (86 kB)\n",
      "\u001b[2K     \u001b[90m━━━━━━━━━━━━━━━━━━━━━━━━━━━━━━━━━━━━━━━━\u001b[0m \u001b[32m86.8/86.8 kB\u001b[0m \u001b[31m3.6 MB/s\u001b[0m eta \u001b[36m0:00:00\u001b[0m\n",
      "\u001b[?25hCollecting msgpack>=0.5.2\n",
      "  Downloading msgpack-1.0.5-cp310-cp310-manylinux_2_17_x86_64.manylinux2014_x86_64.whl (316 kB)\n",
      "\u001b[2K     \u001b[90m━━━━━━━━━━━━━━━━━━━━━━━━━━━━━━━━━━━━━━\u001b[0m \u001b[32m316.8/316.8 kB\u001b[0m \u001b[31m12.6 MB/s\u001b[0m eta \u001b[36m0:00:00\u001b[0m\n",
      "\u001b[?25hCollecting lockfile>=0.9\n",
      "  Downloading lockfile-0.12.2-py2.py3-none-any.whl (13 kB)\n",
      "Installing collected packages: shellescape, msgpack, lockfile, bagit, ruamel.yaml.clib, pydot, mypy-extensions, lxml, isodate, humanfriendly, argcomplete, ruamel.yaml, rdflib, coloredlogs, CacheControl, prov, schema-salad, cwl-upgrader, cwl-utils, cwltool\n",
      "Successfully installed CacheControl-0.12.11 argcomplete-3.0.8 bagit-1.8.1 coloredlogs-15.0.1 cwl-upgrader-1.2.4 cwl-utils-0.24 cwltool-3.1.20230325110543 humanfriendly-10.0 isodate-0.6.1 lockfile-0.12.2 lxml-4.9.2 msgpack-1.0.5 mypy-extensions-1.0.0 prov-1.5.1 pydot-1.4.2 rdflib-6.3.2 ruamel.yaml-0.17.21 ruamel.yaml.clib-0.2.7 schema-salad-8.4.20230213094415 shellescape-3.8.1\n"
     ]
    },
    {
     "name": "stderr",
     "output_type": "stream",
     "text": [
      "\n",
      "\u001b[1m[\u001b[0m\u001b[34;49mnotice\u001b[0m\u001b[1;39;49m]\u001b[0m\u001b[39;49m A new release of pip is available: \u001b[0m\u001b[31;49m23.0.1\u001b[0m\u001b[39;49m -> \u001b[0m\u001b[32;49m23.1.1\u001b[0m\n",
      "\u001b[1m[\u001b[0m\u001b[34;49mnotice\u001b[0m\u001b[1;39;49m]\u001b[0m\u001b[39;49m To update, run: \u001b[0m\u001b[32;49mpython -m pip install --upgrade pip\u001b[0m\n"
     ]
    }
   ],
   "source": [
    "%%bash\n",
    "pip install cwltool"
   ]
  },
  {
   "cell_type": "code",
   "execution_count": 1,
   "id": "8c550c01",
   "metadata": {},
   "outputs": [
    {
     "name": "stderr",
     "output_type": "stream",
     "text": [
      "\u001b[1;30mINFO\u001b[0m /home/codespace/.python/current/bin/cwltool 3.1.20230325110543\n",
      "\u001b[1;30mINFO\u001b[0m Resolved 'macs2_call_candidate_regions.cwl' to 'file:///workspaces/cwl-notebooks/tools/macs2_call_candidate_regions.cwl'\n",
      "macs2_call_candidate_regions.cwl:60:3: Warning: checking item\n",
      "                                       Warning:   Field `class` contains undefined reference to\n",
      "                                       `https://sevenbridges.comSaveLogs`\n",
      "\u001b[1;30mINFO\u001b[0m macs2_call_candidate_regions.cwl:60:3: Unknown hint https://sevenbridges.comSaveLogs\n"
     ]
    },
    {
     "name": "stdout",
     "output_type": "stream",
     "text": [
      "usage: macs2_call_candidate_regions.cwl [-h] --narrow_peak NARROW_PEAK --bam\n",
      "                                        BAM --chr_sizes CHR_SIZES\n",
      "                                        --regions_blocklist REGIONS_BLOCKLIST\n",
      "                                        --regions_includelist\n",
      "                                        REGIONS_INCLUDELIST\n",
      "                                        [job_order]\n",
      "\n",
      "MACS2 Call Candidate Regions\n",
      "\n",
      "positional arguments:\n",
      "  job_order             Job input json file\n",
      "\n",
      "options:\n",
      "  -h, --help            show this help message and exit\n",
      "  --narrow_peak NARROW_PEAK\n",
      "  --bam BAM\n",
      "  --chr_sizes CHR_SIZES\n",
      "  --regions_blocklist REGIONS_BLOCKLIST\n",
      "  --regions_includelist REGIONS_INCLUDELIST\n"
     ]
    }
   ],
   "source": [
    "%%bash\n",
    "cwltool --tool-help macs2_call_candidate_regions.cwl"
   ]
  },
  {
   "cell_type": "code",
   "execution_count": null,
   "id": "ecbfa189",
   "metadata": {},
   "outputs": [],
   "source": [
    "--narrow_peak NARROW_PEAK\n",
    "  --bam wgEncodeUwDnaseK562AlnRep1.chr22.bam\n",
    "  --chr_sizes CHR_SIZES\n",
    "  --regions_blocklist REGIONS_BLOCKLIST\n",
    "  --regions_includelist REGIONS_INCLUDELIST"
   ]
  },
  {
   "cell_type": "code",
   "execution_count": 4,
   "id": "f586e58a",
   "metadata": {},
   "outputs": [
    {
     "name": "stderr",
     "output_type": "stream",
     "text": [
      "\u001b[1;30mINFO\u001b[0m /home/codespace/.python/current/bin/cwltool 3.1.20230325110543\n",
      "\u001b[1;30mINFO\u001b[0m Resolved 'macs2_call_candidate_regions.cwl' to 'file:///workspaces/cwl-notebooks/tools/macs2_call_candidate_regions.cwl'\n",
      "macs2_call_candidate_regions.cwl:60:3: Warning: checking item\n",
      "                                       Warning:   Field `class` contains undefined reference to\n",
      "                                       `https://sevenbridges.comSaveLogs`\n",
      "\u001b[1;30mINFO\u001b[0m macs2_call_candidate_regions.cwl:60:3: Unknown hint https://sevenbridges.comSaveLogs\n",
      "usage: macs2_call_candidate_regions.cwl [-h] --narrow_peak NARROW_PEAK --bam\n",
      "                                        BAM --chr_sizes CHR_SIZES\n",
      "                                        --regions_blocklist REGIONS_BLOCKLIST\n",
      "                                        --regions_includelist\n",
      "                                        REGIONS_INCLUDELIST\n",
      "                                        [job_order]\n",
      "macs2_call_candidate_regions.cwl: error: the following arguments are required: --regions_blocklist, --regions_includelist\n",
      "bash: line 5: --regions_blocklist: command not found\n"
     ]
    },
    {
     "ename": "CalledProcessError",
     "evalue": "Command 'b'cwltool macs2_call_candidate_regions.cwl \\\\\\n    --narrow_peak /workspaces/cwl-notebooks/tools/ABC-Enhancer-Gene-Prediction/example_chr22/input_data/Chromatin/wgEncodeUwDnaseK562.mergedPeaks.slop175.withTSS500bp.chr22.bed \\\\\\n    --bam /workspaces/cwl-notebooks/tools/ABC-Enhancer-Gene-Prediction/example_chr22/input_data/Chromatin/wgEncodeUwDnaseK562AlnRep1.chr22.bam \\\\\\n    --chr_sizes /workspaces/cwl-notebooks/tools/ABC-Enhancer-Gene-Prediction/example_chr22/reference/chr22\\n    --regions_blocklist /workspaces/cwl-notebooks/tools/ABC-Enhancer-Gene-Prediction/reference/wgEncodeHg19ConsensusSignalArtifactRegions.bed \\\\\\n    --regions_includelist /workspaces/cwl-notebooks/tools/ABC-Enhancer-Gene-Prediction/example_chr22/reference/RefSeqCurated.170308.bed.CollapsedGeneBounds.TSS500bp.chr22.bed\\n'' returned non-zero exit status 127.",
     "output_type": "error",
     "traceback": [
      "\u001b[0;31m---------------------------------------------------------------------------\u001b[0m",
      "\u001b[0;31mCalledProcessError\u001b[0m                        Traceback (most recent call last)",
      "Cell \u001b[0;32mIn[4], line 1\u001b[0m\n\u001b[0;32m----> 1\u001b[0m get_ipython()\u001b[39m.\u001b[39;49mrun_cell_magic(\u001b[39m'\u001b[39;49m\u001b[39mbash\u001b[39;49m\u001b[39m'\u001b[39;49m, \u001b[39m'\u001b[39;49m\u001b[39m'\u001b[39;49m, \u001b[39m'\u001b[39;49m\u001b[39mcwltool macs2_call_candidate_regions.cwl \u001b[39;49m\u001b[39m\\\\\u001b[39;49;00m\u001b[39m\\n\u001b[39;49;00m\u001b[39m    --narrow_peak /workspaces/cwl-notebooks/tools/ABC-Enhancer-Gene-Prediction/example_chr22/input_data/Chromatin/wgEncodeUwDnaseK562.mergedPeaks.slop175.withTSS500bp.chr22.bed \u001b[39;49m\u001b[39m\\\\\u001b[39;49;00m\u001b[39m\\n\u001b[39;49;00m\u001b[39m    --bam /workspaces/cwl-notebooks/tools/ABC-Enhancer-Gene-Prediction/example_chr22/input_data/Chromatin/wgEncodeUwDnaseK562AlnRep1.chr22.bam \u001b[39;49m\u001b[39m\\\\\u001b[39;49;00m\u001b[39m\\n\u001b[39;49;00m\u001b[39m    --chr_sizes /workspaces/cwl-notebooks/tools/ABC-Enhancer-Gene-Prediction/example_chr22/reference/chr22\u001b[39;49m\u001b[39m\\n\u001b[39;49;00m\u001b[39m    --regions_blocklist /workspaces/cwl-notebooks/tools/ABC-Enhancer-Gene-Prediction/reference/wgEncodeHg19ConsensusSignalArtifactRegions.bed \u001b[39;49m\u001b[39m\\\\\u001b[39;49;00m\u001b[39m\\n\u001b[39;49;00m\u001b[39m    --regions_includelist /workspaces/cwl-notebooks/tools/ABC-Enhancer-Gene-Prediction/example_chr22/reference/RefSeqCurated.170308.bed.CollapsedGeneBounds.TSS500bp.chr22.bed\u001b[39;49m\u001b[39m\\n\u001b[39;49;00m\u001b[39m'\u001b[39;49m)\n",
      "File \u001b[0;32m~/.local/lib/python3.10/site-packages/IPython/core/interactiveshell.py:2475\u001b[0m, in \u001b[0;36mInteractiveShell.run_cell_magic\u001b[0;34m(self, magic_name, line, cell)\u001b[0m\n\u001b[1;32m   2473\u001b[0m \u001b[39mwith\u001b[39;00m \u001b[39mself\u001b[39m\u001b[39m.\u001b[39mbuiltin_trap:\n\u001b[1;32m   2474\u001b[0m     args \u001b[39m=\u001b[39m (magic_arg_s, cell)\n\u001b[0;32m-> 2475\u001b[0m     result \u001b[39m=\u001b[39m fn(\u001b[39m*\u001b[39;49margs, \u001b[39m*\u001b[39;49m\u001b[39m*\u001b[39;49mkwargs)\n\u001b[1;32m   2477\u001b[0m \u001b[39m# The code below prevents the output from being displayed\u001b[39;00m\n\u001b[1;32m   2478\u001b[0m \u001b[39m# when using magics with decodator @output_can_be_silenced\u001b[39;00m\n\u001b[1;32m   2479\u001b[0m \u001b[39m# when the last Python token in the expression is a ';'.\u001b[39;00m\n\u001b[1;32m   2480\u001b[0m \u001b[39mif\u001b[39;00m \u001b[39mgetattr\u001b[39m(fn, magic\u001b[39m.\u001b[39mMAGIC_OUTPUT_CAN_BE_SILENCED, \u001b[39mFalse\u001b[39;00m):\n",
      "File \u001b[0;32m~/.local/lib/python3.10/site-packages/IPython/core/magics/script.py:153\u001b[0m, in \u001b[0;36mScriptMagics._make_script_magic.<locals>.named_script_magic\u001b[0;34m(line, cell)\u001b[0m\n\u001b[1;32m    151\u001b[0m \u001b[39melse\u001b[39;00m:\n\u001b[1;32m    152\u001b[0m     line \u001b[39m=\u001b[39m script\n\u001b[0;32m--> 153\u001b[0m \u001b[39mreturn\u001b[39;00m \u001b[39mself\u001b[39;49m\u001b[39m.\u001b[39;49mshebang(line, cell)\n",
      "File \u001b[0;32m~/.local/lib/python3.10/site-packages/IPython/core/magics/script.py:305\u001b[0m, in \u001b[0;36mScriptMagics.shebang\u001b[0;34m(self, line, cell)\u001b[0m\n\u001b[1;32m    300\u001b[0m \u001b[39mif\u001b[39;00m args\u001b[39m.\u001b[39mraise_error \u001b[39mand\u001b[39;00m p\u001b[39m.\u001b[39mreturncode \u001b[39m!=\u001b[39m \u001b[39m0\u001b[39m:\n\u001b[1;32m    301\u001b[0m     \u001b[39m# If we get here and p.returncode is still None, we must have\u001b[39;00m\n\u001b[1;32m    302\u001b[0m     \u001b[39m# killed it but not yet seen its return code. We don't wait for it,\u001b[39;00m\n\u001b[1;32m    303\u001b[0m     \u001b[39m# in case it's stuck in uninterruptible sleep. -9 = SIGKILL\u001b[39;00m\n\u001b[1;32m    304\u001b[0m     rc \u001b[39m=\u001b[39m p\u001b[39m.\u001b[39mreturncode \u001b[39mor\u001b[39;00m \u001b[39m-\u001b[39m\u001b[39m9\u001b[39m\n\u001b[0;32m--> 305\u001b[0m     \u001b[39mraise\u001b[39;00m CalledProcessError(rc, cell)\n",
      "\u001b[0;31mCalledProcessError\u001b[0m: Command 'b'cwltool macs2_call_candidate_regions.cwl \\\\\\n    --narrow_peak /workspaces/cwl-notebooks/tools/ABC-Enhancer-Gene-Prediction/example_chr22/input_data/Chromatin/wgEncodeUwDnaseK562.mergedPeaks.slop175.withTSS500bp.chr22.bed \\\\\\n    --bam /workspaces/cwl-notebooks/tools/ABC-Enhancer-Gene-Prediction/example_chr22/input_data/Chromatin/wgEncodeUwDnaseK562AlnRep1.chr22.bam \\\\\\n    --chr_sizes /workspaces/cwl-notebooks/tools/ABC-Enhancer-Gene-Prediction/example_chr22/reference/chr22\\n    --regions_blocklist /workspaces/cwl-notebooks/tools/ABC-Enhancer-Gene-Prediction/reference/wgEncodeHg19ConsensusSignalArtifactRegions.bed \\\\\\n    --regions_includelist /workspaces/cwl-notebooks/tools/ABC-Enhancer-Gene-Prediction/example_chr22/reference/RefSeqCurated.170308.bed.CollapsedGeneBounds.TSS500bp.chr22.bed\\n'' returned non-zero exit status 127."
     ]
    }
   ],
   "source": [
    "%%bash\n",
    "cwltool macs2_call_candidate_regions.cwl \\\n",
    "    --narrow_peak /workspaces/cwl-notebooks/tools/ABC-Enhancer-Gene-Prediction/example_chr22/input_data/Chromatin/wgEncodeUwDnaseK562.mergedPeaks.slop175.withTSS500bp.chr22.bed \\\n",
    "    --bam /workspaces/cwl-notebooks/tools/ABC-Enhancer-Gene-Prediction/example_chr22/input_data/Chromatin/wgEncodeUwDnaseK562AlnRep1.chr22.bam \\\n",
    "    --chr_sizes /workspaces/cwl-notebooks/tools/ABC-Enhancer-Gene-Prediction/example_chr22/reference/chr22 \\\n",
    "    --regions_blocklist /workspaces/cwl-notebooks/tools/ABC-Enhancer-Gene-Prediction/reference/wgEncodeHg19ConsensusSignalArtifactRegions.bed \\\n",
    "    --regions_includelist /workspaces/cwl-notebooks/tools/ABC-Enhancer-Gene-Prediction/example_chr22/reference/RefSeqCurated.170308.bed.CollapsedGeneBounds.TSS500bp.chr22.bed"
   ]
  },
  {
   "cell_type": "markdown",
   "id": "d392f473-1127-49ef-a70f-7728a0df3639",
   "metadata": {
    "tags": []
   },
   "source": [
    "# References"
   ]
  },
  {
   "cell_type": "markdown",
   "id": "1a715203-62c9-4da6-9d58-499d2372663e",
   "metadata": {},
   "source": [
    "https://docs.sevenbridges.com/reference/add-an-app-using-raw-cwl"
   ]
  }
 ],
 "metadata": {
  "kernelspec": {
   "display_name": "Python 3 (ipykernel)",
   "language": "python",
   "name": "python3"
  },
  "language_info": {
   "codemirror_mode": {
    "name": "ipython",
    "version": 3
   },
   "file_extension": ".py",
   "mimetype": "text/x-python",
   "name": "python",
   "nbconvert_exporter": "python",
   "pygments_lexer": "ipython3",
   "version": "3.10.4"
  },
  "toc-autonumbering": true,
  "toc-showcode": true,
  "toc-showmarkdowntxt": false
 },
 "nbformat": 4,
 "nbformat_minor": 5
}
