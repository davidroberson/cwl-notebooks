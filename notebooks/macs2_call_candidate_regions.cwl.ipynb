{
 "cells": [
  {
   "cell_type": "markdown",
   "id": "f1a00565-1ce9-4804-b72e-0fd4bd67ca34",
   "metadata": {
    "jp-MarkdownHeadingCollapsed": true,
    "tags": []
   },
   "source": [
    "# Introduction"
   ]
  },
  {
   "cell_type": "markdown",
   "id": "36f61961-5277-4ebb-869b-e620d9775679",
   "metadata": {},
   "source": [
    "This notebook is a walkthrough of describing the 2nd 1 step in the ABC Enhancer Gene Prediction model\n",
    "\n",
    "[broadinstitute/ABC-Enhancer-Gene-Prediction: Cell type specific enhancer-gene predictions using ABC model (Fulco, Nasser et al, Nature Genetics 2019)](https://github.com/broadinstitute/ABC-Enhancer-Gene-Prediction)  \n",
    "\n",
    "We wrap the macs call candidate regions step.  The example code in the github repo is this\n",
    "\n",
    "```\n",
    "conda env create -f abcenv.yml\n",
    "\n",
    "python src/makeCandidateRegions.py \\\n",
    "--narrowPeak example_chr22/ABC_output/Peaks/wgEncodeUwDnaseK562AlnRep1.chr22.macs2_peaks.narrowPeak.sorted \\\n",
    "--bam example_chr22/input_data/Chromatin/wgEncodeUwDnaseK562AlnRep1.chr22.bam \\\n",
    "--outDir example_chr22/ABC_output/Peaks/ \\\n",
    "--chrom_sizes example_chr22/reference/chr22 \\\n",
    "--regions_blocklist reference/wgEncodeHg19ConsensusSignalArtifactRegions.bed \\\n",
    "--regions_includelist example_chr22/reference/RefSeqCurated.170308.bed.CollapsedGeneBounds.TSS500bp.chr22.bed \\\n",
    "--peakExtendFromSummit 250 \\\n",
    "--nStrongestPeaks 3000 \n",
    "\n",
    "```"
   ]
  },
  {
   "cell_type": "markdown",
   "id": "0af4d32f-13cd-4d0c-b4aa-48e36394c640",
   "metadata": {
    "jp-MarkdownHeadingCollapsed": true,
    "tags": []
   },
   "source": [
    "# Load packages"
   ]
  },
  {
   "cell_type": "code",
   "execution_count": 1,
   "id": "07af344b-782d-41ed-8530-711671948181",
   "metadata": {
    "tags": []
   },
   "outputs": [
    {
     "name": "stdout",
     "output_type": "stream",
     "text": [
      "Requirement already satisfied: yamlmagic in /usr/local/python/3.10.4/lib/python3.10/site-packages (0.2.0)\n",
      "Requirement already satisfied: pyyaml in /home/codespace/.local/lib/python3.10/site-packages (6.0)\n",
      "Collecting sevenbridges-python\n",
      "  Downloading sevenbridges_python-2.9.1-py3-none-any.whl (102 kB)\n",
      "\u001b[2K     \u001b[90m━━━━━━━━━━━━━━━━━━━━━━━━━━━━━━━━━━━━━━━\u001b[0m \u001b[32m102.1/102.1 kB\u001b[0m \u001b[31m2.8 MB/s\u001b[0m eta \u001b[36m0:00:00\u001b[0m\n",
      "\u001b[?25hRequirement already satisfied: urllib3>=1.26.2 in /home/codespace/.local/lib/python3.10/site-packages (from sevenbridges-python) (1.26.15)\n",
      "Requirement already satisfied: requests>=2.25.1 in /home/codespace/.local/lib/python3.10/site-packages (from sevenbridges-python) (2.28.2)\n",
      "Requirement already satisfied: charset-normalizer<4,>=2 in /home/codespace/.local/lib/python3.10/site-packages (from requests>=2.25.1->sevenbridges-python) (3.1.0)\n",
      "Requirement already satisfied: idna<4,>=2.5 in /home/codespace/.local/lib/python3.10/site-packages (from requests>=2.25.1->sevenbridges-python) (3.4)\n",
      "Requirement already satisfied: certifi>=2017.4.17 in /home/codespace/.local/lib/python3.10/site-packages (from requests>=2.25.1->sevenbridges-python) (2022.12.7)\n",
      "Installing collected packages: sevenbridges-python\n",
      "Successfully installed sevenbridges-python-2.9.1\n",
      "\n",
      "\u001b[1m[\u001b[0m\u001b[34;49mnotice\u001b[0m\u001b[1;39;49m]\u001b[0m\u001b[39;49m A new release of pip is available: \u001b[0m\u001b[31;49m23.0.1\u001b[0m\u001b[39;49m -> \u001b[0m\u001b[32;49m23.1.1\u001b[0m\n",
      "\u001b[1m[\u001b[0m\u001b[34;49mnotice\u001b[0m\u001b[1;39;49m]\u001b[0m\u001b[39;49m To update, run: \u001b[0m\u001b[32;49mpip install --upgrade pip\u001b[0m\n",
      "Note: you may need to restart the kernel to use updated packages.\n"
     ]
    }
   ],
   "source": [
    "pip install yamlmagic pyyaml sevenbridges-python"
   ]
  },
  {
   "cell_type": "code",
   "execution_count": 2,
   "id": "658e5314-e9f7-4a12-9aa0-898c337a59b6",
   "metadata": {
    "jupyter": {
     "source_hidden": true
    }
   },
   "outputs": [],
   "source": [
    "import yaml"
   ]
  },
  {
   "cell_type": "code",
   "execution_count": 3,
   "id": "67e2db23-604f-4937-bcb7-2d14030d3fe3",
   "metadata": {
    "jupyter": {
     "source_hidden": true
    }
   },
   "outputs": [],
   "source": [
    "%load_ext yamlmagic"
   ]
  },
  {
   "cell_type": "code",
   "execution_count": 14,
   "id": "80b7204a-7dea-4fb1-b67e-662a0eb9c322",
   "metadata": {
    "jupyter": {
     "source_hidden": true
    }
   },
   "outputs": [],
   "source": [
    "#from sevenbridges import Api, ImportExportState\n",
    "import time\n",
    "import json\n",
    "import importlib\n",
    "import getpass\n",
    "import sevenbridges"
   ]
  },
  {
   "cell_type": "markdown",
   "id": "efe56e3b-b619-437d-9397-0bceedf0eab6",
   "metadata": {
    "jp-MarkdownHeadingCollapsed": true,
    "tags": []
   },
   "source": [
    "# Section 1/6 - Tool Label"
   ]
  },
  {
   "cell_type": "code",
   "execution_count": 5,
   "id": "e4b17418-6b2d-4629-88a7-3264c2f81944",
   "metadata": {
    "tags": []
   },
   "outputs": [
    {
     "data": {
      "application/javascript": "\n            require(\n                [\n                    \"notebook/js/codecell\",\n                    \"codemirror/mode/yaml/yaml\"\n                ],\n                function(cc){\n                    cc.CodeCell.options_default.highlight_modes.magic_yaml = {\n                        reg: [\"^%%yaml\"]\n                    }\n                }\n            );\n            ",
      "text/plain": [
       "<IPython.core.display.Javascript object>"
      ]
     },
     "metadata": {},
     "output_type": "display_data"
    }
   ],
   "source": [
    "%%yaml label\n",
    "label: MACS2 Call Candidate Regions"
   ]
  },
  {
   "cell_type": "markdown",
   "id": "edd2a20c-36f3-4fab-bbad-0395fe86e299",
   "metadata": {
    "jp-MarkdownHeadingCollapsed": true,
    "tags": []
   },
   "source": [
    "# Section 2/6 Tool Inputs"
   ]
  },
  {
   "cell_type": "markdown",
   "id": "97de3b53-b883-4bf6-9076-16686cfda052",
   "metadata": {},
   "source": [
    "example\n",
    "```\n",
    "- id: bam\n",
    "  type: File\n",
    "  secondaryFiles:\n",
    "  - pattern: .bai\n",
    "    required: true\n",
    "  sbg:fileTypes: BAM\n",
    "```"
   ]
  },
  {
   "cell_type": "code",
   "execution_count": 6,
   "id": "552af31a-3a3b-4353-a3e9-8ede4edce8ce",
   "metadata": {
    "jupyter": {
     "source_hidden": true
    }
   },
   "outputs": [
    {
     "data": {
      "application/javascript": "\n            require(\n                [\n                    \"notebook/js/codecell\",\n                    \"codemirror/mode/yaml/yaml\"\n                ],\n                function(cc){\n                    cc.CodeCell.options_default.highlight_modes.magic_yaml = {\n                        reg: [\"^%%yaml\"]\n                    }\n                }\n            );\n            ",
      "text/plain": [
       "<IPython.core.display.Javascript object>"
      ]
     },
     "metadata": {},
     "output_type": "display_data"
    }
   ],
   "source": [
    "%%yaml inputs\n",
    "\n",
    "inputs:\n",
    "#narrowPeak example_chr22/ABC_output/Peaks/wgEncodeUwDnaseK562AlnRep1.chr22.macs2_peaks.narrowPeak.sorted \\\n",
    "- id: narrow_peak\n",
    "  type: File\n",
    "\n",
    "#bam example_chr22/input_data/Chromatin/wgEncodeUwDnaseK562AlnRep1.chr22.bam\n",
    "- id: bam\n",
    "  type: File\n",
    "  sbg:fileTypes: BAM\n",
    "  secondaryFiles:\n",
    "  - pattern: .bai\n",
    "    required: true\n",
    "\n",
    "#chrom_sizes example_chr22/reference/chr22 \\\n",
    "- id: chr_sizes\n",
    "  type: File\n",
    "  required: true  \n",
    "\n",
    "#regions_blocklist reference/wgEncodeHg19ConsensusSignalArtifactRegions.bed\n",
    "- id: regions_blocklist\n",
    "  type: File\n",
    "  required: true\n",
    "  sbg:fileTypes: BED\n",
    "\n",
    "#regions_includelist example_chr22/reference/RefSeqCurated.170308.bed.CollapsedGeneBounds.TSS500bp.chr22.bed\n",
    "- id: regions_includelist\n",
    "  type: File\n",
    "  required: true \n",
    "  sbg:fileTypes: BED\n"
   ]
  },
  {
   "cell_type": "markdown",
   "id": "26116fd4-0a6f-420c-b2cc-ba31d2272b30",
   "metadata": {
    "jp-MarkdownHeadingCollapsed": true,
    "tags": []
   },
   "source": [
    "# Section 3/6 Base command"
   ]
  },
  {
   "cell_type": "code",
   "execution_count": 7,
   "id": "372ad323-43ef-4d09-a933-2f09c227ab80",
   "metadata": {
    "jupyter": {
     "source_hidden": true
    }
   },
   "outputs": [
    {
     "data": {
      "application/javascript": "\n            require(\n                [\n                    \"notebook/js/codecell\",\n                    \"codemirror/mode/yaml/yaml\"\n                ],\n                function(cc){\n                    cc.CodeCell.options_default.highlight_modes.magic_yaml = {\n                        reg: [\"^%%yaml\"]\n                    }\n                }\n            );\n            ",
      "text/plain": [
       "<IPython.core.display.Javascript object>"
      ]
     },
     "metadata": {},
     "output_type": "display_data"
    }
   ],
   "source": [
    "%%yaml base_command\n",
    "baseCommand:\n",
    "- bash\n",
    "- call_candidate_regions.sh"
   ]
  },
  {
   "cell_type": "markdown",
   "id": "f3a736dd-888c-4a5d-a777-27e1e03e1715",
   "metadata": {
    "jp-MarkdownHeadingCollapsed": true,
    "tags": []
   },
   "source": [
    "# Section 4/6 Requirements"
   ]
  },
  {
   "cell_type": "markdown",
   "id": "8d24417f-5e3d-4f46-8c64-42ee79b46499",
   "metadata": {},
   "source": [
    "inlines javascript examples  \n",
    "```\n",
    "$(inputs.bam.path) -n $(inputs.bam.nameroot).macs2\n",
    "```"
   ]
  },
  {
   "cell_type": "code",
   "execution_count": 8,
   "id": "d69f7ea2-adc8-4a58-9f16-e5967d0fcce0",
   "metadata": {
    "jupyter": {
     "source_hidden": true
    }
   },
   "outputs": [
    {
     "data": {
      "application/javascript": "\n            require(\n                [\n                    \"notebook/js/codecell\",\n                    \"codemirror/mode/yaml/yaml\"\n                ],\n                function(cc){\n                    cc.CodeCell.options_default.highlight_modes.magic_yaml = {\n                        reg: [\"^%%yaml\"]\n                    }\n                }\n            );\n            ",
      "text/plain": [
       "<IPython.core.display.Javascript object>"
      ]
     },
     "metadata": {},
     "output_type": "display_data"
    }
   ],
   "source": [
    "%%yaml requirements\n",
    "requirements:\n",
    "- class: ShellCommandRequirement\n",
    "- class: DockerRequirement\n",
    "  dockerPull: images.sb.biodatacatalyst.nhlbi.nih.gov/andrewblair/cardiac-compendium:2023042401\n",
    "- class: InitialWorkDirRequirement\n",
    "  listing:\n",
    "  - entryname: call_candidate_regions.sh\n",
    "    writable: false\n",
    "    entry: |-\n",
    "      #conda env create -f abcenv.yml\n",
    "\n",
    "      python3 /usr/src/app/src/makeCandidateRegions.py \\\n",
    "      --narrowPeak $(inputs.narrow_peak.path) \\\n",
    "      --bam $(inputs.bam.path) \\\n",
    "      --outDir ./ \\\n",
    "      --chrom_sizes $(inputs.chr_sizes.path) \\\n",
    "      --regions_blocklist $(inputs.regions_blocklist.path) \\\n",
    "      --regions_includelist $(inputs.regions_includelist.path) \\\n",
    "      --peakExtendFromSummit 250 \\\n",
    "      --nStrongestPeaks 3000 \n",
    "     \n",
    "- class: InlineJavascriptRequirement"
   ]
  },
  {
   "cell_type": "markdown",
   "id": "47b05eb8-4462-4d13-96bc-f699bf0f6406",
   "metadata": {
    "jp-MarkdownHeadingCollapsed": true,
    "tags": []
   },
   "source": [
    "# Section 5/6 Outputs"
   ]
  },
  {
   "cell_type": "code",
   "execution_count": 9,
   "id": "3faf31ff-85c2-4fe8-b889-a750f80b4d8c",
   "metadata": {
    "jupyter": {
     "source_hidden": true
    }
   },
   "outputs": [
    {
     "data": {
      "application/javascript": "\n            require(\n                [\n                    \"notebook/js/codecell\",\n                    \"codemirror/mode/yaml/yaml\"\n                ],\n                function(cc){\n                    cc.CodeCell.options_default.highlight_modes.magic_yaml = {\n                        reg: [\"^%%yaml\"]\n                    }\n                }\n            );\n            ",
      "text/plain": [
       "<IPython.core.display.Javascript object>"
      ]
     },
     "metadata": {},
     "output_type": "display_data"
    }
   ],
   "source": [
    "%%yaml outputs\n",
    "outputs:\n",
    "- id: macs2_outputs\n",
    "  type: File[]?\n",
    "  outputBinding:\n",
    "    glob: '*.macs2*'"
   ]
  },
  {
   "cell_type": "markdown",
   "id": "3eaca7ad-03c5-44bf-af83-488847967d4a",
   "metadata": {
    "jp-MarkdownHeadingCollapsed": true,
    "tags": []
   },
   "source": [
    "# Section 6/6 Misc settings"
   ]
  },
  {
   "cell_type": "code",
   "execution_count": 10,
   "id": "61c3be34-0410-4b9d-a7b7-3fc3ad5e9473",
   "metadata": {
    "jupyter": {
     "source_hidden": true
    }
   },
   "outputs": [
    {
     "data": {
      "application/javascript": "\n            require(\n                [\n                    \"notebook/js/codecell\",\n                    \"codemirror/mode/yaml/yaml\"\n                ],\n                function(cc){\n                    cc.CodeCell.options_default.highlight_modes.magic_yaml = {\n                        reg: [\"^%%yaml\"]\n                    }\n                }\n            );\n            ",
      "text/plain": [
       "<IPython.core.display.Javascript object>"
      ]
     },
     "metadata": {},
     "output_type": "display_data"
    }
   ],
   "source": [
    "%%yaml misc_settings\n",
    "### below is boiler plate and rarely changes\n",
    "cwlVersion: v1.2\n",
    "class: CommandLineTool\n",
    "\n",
    "$namespaces:\n",
    "  sbg: https://sevenbridges.com\n",
    "  \n",
    "hints:\n",
    "- class: sbg:SaveLogs\n",
    "  value: '*.sh'  "
   ]
  },
  {
   "cell_type": "markdown",
   "id": "ae1d8c0b-70f1-4cd6-815e-249ce0590e95",
   "metadata": {
    "jp-MarkdownHeadingCollapsed": true,
    "tags": []
   },
   "source": [
    "# Push tool to platform"
   ]
  },
  {
   "cell_type": "code",
   "execution_count": 11,
   "id": "136a0f92-56f9-490a-aa5e-c9e0c6aa81e4",
   "metadata": {
    "jupyter": {
     "source_hidden": true
    }
   },
   "outputs": [],
   "source": [
    "api_token = getpass.getpass()"
   ]
  },
  {
   "cell_type": "code",
   "execution_count": 16,
   "id": "d410af03-2808-4de8-bb5f-a42c56613796",
   "metadata": {
    "jupyter": {
     "source_hidden": true
    }
   },
   "outputs": [],
   "source": [
    "api = sevenbridges.Api(url = \"https://api.sb.biodatacatalyst.nhlbi.nih.gov/v2\",  token = api_token)"
   ]
  },
  {
   "cell_type": "code",
   "execution_count": 17,
   "id": "c56cecbd-873c-4f0f-9404-caf6dc1700be",
   "metadata": {
    "jupyter": {
     "source_hidden": true
    }
   },
   "outputs": [
    {
     "data": {
      "text/plain": [
       "<App: id=dave/abc-development-scratch-project/makecandidateregions rev=6>"
      ]
     },
     "execution_count": 17,
     "metadata": {},
     "output_type": "execute_result"
    }
   ],
   "source": [
    "api.apps.install_app(\n",
    "    id='dave/abc-development-scratch-project/makecandidateregions/6',\n",
    "    raw=label | inputs | base_command | requirements | outputs | misc_settings)"
   ]
  },
  {
   "cell_type": "code",
   "execution_count": 18,
   "id": "01c3576e-4604-4c42-8139-5550d1d6df04",
   "metadata": {
    "jupyter": {
     "source_hidden": true
    }
   },
   "outputs": [
    {
     "name": "stdout",
     "output_type": "stream",
     "text": [
      "$namespaces:\n",
      "  sbg: https://sevenbridges.com\n",
      "baseCommand:\n",
      "- bash\n",
      "- call_candidate_regions.sh\n",
      "class: CommandLineTool\n",
      "cwlVersion: v1.2\n",
      "hints:\n",
      "- class: sbg:SaveLogs\n",
      "  value: '*.sh'\n",
      "inputs:\n",
      "- id: narrow_peak\n",
      "  type: File\n",
      "- id: bam\n",
      "  sbg:fileTypes: BAM\n",
      "  secondaryFiles:\n",
      "  - pattern: .bai\n",
      "    required: true\n",
      "  type: File\n",
      "- id: chr_sizes\n",
      "  required: true\n",
      "  type: File\n",
      "- id: regions_blocklist\n",
      "  required: true\n",
      "  sbg:fileTypes: BED\n",
      "  type: File\n",
      "- id: regions_includelist\n",
      "  required: true\n",
      "  sbg:fileTypes: BED\n",
      "  type: File\n",
      "label: MACS2 Call Candidate Regions\n",
      "outputs:\n",
      "- id: macs2_outputs\n",
      "  outputBinding:\n",
      "    glob: '*.macs2*'\n",
      "  type: File[]?\n",
      "requirements:\n",
      "- class: ShellCommandRequirement\n",
      "- class: DockerRequirement\n",
      "  dockerPull: images.sb.biodatacatalyst.nhlbi.nih.gov/andrewblair/cardiac-compendium:2023042401\n",
      "- class: InitialWorkDirRequirement\n",
      "  listing:\n",
      "  - entry: '#conda env create -f abcenv.yml\n",
      "\n",
      "\n",
      "      python3 /usr/src/app/src/makeCandidateRegions.py \\\n",
      "\n",
      "      --narrowPeak $(inputs.narrow_peak.path) \\\n",
      "\n",
      "      --bam $(inputs.bam.path) \\\n",
      "\n",
      "      --outDir ./ \\\n",
      "\n",
      "      --chrom_sizes $(inputs.chr_sizes.path) \\\n",
      "\n",
      "      --regions_blocklist $(inputs.regions_blocklist.path) \\\n",
      "\n",
      "      --regions_includelist $(inputs.regions_includelist.path) \\\n",
      "\n",
      "      --peakExtendFromSummit 250 \\\n",
      "\n",
      "      --nStrongestPeaks 3000 '\n",
      "    entryname: call_candidate_regions.sh\n",
      "    writable: false\n",
      "- class: InlineJavascriptRequirement\n",
      "\n"
     ]
    }
   ],
   "source": [
    "print(yaml.safe_dump(label | inputs | base_command | requirements | outputs | misc_settings))\n"
   ]
  },
  {
   "cell_type": "markdown",
   "id": "40f71438-46b5-4743-b9d2-052354084692",
   "metadata": {
    "jp-MarkdownHeadingCollapsed": true,
    "tags": []
   },
   "source": [
    "# Push this notebook to files tab"
   ]
  },
  {
   "cell_type": "code",
   "execution_count": 15,
   "id": "7b5b7b44-926f-4841-96e3-a1dce28d0dd0",
   "metadata": {
    "jupyter": {
     "source_hidden": true
    }
   },
   "outputs": [],
   "source": [
    "upload = api.files.upload(\n",
    "    path='macs2_call_candidate_regions.cwl.ipynb',\n",
    "    overwrite=True,\n",
    "    parent = \"644299a6dc22f20baf6998fc\",\n",
    ")\n"
   ]
  },
  {
   "cell_type": "markdown",
   "id": "48188485-0d6a-43de-aa6b-701cc0a3864c",
   "metadata": {
    "jp-MarkdownHeadingCollapsed": true,
    "tags": []
   },
   "source": [
    "# Create Docker Image"
   ]
  },
  {
   "cell_type": "markdown",
   "id": "815407d6-b17f-4ea7-b860-9bb1075c971e",
   "metadata": {},
   "source": [
    "```\n",
    "# TO DO\n",
    "# TO DO\n",
    "# Add Tabix install\n",
    "\n",
    "FROM ubuntu:18.04\n",
    "\n",
    "# Install required libraries\n",
    "RUN apt-get update && apt-get install -y python python3 virtualenv python-pip python3-pip  zlib1g-dev zlib1g libbz2-dev liblzma-dev wget libncurses5-dev\n",
    "\n",
    "# Set the working directory\n",
    "WORKDIR /usr/src/app\n",
    "\n",
    "# Setup the python requirements\n",
    "RUN pip2 install --no-cache-dir numpy\n",
    "RUN pip3 install Cython\n",
    "RUN pip3 install --no-cache-dir numpy pandas scipy pyBigWig pyranges\n",
    "\n",
    "# Setup samtools\n",
    "RUN wget -O samtools-0.1.19.tar.bz2 https://sourceforge.net/projects/samtools/files/samtools/0.1.19/samtools-0.1.19.tar.bz2/download &&  tar xjf samtools-0.1.19.tar.bz2 && cd  /usr/src/app/samtools-0.1.19 &&  make -j 4\n",
    "\n",
    "# Doesn't work?\n",
    "# Setup tabix\n",
    "# RUN wget -O tabix-0.2.5.tar.bz2 https://sourceforge.net/projects/samtools/files/tabix/tabix-0.2.5.tar.bz2/download &&  tar xjf tabix-0.2.5.tar.bz2 && cd  /usr/src/app/tabix-0.2.5 &&  make -j 4\n",
    "\n",
    "# Update the path\n",
    "ENV PATH=/usr/src/app/samtools-0.1.19/:${PATH}\n",
    "\n",
    "# Setup bedtools\n",
    "RUN wget -O bedtools-2.26.0.tar.gz https://github.com/arq5x/bedtools2/releases/download/v2.26.0/bedtools-2.26.0.tar.gz && tar xzf bedtools-2.26.0.tar.gz && cd /usr/src/app/bedtools2/ &&  make -j 12\n",
    "\n",
    "# Update the path\n",
    "ENV PATH=/usr/src/app/bedtools2/bin/:${PATH}\n",
    "\n",
    "# Install python packages\n",
    "#RUN pip2 install MACS2 && pip2 install progressbar &&  pip3 install progressbar\n",
    "RUN pip3 install MACS2\n",
    "\n",
    "# Copy the required scripts\n",
    "COPY src/ src/\n",
    "```"
   ]
  },
  {
   "cell_type": "code",
   "execution_count": 9,
   "id": "708c88d7",
   "metadata": {},
   "outputs": [],
   "source": [
    "user_name = getpass.getpass()"
   ]
  },
  {
   "cell_type": "code",
   "execution_count": 11,
   "id": "29e09014",
   "metadata": {},
   "outputs": [
    {
     "name": "stdout",
     "output_type": "stream",
     "text": [
      "This bash script knows about $myPythonVar and $myOtherVar\n"
     ]
    }
   ],
   "source": [
    "%%bash -s \"$myPythonVar\" \"$myOtherVar\"\n",
    "echo \"This bash script knows about $1 and $2\""
   ]
  },
  {
   "cell_type": "code",
   "execution_count": 17,
   "id": "05ccc0ff",
   "metadata": {},
   "outputs": [
    {
     "name": "stderr",
     "output_type": "stream",
     "text": [
      "WARNING! Using --password via the CLI is insecure. Use --password-stdin.\n",
      "WARNING! Your password will be stored unencrypted in /home/codespace/.docker/config.json.\n",
      "Configure a credential helper to remove this warning. See\n",
      "https://docs.docker.com/engine/reference/commandline/login/#credentials-store\n",
      "\n"
     ]
    },
    {
     "name": "stdout",
     "output_type": "stream",
     "text": [
      "Login Succeeded\n"
     ]
    }
   ],
   "source": [
    "%%bash -s \"$user_name\" \"$api_token\"\n",
    "docker login images.sb.biodatacatalyst.nhlbi.nih.gov -u $1 -p $2"
   ]
  },
  {
   "cell_type": "code",
   "execution_count": 20,
   "id": "ced5c38d",
   "metadata": {},
   "outputs": [
    {
     "name": "stdout",
     "output_type": "stream",
     "text": [
      "REPOSITORY                                                               TAG          IMAGE ID       CREATED          SIZE\n",
      "images.sb.biodatacatalyst.nhlbi.nih.gov/andrewblair/cardiac-compendium   2023042401   6849e918aac7   23 minutes ago   985MB\n"
     ]
    }
   ],
   "source": [
    "%%bash\n",
    "docker images"
   ]
  },
  {
   "cell_type": "code",
   "execution_count": 23,
   "id": "5c5f9b80",
   "metadata": {},
   "outputs": [
    {
     "name": "stdout",
     "output_type": "stream",
     "text": [
      "The push refers to repository [images.sb.biodatacatalyst.nhlbi.nih.gov/andrewblair/cardiac-compendium]\n",
      "ec3ce3022ee3: Preparing\n",
      "460d6060cde9: Preparing\n",
      "28c24111cd91: Preparing\n",
      "1d7de5e7fedc: Preparing\n",
      "ee70ad3ab83e: Preparing\n",
      "f9772a127b90: Preparing\n",
      "66817e1a8325: Preparing\n",
      "6ec50e2215b4: Preparing\n",
      "0ffaed1c3fac: Preparing\n",
      "b7e0fa7bfe7f: Preparing\n",
      "f9772a127b90: Waiting\n",
      "66817e1a8325: Waiting\n",
      "6ec50e2215b4: Waiting\n",
      "0ffaed1c3fac: Waiting\n",
      "b7e0fa7bfe7f: Waiting\n",
      "ec3ce3022ee3: Pushed\n",
      "1d7de5e7fedc: Pushed\n",
      "460d6060cde9: Pushed\n",
      "6ec50e2215b4: Pushed\n",
      "f9772a127b90: Pushed\n",
      "66817e1a8325: Pushed\n",
      "28c24111cd91: Pushed\n",
      "b7e0fa7bfe7f: Pushed\n",
      "ee70ad3ab83e: Pushed\n",
      "0ffaed1c3fac: Pushed\n",
      "2023042401: digest: sha256:2f8d5d06c170adff171383d70bbb24e3429975bb738f7495ed92785ac4f2ed31 size: 2427\n"
     ]
    }
   ],
   "source": [
    "%%bash\n",
    "docker push images.sb.biodatacatalyst.nhlbi.nih.gov/andrewblair/cardiac-compendium:2023042401"
   ]
  },
  {
   "cell_type": "markdown",
   "id": "d392f473-1127-49ef-a70f-7728a0df3639",
   "metadata": {
    "tags": []
   },
   "source": [
    "# References"
   ]
  },
  {
   "cell_type": "markdown",
   "id": "1a715203-62c9-4da6-9d58-499d2372663e",
   "metadata": {},
   "source": [
    "https://docs.sevenbridges.com/reference/add-an-app-using-raw-cwl"
   ]
  }
 ],
 "metadata": {
  "kernelspec": {
   "display_name": "Python 3 (ipykernel)",
   "language": "python",
   "name": "python3"
  },
  "language_info": {
   "codemirror_mode": {
    "name": "ipython",
    "version": 3
   },
   "file_extension": ".py",
   "mimetype": "text/x-python",
   "name": "python",
   "nbconvert_exporter": "python",
   "pygments_lexer": "ipython3",
   "version": "3.10.4"
  },
  "toc-autonumbering": true,
  "toc-showcode": true,
  "toc-showmarkdowntxt": false
 },
 "nbformat": 4,
 "nbformat_minor": 5
}
