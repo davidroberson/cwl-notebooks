{
 "cells": [
  {
   "cell_type": "markdown",
   "id": "f1a00565-1ce9-4804-b72e-0fd4bd67ca34",
   "metadata": {},
   "source": [
    "# Introduction"
   ]
  },
  {
   "cell_type": "markdown",
   "id": "36f61961-5277-4ebb-869b-e620d9775679",
   "metadata": {},
   "source": [
    "This notebook is a walkthrough of describing 1 of the steps in the ABC Enhancer Gene Prediction model\n",
    "\n",
    "[broadinstitute/ABC-Enhancer-Gene-Prediction: Cell type specific enhancer-gene predictions using ABC model (Fulco, Nasser et al, Nature Genetics 2019)](https://github.com/broadinstitute/ABC-Enhancer-Gene-Prediction)  \n",
    "\n",
    "We wrap the macs call peaks step.  The example code in the github repo is this\n",
    "\n",
    "```\n",
    "macs2 callpeak \\\n",
    "-t example_chr22/input_data/Chromatin/wgEncodeUwDnaseK562AlnRep1.chr22.bam \\\n",
    "-n wgEncodeUwDnaseK562AlnRep1.chr22.macs2 \\\n",
    "-f BAM \\\n",
    "-g hs \\\n",
    "-p .1 \\\n",
    "--call-summits \\\n",
    "--outdir example_chr22/ABC_output/Peaks/ \n",
    "\n",
    "#Sort narrowPeak file\n",
    "bedtools sort -faidx example_chr22/reference/chr22 -i example_chr22/ABC_output/Peaks/wgEncodeUwDnaseK562AlnRep1.chr22.macs2_peaks.narrowPeak > example_chr22/ABC_output/Peaks/wgEncodeUwDnaseK562AlnRep1.chr22.macs2_peaks.narrowPeak.sorted\n",
    "```"
   ]
  },
  {
   "cell_type": "markdown",
   "id": "0af4d32f-13cd-4d0c-b4aa-48e36394c640",
   "metadata": {
    "tags": []
   },
   "source": [
    "# Load packages"
   ]
  },
  {
   "cell_type": "code",
   "execution_count": 1,
   "id": "07af344b-782d-41ed-8530-711671948181",
   "metadata": {},
   "outputs": [
    {
     "name": "stdout",
     "output_type": "stream",
     "text": [
      "Requirement already satisfied: yamlmagic in /usr/local/python/3.10.4/lib/python3.10/site-packages (0.2.0)\n",
      "Requirement already satisfied: pyyaml in /home/codespace/.local/lib/python3.10/site-packages (6.0)\n",
      "\n",
      "\u001b[1m[\u001b[0m\u001b[34;49mnotice\u001b[0m\u001b[1;39;49m]\u001b[0m\u001b[39;49m A new release of pip is available: \u001b[0m\u001b[31;49m23.0.1\u001b[0m\u001b[39;49m -> \u001b[0m\u001b[32;49m23.1.1\u001b[0m\n",
      "\u001b[1m[\u001b[0m\u001b[34;49mnotice\u001b[0m\u001b[1;39;49m]\u001b[0m\u001b[39;49m To update, run: \u001b[0m\u001b[32;49mpip install --upgrade pip\u001b[0m\n",
      "Note: you may need to restart the kernel to use updated packages.\n"
     ]
    }
   ],
   "source": [
    "pip install yamlmagic pyyaml"
   ]
  },
  {
   "cell_type": "code",
   "execution_count": 2,
   "id": "80b7204a-7dea-4fb1-b67e-662a0eb9c322",
   "metadata": {},
   "outputs": [],
   "source": [
    "from sevenbridges import Api, ImportExportState\n",
    "import time\n",
    "import json\n",
    "import importlib\n",
    "import getpass\n",
    "import yaml"
   ]
  },
  {
   "cell_type": "code",
   "execution_count": 3,
   "id": "c9725603-38a5-4362-abdf-694c320347c3",
   "metadata": {},
   "outputs": [],
   "source": [
    "%load_ext yamlmagic"
   ]
  },
  {
   "cell_type": "markdown",
   "id": "efe56e3b-b619-437d-9397-0bceedf0eab6",
   "metadata": {
    "tags": []
   },
   "source": [
    "# Section 1/6 - Tool Label"
   ]
  },
  {
   "cell_type": "code",
   "execution_count": 4,
   "id": "e4b17418-6b2d-4629-88a7-3264c2f81944",
   "metadata": {},
   "outputs": [
    {
     "data": {
      "application/javascript": "\n            require(\n                [\n                    \"notebook/js/codecell\",\n                    \"codemirror/mode/yaml/yaml\"\n                ],\n                function(cc){\n                    cc.CodeCell.options_default.highlight_modes.magic_yaml = {\n                        reg: [\"^%%yaml\"]\n                    }\n                }\n            );\n            ",
      "text/plain": [
       "<IPython.core.display.Javascript object>"
      ]
     },
     "metadata": {},
     "output_type": "display_data"
    }
   ],
   "source": [
    "%%yaml label\n",
    "label: MACS2 Call Peaks"
   ]
  },
  {
   "cell_type": "markdown",
   "id": "edd2a20c-36f3-4fab-bbad-0395fe86e299",
   "metadata": {
    "tags": []
   },
   "source": [
    "# Section 2/6 Tool Inputs"
   ]
  },
  {
   "cell_type": "code",
   "execution_count": 5,
   "id": "552af31a-3a3b-4353-a3e9-8ede4edce8ce",
   "metadata": {},
   "outputs": [
    {
     "data": {
      "application/javascript": "\n            require(\n                [\n                    \"notebook/js/codecell\",\n                    \"codemirror/mode/yaml/yaml\"\n                ],\n                function(cc){\n                    cc.CodeCell.options_default.highlight_modes.magic_yaml = {\n                        reg: [\"^%%yaml\"]\n                    }\n                }\n            );\n            ",
      "text/plain": [
       "<IPython.core.display.Javascript object>"
      ]
     },
     "metadata": {},
     "output_type": "display_data"
    }
   ],
   "source": [
    "%%yaml inputs\n",
    "\n",
    "#bam file is main inputs\n",
    "inputs:\n",
    "- id: bam\n",
    "  type: File\n",
    "  secondaryFiles:\n",
    "  - pattern: .bai\n",
    "    required: true\n",
    "  sbg:fileTypes: BAM\n",
    "\n",
    "#sort order for bedtools\n",
    "- id: sort_order\n",
    "  type: File\n",
    "  inputBinding:\n",
    "    position: 0\n",
    "    shellQuote: false"
   ]
  },
  {
   "cell_type": "markdown",
   "id": "26116fd4-0a6f-420c-b2cc-ba31d2272b30",
   "metadata": {
    "tags": []
   },
   "source": [
    "# Section 3/6 Base command"
   ]
  },
  {
   "cell_type": "code",
   "execution_count": 6,
   "id": "372ad323-43ef-4d09-a933-2f09c227ab80",
   "metadata": {},
   "outputs": [
    {
     "data": {
      "application/javascript": "\n            require(\n                [\n                    \"notebook/js/codecell\",\n                    \"codemirror/mode/yaml/yaml\"\n                ],\n                function(cc){\n                    cc.CodeCell.options_default.highlight_modes.magic_yaml = {\n                        reg: [\"^%%yaml\"]\n                    }\n                }\n            );\n            ",
      "text/plain": [
       "<IPython.core.display.Javascript object>"
      ]
     },
     "metadata": {},
     "output_type": "display_data"
    }
   ],
   "source": [
    "%%yaml base_command\n",
    "baseCommand:\n",
    "- bash\n",
    "- call_peaks.sh"
   ]
  },
  {
   "cell_type": "markdown",
   "id": "f3a736dd-888c-4a5d-a777-27e1e03e1715",
   "metadata": {
    "tags": []
   },
   "source": [
    "# Section 4/6 Requirements"
   ]
  },
  {
   "cell_type": "code",
   "execution_count": 7,
   "id": "d69f7ea2-adc8-4a58-9f16-e5967d0fcce0",
   "metadata": {},
   "outputs": [
    {
     "data": {
      "application/javascript": "\n            require(\n                [\n                    \"notebook/js/codecell\",\n                    \"codemirror/mode/yaml/yaml\"\n                ],\n                function(cc){\n                    cc.CodeCell.options_default.highlight_modes.magic_yaml = {\n                        reg: [\"^%%yaml\"]\n                    }\n                }\n            );\n            ",
      "text/plain": [
       "<IPython.core.display.Javascript object>"
      ]
     },
     "metadata": {},
     "output_type": "display_data"
    }
   ],
   "source": [
    "%%yaml requirements\n",
    "requirements:\n",
    "- class: ShellCommandRequirement\n",
    "- class: DockerRequirement\n",
    "  dockerPull: images.sb.biodatacatalyst.nhlbi.nih.gov/andrewblair/cardiac-compendium:2023042401\n",
    "- class: InitialWorkDirRequirement\n",
    "- class: InitialWorkDirRequirement\n",
    "  listing:\n",
    "  - entryname: call_peaks.sh\n",
    "    writable: false\n",
    "    entry: |-\n",
    "      macs2 callpeak -t $(inputs.bam.path) -n $(inputs.bam.nameroot).macs2 -f BAM -g hs -p .1 --call-summits --outdir ./\n",
    "\n",
    "      #Sort narrowPeak file\n",
    "\n",
    "      bedtools sort \\\n",
    "      -faidx $(inputs.sort_order.path) \\\n",
    "      -i $(inputs.bam.nameroot).macs2_peaks.narrowPeak \\\n",
    "      > $(inputs.bam.nameroot).macs2_peaks.narrowPeak.sorted\n",
    "- class: InlineJavascriptRequirement"
   ]
  },
  {
   "cell_type": "markdown",
   "id": "47b05eb8-4462-4d13-96bc-f699bf0f6406",
   "metadata": {
    "tags": []
   },
   "source": [
    "# Section 5/6 Outputs"
   ]
  },
  {
   "cell_type": "code",
   "execution_count": 8,
   "id": "3faf31ff-85c2-4fe8-b889-a750f80b4d8c",
   "metadata": {},
   "outputs": [
    {
     "data": {
      "application/javascript": "\n            require(\n                [\n                    \"notebook/js/codecell\",\n                    \"codemirror/mode/yaml/yaml\"\n                ],\n                function(cc){\n                    cc.CodeCell.options_default.highlight_modes.magic_yaml = {\n                        reg: [\"^%%yaml\"]\n                    }\n                }\n            );\n            ",
      "text/plain": [
       "<IPython.core.display.Javascript object>"
      ]
     },
     "metadata": {},
     "output_type": "display_data"
    }
   ],
   "source": [
    "%%yaml outputs\n",
    "outputs:\n",
    "- id: model_r_script\n",
    "  type: File\n",
    "  outputBinding:\n",
    "    glob: '*model.r'\n",
    "- id: sorted_peaks\n",
    "  type: File\n",
    "  outputBinding:\n",
    "    glob: '*narrowPeak.sorted'\n",
    "- id: peaks_xls\n",
    "  type: File\n",
    "  outputBinding:\n",
    "    glob: '*peaks.xls'\n",
    "- id: summits\n",
    "  type: File\n",
    "  outputBinding:\n",
    "    glob: '*summits.bed'\n"
   ]
  },
  {
   "cell_type": "markdown",
   "id": "3eaca7ad-03c5-44bf-af83-488847967d4a",
   "metadata": {
    "tags": []
   },
   "source": [
    "# Section 6/6 Misc settings"
   ]
  },
  {
   "cell_type": "code",
   "execution_count": 9,
   "id": "61c3be34-0410-4b9d-a7b7-3fc3ad5e9473",
   "metadata": {},
   "outputs": [
    {
     "data": {
      "application/javascript": "\n            require(\n                [\n                    \"notebook/js/codecell\",\n                    \"codemirror/mode/yaml/yaml\"\n                ],\n                function(cc){\n                    cc.CodeCell.options_default.highlight_modes.magic_yaml = {\n                        reg: [\"^%%yaml\"]\n                    }\n                }\n            );\n            ",
      "text/plain": [
       "<IPython.core.display.Javascript object>"
      ]
     },
     "metadata": {},
     "output_type": "display_data"
    }
   ],
   "source": [
    "%%yaml misc_settings\n",
    "### below is boiler plate and rarely changes\n",
    "cwlVersion: v1.2\n",
    "class: CommandLineTool\n",
    "\n",
    "$namespaces:\n",
    "  sbg: https://sevenbridges.com\n",
    "  \n",
    "hints:\n",
    "- class: sbg:SaveLogs\n",
    "  value: '*.sh'  "
   ]
  },
  {
   "cell_type": "markdown",
   "id": "ae1d8c0b-70f1-4cd6-815e-249ce0590e95",
   "metadata": {
    "tags": []
   },
   "source": [
    "# Push tool to platform"
   ]
  },
  {
   "cell_type": "code",
   "execution_count": 10,
   "id": "136a0f92-56f9-490a-aa5e-c9e0c6aa81e4",
   "metadata": {},
   "outputs": [],
   "source": [
    "api_token = getpass.getpass()"
   ]
  },
  {
   "cell_type": "code",
   "execution_count": 11,
   "id": "d410af03-2808-4de8-bb5f-a42c56613796",
   "metadata": {},
   "outputs": [],
   "source": [
    "api = Api(url = \"https://api.sb.biodatacatalyst.nhlbi.nih.gov/v2\",  token = api_token)"
   ]
  },
  {
   "cell_type": "code",
   "execution_count": 12,
   "id": "95e0be18",
   "metadata": {},
   "outputs": [],
   "source": [
    "with open('macs2_call_peaks.cwl', 'w') as f:\n",
    "    data = yaml.dump(label | inputs | base_command | requirements | outputs | misc_settings, f, sort_keys=False, default_flow_style=False)"
   ]
  },
  {
   "cell_type": "code",
   "execution_count": 13,
   "id": "c56cecbd-873c-4f0f-9404-caf6dc1700be",
   "metadata": {},
   "outputs": [
    {
     "data": {
      "text/plain": [
       "<App: id=dave/abc-development-scratch-project/macs2-call-peaks rev=19>"
      ]
     },
     "execution_count": 13,
     "metadata": {},
     "output_type": "execute_result"
    }
   ],
   "source": [
    "api.apps.install_app(\n",
    "    id='dave/abc-development-scratch-project/macs2-call-peaks/19',\n",
    "    raw=label | inputs | base_command | requirements | outputs | misc_settings)"
   ]
  },
  {
   "cell_type": "markdown",
   "id": "40f71438-46b5-4743-b9d2-052354084692",
   "metadata": {
    "tags": []
   },
   "source": [
    "# Push this notebook to files tab"
   ]
  },
  {
   "cell_type": "code",
   "execution_count": 23,
   "id": "7b5b7b44-926f-4841-96e3-a1dce28d0dd0",
   "metadata": {},
   "outputs": [],
   "source": [
    "upload = api.files.upload(\n",
    "    path='macs2_call_peaks.cwl.ipynb',\n",
    "    overwrite=True,\n",
    "    parent = \"644299a6dc22f20baf6998fc\",\n",
    ")\n"
   ]
  },
  {
   "cell_type": "markdown",
   "id": "d392f473-1127-49ef-a70f-7728a0df3639",
   "metadata": {
    "tags": []
   },
   "source": [
    "# References"
   ]
  },
  {
   "cell_type": "markdown",
   "id": "1a715203-62c9-4da6-9d58-499d2372663e",
   "metadata": {},
   "source": [
    "https://docs.sevenbridges.com/reference/add-an-app-using-raw-cwl"
   ]
  }
 ],
 "metadata": {
  "kernelspec": {
   "display_name": "Python 3 (ipykernel)",
   "language": "python",
   "name": "python3"
  },
  "language_info": {
   "codemirror_mode": {
    "name": "ipython",
    "version": 3
   },
   "file_extension": ".py",
   "mimetype": "text/x-python",
   "name": "python",
   "nbconvert_exporter": "python",
   "pygments_lexer": "ipython3",
   "version": "3.10.4"
  },
  "toc-autonumbering": false,
  "toc-showcode": false,
  "toc-showmarkdowntxt": true
 },
 "nbformat": 4,
 "nbformat_minor": 5
}
