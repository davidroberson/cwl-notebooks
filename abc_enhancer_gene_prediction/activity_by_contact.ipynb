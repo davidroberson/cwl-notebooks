{
 "cells": [
  {
   "cell_type": "markdown",
   "id": "7112838c-3352-4741-a828-bcba8a6cb663",
   "metadata": {},
   "source": [
    "# Macs2 Call Peaks and Make Candidate Regions"
   ]
  },
  {
   "cell_type": "markdown",
   "id": "54c44157-57c0-4dd4-9150-7c2445c67948",
   "metadata": {},
   "source": [
    "![](abc_step01_workflow_graph.svg)\n",
    "\n"
   ]
  },
  {
   "cell_type": "markdown",
   "id": "00bfacfa-b8a5-4b6f-b174-2fd602640ae7",
   "metadata": {},
   "source": [
    "Install some thigs"
   ]
  },
  {
   "cell_type": "code",
   "execution_count": 5,
   "id": "026c37c5-3fc4-4eeb-8a1e-9a7bcf6f089f",
   "metadata": {},
   "outputs": [
    {
     "name": "stderr",
     "output_type": "stream",
     "text": [
      "ERROR: pip's dependency resolver does not currently take into account all the packages that are installed. This behaviour is the source of the following dependency conflicts.\n",
      "nbconvert 6.1.0 requires mistune<2,>=0.8.1, but you have mistune 2.0.5 which is incompatible.\n"
     ]
    }
   ],
   "source": [
    "%%sh --out temp_out\n",
    "pip install cwltool udocker sbpack"
   ]
  },
  {
   "cell_type": "code",
   "execution_count": 6,
   "id": "d8977af3-2a91-408d-8fe3-0d843438b7cb",
   "metadata": {},
   "outputs": [],
   "source": [
    "%%sh\n",
    "cp -r .sevenbridges ~/"
   ]
  },
  {
   "cell_type": "code",
   "execution_count": 7,
   "id": "6bbc27b5-d93d-4c2f-a4ea-1ec848b38464",
   "metadata": {},
   "outputs": [
    {
     "name": "stderr",
     "output_type": "stream",
     "text": [
      "1: abc_step01_wf.cwl\n",
      "2: abc_step01_wf.cwl.steps/macs2_call_peaks.cwl\n",
      "3: abc_step01_wf.cwl.steps/makecandidateregions.cwl\n"
     ]
    }
   ],
   "source": [
    "%%sh\n",
    "sbpull nhlbi --unpack dave/abc-development-scratch-project/abc_step01 abc_step01_wf.cwl"
   ]
  },
  {
   "cell_type": "code",
   "execution_count": null,
   "id": "e3996f18-46f3-451e-91e5-52be89d95395",
   "metadata": {},
   "outputs": [],
   "source": [
    "%%writefile run_step01_wf.sh\n",
    "cwltool --udocker --verbose abc_step01_wf.cwl \\\n",
    "    --bam /sbgenomics/project-files/organized_files/ABC-Enhancer-Gene-Prediction/example_chr22/input_data/Chromatin/wgEncodeUwDnaseK562AlnRep1.chr22.bam \\\n",
    "    --sort_order /sbgenomics/project-files/ABC-Enhancer-Gene-Prediction/example_chr22/reference/chr22 \\\n",
    "    --regions_includelist /sbgenomics/project-files/organized_files/ABC-Enhancer-Gene-Prediction/example_chr22/reference/RefSeqCurated.170308.bed.CollapsedGeneBounds.TSS500bp.chr22.bed \\\n",
    "    --regions_blocklist /sbgenomics/project-files/organized_files/ABC-Enhancer-Gene-Prediction/reference/wgEncodeHg19ConsensusSignalArtifactRegions.bed\n"
   ]
  },
  {
   "cell_type": "code",
   "execution_count": null,
   "id": "863d675e-5391-49cf-bc23-a4b582b157fa",
   "metadata": {},
   "outputs": [],
   "source": [
    "%%sh --out temp \n",
    "bash run_step01_wf.sh > standard.out"
   ]
  },
  {
   "cell_type": "markdown",
   "id": "fdcf312f-1bdc-4b4a-99bb-3b0cd4e455ad",
   "metadata": {},
   "source": [
    "print(temp)"
   ]
  },
  {
   "cell_type": "code",
   "execution_count": null,
   "id": "db81eaf2-696b-4cf0-b3fc-56cba52199bb",
   "metadata": {},
   "outputs": [],
   "source": [
    "%%sh\n",
    "grep -v 'sbg:' abc_step01_wf.cwl\n",
    "\n"
   ]
  },
  {
   "cell_type": "code",
   "execution_count": null,
   "id": "4bdb0a60-a0aa-4992-8ea1-3d270e64a68c",
   "metadata": {},
   "outputs": [],
   "source": [
    "sudo apt-get update\n",
    "sudo apt-get install graphviz"
   ]
  },
  {
   "cell_type": "code",
   "execution_count": 16,
   "id": "cb39df41-2c56-4566-b357-b65fcfd2208d",
   "metadata": {},
   "outputs": [],
   "source": [
    "%%sh --out temp_out --no-raise-error --err ERR\n",
    "cwltool --print-dot abc_step01_wf.cwl | dot -Tsvg > abc_step01_workflow_graph.svg\n",
    "\n"
   ]
  }
 ],
 "metadata": {
  "kernelspec": {
   "display_name": "Python 3 (ipykernel)",
   "language": "python",
   "name": "python3"
  },
  "language_info": {
   "codemirror_mode": {
    "name": "ipython",
    "version": 3
   },
   "file_extension": ".py",
   "mimetype": "text/x-python",
   "name": "python",
   "nbconvert_exporter": "python",
   "pygments_lexer": "ipython3",
   "version": "3.9.6"
  }
 },
 "nbformat": 4,
 "nbformat_minor": 5
}
