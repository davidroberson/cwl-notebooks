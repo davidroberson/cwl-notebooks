{
 "cells": [
  {
   "cell_type": "markdown",
   "id": "00bfacfa-b8a5-4b6f-b174-2fd602640ae7",
   "metadata": {},
   "source": [
    "Install some thigs"
   ]
  },
  {
   "cell_type": "code",
   "execution_count": 2,
   "id": "026c37c5-3fc4-4eeb-8a1e-9a7bcf6f089f",
   "metadata": {},
   "outputs": [
    {
     "name": "stderr",
     "output_type": "stream",
     "text": [
      "ERROR: pip's dependency resolver does not currently take into account all the packages that are installed. This behaviour is the source of the following dependency conflicts.\n",
      "nbconvert 6.1.0 requires mistune<2,>=0.8.1, but you have mistune 2.0.5 which is incompatible.\n"
     ]
    }
   ],
   "source": [
    "%%sh --out temp_out\n",
    "pip install cwltool udocker sbpack"
   ]
  },
  {
   "cell_type": "code",
   "execution_count": 8,
   "id": "d8977af3-2a91-408d-8fe3-0d843438b7cb",
   "metadata": {},
   "outputs": [],
   "source": [
    "%%sh\n",
    "cp -r .sevenbridges ~/"
   ]
  },
  {
   "cell_type": "code",
   "execution_count": 10,
   "id": "6bbc27b5-d93d-4c2f-a4ea-1ec848b38464",
   "metadata": {},
   "outputs": [
    {
     "name": "stderr",
     "output_type": "stream",
     "text": [
      "Saving dave/abc-development-scratch-project/abc_step01 to /sbgenomics/workspace/abc_step01_wf.cwl\n"
     ]
    }
   ],
   "source": [
    "%%sh\n",
    "sbpull nhlbi dave/abc-development-scratch-project/abc_step01 abc_step01_wf.cwl"
   ]
  },
  {
   "cell_type": "code",
   "execution_count": 15,
   "id": "e3996f18-46f3-451e-91e5-52be89d95395",
   "metadata": {},
   "outputs": [
    {
     "name": "stdout",
     "output_type": "stream",
     "text": [
      "Overwriting run_step01_wf.sh\n"
     ]
    }
   ],
   "source": [
    "%%writefile run_step01_wf.sh\n",
    "cwltool --udocker --verbose abc_step01_wf.cwl \\\n",
    "    --bam /sbgenomics/project-files/organized_files/ABC-Enhancer-Gene-Prediction/example_chr22/input_data/Chromatin/wgEncodeUwDnaseK562AlnRep1.chr22.bam \\\n",
    "    --sort_order /sbgenomics/project-files/ABC-Enhancer-Gene-Prediction/example_chr22/reference/chr22 \\\n",
    "    --regions_includelist /sbgenomics/project-files/organized_files/ABC-Enhancer-Gene-Prediction/example_chr22/reference/RefSeqCurated.170308.bed.CollapsedGeneBounds.TSS500bp.chr22.bed \\\n",
    "    --regions_blocklist /sbgenomics/project-files/organized_files/ABC-Enhancer-Gene-Prediction/reference/wgEncodeHg19ConsensusSignalArtifactRegions.bed\n"
   ]
  },
  {
   "cell_type": "code",
   "execution_count": null,
   "id": "863d675e-5391-49cf-bc23-a4b582b157fa",
   "metadata": {},
   "outputs": [],
   "source": [
    "%%sh\n",
    "bash run_step01_wf.sh > standard.out"
   ]
  },
  {
   "cell_type": "markdown",
   "id": "fdcf312f-1bdc-4b4a-99bb-3b0cd4e455ad",
   "metadata": {},
   "source": []
  }
 ],
 "metadata": {
  "kernelspec": {
   "display_name": "Python 3 (ipykernel)",
   "language": "python",
   "name": "python3"
  },
  "language_info": {
   "codemirror_mode": {
    "name": "ipython",
    "version": 3
   },
   "file_extension": ".py",
   "mimetype": "text/x-python",
   "name": "python",
   "nbconvert_exporter": "python",
   "pygments_lexer": "ipython3",
   "version": "3.9.6"
  }
 },
 "nbformat": 4,
 "nbformat_minor": 5
}
