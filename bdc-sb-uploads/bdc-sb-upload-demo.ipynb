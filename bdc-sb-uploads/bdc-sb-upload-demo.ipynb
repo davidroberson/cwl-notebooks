{
 "cells": [
  {
   "attachments": {
    "image.png": {
     "image/png": "[encoded data removed]"
    }
   },
   "cell_type": "markdown",
   "metadata": {},
   "source": [
    "![image.png](attachment:image.png)"
   ]
  },
  {
   "cell_type": "markdown",
   "metadata": {},
   "source": [
    "# BDC - Seven Bridges Upload and File Tagging / Metadata Demo"
   ]
  },
  {
   "attachments": {},
   "cell_type": "markdown",
   "metadata": {},
   "source": [
    "## Install Seven Bridges CLI for Uploads\n",
    "\n",
    "https://sb-biodatacatalyst.readme.io/docs/command-line-interface\n"
   ]
  },
  {
   "cell_type": "code",
   "execution_count": 4,
   "metadata": {
    "vscode": {
     "languageId": "shellscript"
    }
   },
   "outputs": [],
   "source": [
    "%%script true\n",
    "curl https://igor.sbgenomics.com/downloads/sb/install.sh -sSf | sudo sh\n"
   ]
  },
  {
   "attachments": {},
   "cell_type": "markdown",
   "metadata": {},
   "source": [
    "## configure crendentials\n",
    "\n",
    "https://sb-biodatacatalyst.readme.io/docs/command-line-interface#configure-credentials"
   ]
  },
  {
   "cell_type": "code",
   "execution_count": 2,
   "metadata": {
    "vscode": {
     "languageId": "shellscript"
    }
   },
   "outputs": [],
   "source": [
    "%%script true \n",
    "sb configure\n"
   ]
  },
  {
   "attachments": {},
   "cell_type": "markdown",
   "metadata": {},
   "source": [
    "Seven Bridges API endpoint [https://api.sbgenomics.com/v2/]: https://api.sb.biodatacatalyst.nhlbi.nih.gov/v2  \n",
    "Seven Bridges authorization token [None]: [find it here https://platform.sb.biodatacatalyst.nhlbi.nih.gov/developer/token]  \n",
    "Seven Bridges advance access (true/false) [false]: true  "
   ]
  },
  {
   "attachments": {},
   "cell_type": "markdown",
   "metadata": {},
   "source": [
    "## start uploads"
   ]
  },
  {
   "cell_type": "code",
   "execution_count": 6,
   "metadata": {
    "vscode": {
     "languageId": "shellscript"
    }
   },
   "outputs": [],
   "source": [
    "%%script true\n",
    "sb upload start --destination <destination_value> [<input> | --manifest-file <manifest-file_value>] [--name <name_value>] [--chunk-size <chunk-size_value>] \\\n",
    "[--parallel <parallel_value>] [--speed-limit <speed-limit_value>] [--overwrite] [--autorename] [--tag <tag_value>] [flags] "
   ]
  },
  {
   "cell_type": "code",
   "execution_count": null,
   "metadata": {
    "vscode": {
     "languageId": "shellscript"
    }
   },
   "outputs": [],
   "source": []
  },
  {
   "attachments": {},
   "cell_type": "markdown",
   "metadata": {},
   "source": [
    "## Install Seven Bridges API Python Client for Metadata Management"
   ]
  },
  {
   "cell_type": "code",
   "execution_count": null,
   "metadata": {},
   "outputs": [],
   "source": []
  },
  {
   "cell_type": "code",
   "execution_count": null,
   "metadata": {},
   "outputs": [],
   "source": []
  },
  {
   "cell_type": "code",
   "execution_count": null,
   "metadata": {},
   "outputs": [],
   "source": []
  },
  {
   "cell_type": "markdown",
   "metadata": {},
   "source": []
  }
 ],
 "metadata": {
  "kernelspec": {
   "display_name": "Python 3",
   "language": "python",
   "name": "python3"
  },
  "language_info": {
   "codemirror_mode": {
    "name": "ipython",
    "version": 3
   },
   "file_extension": ".py",
   "mimetype": "text/x-python",
   "name": "python",
   "nbconvert_exporter": "python",
   "pygments_lexer": "ipython3",
   "version": "3.10.4"
  },
  "orig_nbformat": 4
 },
 "nbformat": 4,
 "nbformat_minor": 2
}
